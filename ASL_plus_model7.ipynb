{
  "nbformat": 4,
  "nbformat_minor": 0,
  "metadata": {
    "colab": {
      "name": " ASL plus model7.ipynb",
      "provenance": [],
      "collapsed_sections": [],
      "machine_shape": "hm",
      "include_colab_link": true
    },
    "kernelspec": {
      "name": "python3",
      "display_name": "Python 3"
    },
    "language_info": {
      "name": "python"
    },
    "accelerator": "GPU"
  },
  "cells": [
    {
      "cell_type": "markdown",
      "metadata": {
        "id": "view-in-github",
        "colab_type": "text"
      },
      "source": [
        "<a href=\"https://colab.research.google.com/github/idontcalculate/DAT5/blob/master/ASL_plus_model7.ipynb\" target=\"_parent\"><img src=\"https://colab.research.google.com/assets/colab-badge.svg\" alt=\"Open In Colab\"/></a>"
      ]
    },
    {
      "cell_type": "markdown",
      "metadata": {
        "id": "b79rWmybZF9F"
      },
      "source": [
        "# ASL to Text"
      ]
    },
    {
      "cell_type": "code",
      "metadata": {
        "id": "1LZUVfm5KqeO"
      },
      "source": [
        "import tensorflow as tf\n",
        "import numpy as np\n",
        "import pandas as pd\n",
        "import matplotlib.pyplot as plt\n",
        "import seaborn as sns"
      ],
      "execution_count": null,
      "outputs": []
    },
    {
      "cell_type": "code",
      "metadata": {
        "colab": {
          "base_uri": "https://localhost:8080/"
        },
        "id": "YtdtHUcebMHp",
        "outputId": "753a21ee-bd1e-4578-eb85-a87c958a88d7"
      },
      "source": [
        "!pip install kaggle\n",
        "!mkdir /root/.kaggle/\n",
        "!touch /root/.kaggle/kaggle.json\n",
        "!echo '{\"username\":\"tensorflowcolab\",\"key\":\"883e5dc4a7759495e6fb43d9d5138528\"}' > /root/.kaggle/kaggle.json\n",
        "!chmod 600 /root/.kaggle/kaggle.json\n",
        "!kaggle -h\n",
        "!kaggle datasets download -d grassknoted/asl-alphabet"
      ],
      "execution_count": null,
      "outputs": [
        {
          "output_type": "stream",
          "text": [
            "Requirement already satisfied: kaggle in /usr/local/lib/python3.7/dist-packages (1.5.12)\n",
            "Requirement already satisfied: six>=1.10 in /usr/local/lib/python3.7/dist-packages (from kaggle) (1.15.0)\n",
            "Requirement already satisfied: requests in /usr/local/lib/python3.7/dist-packages (from kaggle) (2.23.0)\n",
            "Requirement already satisfied: tqdm in /usr/local/lib/python3.7/dist-packages (from kaggle) (4.41.1)\n",
            "Requirement already satisfied: urllib3 in /usr/local/lib/python3.7/dist-packages (from kaggle) (1.24.3)\n",
            "Requirement already satisfied: python-slugify in /usr/local/lib/python3.7/dist-packages (from kaggle) (5.0.2)\n",
            "Requirement already satisfied: python-dateutil in /usr/local/lib/python3.7/dist-packages (from kaggle) (2.8.1)\n",
            "Requirement already satisfied: certifi in /usr/local/lib/python3.7/dist-packages (from kaggle) (2021.5.30)\n",
            "Requirement already satisfied: idna<3,>=2.5 in /usr/local/lib/python3.7/dist-packages (from requests->kaggle) (2.10)\n",
            "Requirement already satisfied: chardet<4,>=3.0.2 in /usr/local/lib/python3.7/dist-packages (from requests->kaggle) (3.0.4)\n",
            "Requirement already satisfied: text-unidecode>=1.3 in /usr/local/lib/python3.7/dist-packages (from python-slugify->kaggle) (1.3)\n",
            "usage: kaggle [-h] [-v] {competitions,c,datasets,d,kernels,k,config} ...\n",
            "\n",
            "optional arguments:\n",
            "  -h, --help            show this help message and exit\n",
            "  -v, --version         show program's version number and exit\n",
            "\n",
            "commands:\n",
            "  {competitions,c,datasets,d,kernels,k,config}\n",
            "                        Use one of:\n",
            "                        competitions {list, files, download, submit, submissions, leaderboard}\n",
            "                        datasets {list, files, download, create, version, init, metadata, status}\n",
            "                        config {view, set, unset}\n",
            "    competitions        Commands related to Kaggle competitions\n",
            "    datasets            Commands related to Kaggle datasets\n",
            "    kernels             Commands related to Kaggle kernels\n",
            "    config              Configuration settings\n",
            "Downloading asl-alphabet.zip to /content\n",
            "100% 1.02G/1.03G [00:09<00:00, 94.6MB/s]\n",
            "100% 1.03G/1.03G [00:10<00:00, 110MB/s] \n"
          ],
          "name": "stdout"
        }
      ]
    },
    {
      "cell_type": "code",
      "metadata": {
        "id": "pvW7VPojnvNO",
        "colab": {
          "base_uri": "https://localhost:8080/"
        },
        "outputId": "a6a14d36-dc19-4966-aba2-5c017a444776"
      },
      "source": [
        "print(\"Let's start\")"
      ],
      "execution_count": null,
      "outputs": [
        {
          "output_type": "stream",
          "text": [
            "Let's start\n"
          ],
          "name": "stdout"
        }
      ]
    },
    {
      "cell_type": "code",
      "metadata": {
        "id": "5CrQZc2EsaIF"
      },
      "source": [
        "from zipfile import ZipFile\n"
      ],
      "execution_count": null,
      "outputs": []
    },
    {
      "cell_type": "code",
      "metadata": {
        "colab": {
          "base_uri": "https://localhost:8080/"
        },
        "id": "BlA4b9W8d9A_",
        "outputId": "9ca9fcb0-14eb-41d8-a285-c5690ec0cf87"
      },
      "source": [
        "!wget kaggle datasets download -d https://www.kaggle.com/grassknoted/asl-alphabet"
      ],
      "execution_count": null,
      "outputs": [
        {
          "output_type": "stream",
          "text": [
            "DEBUG output created by Wget 1.19.4 on linux-gnu.\n",
            "\n",
            "Reading HSTS entries from /root/.wget-hsts\n",
            "URI encoding = ‘UTF-8’\n",
            "Converted file name 'index.html' (UTF-8) -> 'index.html' (UTF-8)\n",
            "--2021-07-11 12:33:34--  http://kaggle/\n",
            "Resolving kaggle (kaggle)... failed: Name or service not known.\n",
            "wget: unable to resolve host address ‘kaggle’\n",
            "URI encoding = ‘UTF-8’\n",
            "Converted file name 'index.html' (UTF-8) -> 'index.html' (UTF-8)\n",
            "--2021-07-11 12:33:34--  http://datasets/\n",
            "Resolving datasets (datasets)... failed: Name or service not known.\n",
            "wget: unable to resolve host address ‘datasets’\n",
            "URI encoding = ‘UTF-8’\n",
            "Converted file name 'index.html' (UTF-8) -> 'index.html' (UTF-8)\n",
            "--2021-07-11 12:33:34--  http://download/\n",
            "Resolving download (download)... failed: No address associated with hostname.\n",
            "wget: unable to resolve host address ‘download’\n",
            "URI encoding = ‘UTF-8’\n",
            "Converted file name 'asl-alphabet' (UTF-8) -> 'asl-alphabet' (UTF-8)\n",
            "--2021-07-11 12:33:34--  https://www.kaggle.com/grassknoted/asl-alphabet\n",
            "Resolving www.kaggle.com (www.kaggle.com)... 35.244.233.98\n",
            "Caching www.kaggle.com => 35.244.233.98\n",
            "Connecting to www.kaggle.com (www.kaggle.com)|35.244.233.98|:443... connected.\n",
            "Created socket 5.\n",
            "Releasing 0x000055a0dd326840 (new refcount 1).\n",
            "Initiating SSL handshake.\n",
            "Handshake successful; connected socket 5 to SSL handle 0x000055a0dd332000\n",
            "certificate:\n",
            "  subject: CN=www.kaggle.com\n",
            "  issuer:  CN=GTS CA 1D4,O=Google Trust Services LLC,C=US\n",
            "X509 certificate successfully verified and matches host www.kaggle.com\n",
            "\n",
            "---request begin---\n",
            "GET /grassknoted/asl-alphabet HTTP/1.1\n",
            "User-Agent: Wget/1.19.4 (linux-gnu)\n",
            "Accept: */*\n",
            "Accept-Encoding: identity\n",
            "Host: www.kaggle.com\n",
            "Connection: Keep-Alive\n",
            "\n",
            "---request end---\n",
            "HTTP request sent, awaiting response... \n",
            "---response begin---\n",
            "HTTP/1.1 200 OK\n",
            "Date: Sun, 11 Jul 2021 12:33:33 GMT\n",
            "Content-Type: text/html; charset=utf-8\n",
            "Cache-Control: no-cache, no-store\n",
            "Pragma: no-cache\n",
            "Transfer-Encoding: chunked\n",
            "Set-Cookie: ka_sessionid=4f711ffaf23977f8aeb1c34a1d398392; max-age=2626560; path=/\n",
            "Set-Cookie: CSRF-TOKEN=CfDJ8LdUzqlsSWBPr4Ce3rb9VL8C8htqSX84HuaO2BvE18zdeY4I0GEvcPIPMaOk6WrjHWWTUsyIbeCFnxqFIsaoh8SuEiRRPMjY2EgdyRESvouStXvwt4xn7wcXEn94wA39NCuhiI9RFvjsWdRgw29PSCo; path=/; secure; samesite=lax; httponly\n",
            "Set-Cookie: XSRF-TOKEN=CfDJ8LdUzqlsSWBPr4Ce3rb9VL8l5IxoL2Zk3zAX6oCC5pPk7fJrslkOhYDY3BpwB445wKtifzja-XN1mn4To10jI2p3KXCD9BnNtZz9sBzt7Ip62JxqQVjozrQQFSiHs26xnKSpU61bxyhsKAZA5u_3pBs; path=/; secure; samesite=lax\n",
            "Set-Cookie: CLIENT-TOKEN=eyJhbGciOiJub25lIiwidHlwIjoiSldUIn0.eyJpc3MiOiJrYWdnbGUiLCJhdWQiOiJjbGllbnQiLCJzdWIiOm51bGwsIm5idCI6IjIwMjEtMDctMTFUMTI6MzM6MzQuNTIzOTg3NVoiLCJpYXQiOiIyMDIxLTA3LTExVDEyOjMzOjM0LjUyMzk4NzVaIiwianRpIjoiN2I4MDk0OTMtNWMyMS00YTE2LTljMGYtZjRhZTk2NmM3MGRlIiwiZXhwIjoiMjAyMS0wOC0xMVQxMjozMzozNC41MjM5ODc1WiIsImFub24iOnRydWUsImZmIjpbIkRvY2tlck1vZGFsU2VsZWN0b3IiLCJBY3RpdmVFdmVudHMiLCJHY2xvdWRLZXJuZWxJbnRlZyIsIktlcm5lbEVkaXRvckNvcmdpTW9kZSIsIkNhaXBFeHBvcnQiLCJDYWlwTnVkZ2UiLCJLZXJuZWxzRmlyZWJhc2VMb25nUG9sbGluZyIsIktlcm5lbHNQcmV2ZW50U3RvcHBlZFRvU3RhcnRpbmdUcmFuc2l0aW9uIiwiS2VybmVsc1BvbGxRdW90YSIsIktlcm5lbHNRdW90YU1vZGFscyIsIkRhdGFzZXRzRGF0YUV4cGxvcmVyVjNUcmVlTGVmdCIsIkF2YXRhclByb2ZpbGVQcmV2aWV3IiwiRGF0YXNldHNEYXRhRXhwbG9yZXJWM0NoZWNrRm9yVXBkYXRlcyIsIkRhdGFzZXRzRGF0YUV4cGxvcmVyVjNDaGVja0ZvclVwZGF0ZXNJbkJhY2tncm91bmQiLCJLZXJuZWxzU3RhY2tPdmVyZmxvd1NlYXJjaCIsIktlcm5lbHNNYXRlcmlhbExpc3RpbmciLCJEYXRhc2V0c01hdGVyaWFsRGV0YWlsIiwiRGF0YXNldHNNYXRlcmlhbExpc3RDb21wb25lbnQiLCJDb21wZXRpdGlvbkRhdGFzZXRzIiwiRGlzY3Vzc2lvbnNVcHZvdGVTcGFtV2FybmluZyIsIlRhZ3NMZWFybkFuZERpc2N1c3Npb25zVUkiLCJOb1JlbG9hZEV4cGVyaW1lbnQiLCJOb3RlYm9va3NMYW5kaW5nUGFnZSIsIkRhdGFzZXRzRnJvbUdjcyIsIlRQVUNvbW1pdFNjaGVkdWxpbmciLCJDb21taXRTY2hlZHVsaW5nIiwiRW1haWxTaWdudXBOdWRnZXMiLCJLZXJuZWxzTGVzc1JhcGlkQXV0b1NhdmUiLCJCb29rbWFya3NVSSIsIkJvb2ttYXJrc0NvbXBzVUkiLCJDb21wZXRpdGlvbnNLbUxhbmRpbmciLCJLZXJuZWxWaWV3ZXJIaWRlRmFrZUV4aXRMb2dUaW1lIiwiRGF0YXNldExhbmRpbmdQYWdlUm90YXRpbmdTaGVsdmVzIiwiTGVhcm5MYW5kaW5nRGVmYXVsdExpc3QiLCJMb3dlckRhdGFzZXRIZWFkZXJJbWFnZU1pblJlcyIsIk5ld0Rpc2N1c3Npb25zTGFuZGluZyIsIk5ld0Rpc2N1c3Npb25zTGFuZGluZzJMaW5lIiwiRGlzY3Vzc2lvbkxpc3RpbmdJbXByb3ZlbWVudHMiLCJSZWdpc3RyYXRpb25OZXdzRW1haWxTaWdudXBJc09wdE91dCIsIktNTGVhcm5MYW5kaW5nVGVzdFZlcnNpb25CIl0sInBpZCI6ImthZ2dsZS0xNjE2MDciLCJzdmMiOiJ3ZWItZmUiLCJzZGFrIjoiQUl6YVN5QTRlTnFVZFJSc2tKc0NaV1Z6LXFMNjU1WGE1SkVNcmVFIiwiYmxkIjoiYzMwNGJkMjZkZmM2OWNiYzI2MDEwNmMxNzgzYjAwMWFmOWE5NTcyMiJ9.; path=/; secure; samesite=lax\n",
            "Vary: Accept-Encoding\n",
            "Turbolinks-Location: https://www.kaggle.com/grassknoted/asl-alphabet\n",
            "X-Frame-Options: SAMEORIGIN\n",
            "Strict-Transport-Security: max-age=63072000; includeSubDomains; preload\n",
            "Content-Security-Policy: object-src 'none'; script-src 'nonce-P0kPAQ+HUob4ZqceAoKcAw==' 'report-sample' 'unsafe-inline' 'unsafe-eval' 'strict-dynamic' https: http:; frame-src 'self' https://www.kaggleusercontent.com https://www.youtube.com/embed/ https://polygraph-cool.github.io https://www.google.com/recaptcha/ https://form.jotform.com https://submit.jotform.us https://submit.jotformpro.com https://submit.jotform.com https://www.docdroid.com https://www.docdroid.net https://kaggle-static.storage.googleapis.com https://kaggle-static-staging.storage.googleapis.com https://kkb-dev.jupyter-proxy.kaggle.net https://kkb-staging.jupyter-proxy.kaggle.net https://kkb-production.jupyter-proxy.kaggle.net https://kkb-production.firebaseapp.com https://apis.google.com https://content-sheets.googleapis.com/ https://accounts.google.com/ https://storage.googleapis.com https://docs.google.com; base-uri 'none'; report-uri https://csp.withgoogle.com/csp/kaggle/20201130;\n",
            "X-Content-Type-Options: nosniff\n",
            "Referrer-Policy: strict-origin-when-cross-origin\n",
            "Via: 1.1 google\n",
            "Set-Cookie: GCLB=CO6bkPu01bjhQA; path=/; HttpOnly\n",
            "Alt-Svc: clear\n",
            "\n",
            "---response end---\n",
            "200 OK\n",
            "\n",
            "Stored cookie www.kaggle.com -1 (ANY) / <permanent> <insecure> [expiry 2021-08-10 22:09:34] ka_sessionid 4f711ffaf23977f8aeb1c34a1d398392\n",
            "\n",
            "Stored cookie www.kaggle.com -1 (ANY) / <session> <secure> [expiry none] CSRF-TOKEN CfDJ8LdUzqlsSWBPr4Ce3rb9VL8C8htqSX84HuaO2BvE18zdeY4I0GEvcPIPMaOk6WrjHWWTUsyIbeCFnxqFIsaoh8SuEiRRPMjY2EgdyRESvouStXvwt4xn7wcXEn94wA39NCuhiI9RFvjsWdRgw29PSCo\n",
            "\n",
            "Stored cookie www.kaggle.com -1 (ANY) / <session> <secure> [expiry none] XSRF-TOKEN CfDJ8LdUzqlsSWBPr4Ce3rb9VL8l5IxoL2Zk3zAX6oCC5pPk7fJrslkOhYDY3BpwB445wKtifzja-XN1mn4To10jI2p3KXCD9BnNtZz9sBzt7Ip62JxqQVjozrQQFSiHs26xnKSpU61bxyhsKAZA5u_3pBs\n",
            "\n",
            "Stored cookie www.kaggle.com -1 (ANY) / <session> <secure> [expiry none] CLIENT-TOKEN eyJhbGciOiJub25lIiwidHlwIjoiSldUIn0.eyJpc3MiOiJrYWdnbGUiLCJhdWQiOiJjbGllbnQiLCJzdWIiOm51bGwsIm5idCI6IjIwMjEtMDctMTFUMTI6MzM6MzQuNTIzOTg3NVoiLCJpYXQiOiIyMDIxLTA3LTExVDEyOjMzOjM0LjUyMzk4NzVaIiwianRpIjoiN2I4MDk0OTMtNWMyMS00YTE2LTljMGYtZjRhZTk2NmM3MGRlIiwiZXhwIjoiMjAyMS0wOC0xMVQxMjozMzozNC41MjM5ODc1WiIsImFub24iOnRydWUsImZmIjpbIkRvY2tlck1vZGFsU2VsZWN0b3IiLCJBY3RpdmVFdmVudHMiLCJHY2xvdWRLZXJuZWxJbnRlZyIsIktlcm5lbEVkaXRvckNvcmdpTW9kZSIsIkNhaXBFeHBvcnQiLCJDYWlwTnVkZ2UiLCJLZXJuZWxzRmlyZWJhc2VMb25nUG9sbGluZyIsIktlcm5lbHNQcmV2ZW50U3RvcHBlZFRvU3RhcnRpbmdUcmFuc2l0aW9uIiwiS2VybmVsc1BvbGxRdW90YSIsIktlcm5lbHNRdW90YU1vZGFscyIsIkRhdGFzZXRzRGF0YUV4cGxvcmVyVjNUcmVlTGVmdCIsIkF2YXRhclByb2ZpbGVQcmV2aWV3IiwiRGF0YXNldHNEYXRhRXhwbG9yZXJWM0NoZWNrRm9yVXBkYXRlcyIsIkRhdGFzZXRzRGF0YUV4cGxvcmVyVjNDaGVja0ZvclVwZGF0ZXNJbkJhY2tncm91bmQiLCJLZXJuZWxzU3RhY2tPdmVyZmxvd1NlYXJjaCIsIktlcm5lbHNNYXRlcmlhbExpc3RpbmciLCJEYXRhc2V0c01hdGVyaWFsRGV0YWlsIiwiRGF0YXNldHNNYXRlcmlhbExpc3RDb21wb25lbnQiLCJDb21wZXRpdGlvbkRhdGFzZXRzIiwiRGlzY3Vzc2lvbnNVcHZvdGVTcGFtV2FybmluZyIsIlRhZ3NMZWFybkFuZERpc2N1c3Npb25zVUkiLCJOb1JlbG9hZEV4cGVyaW1lbnQiLCJOb3RlYm9va3NMYW5kaW5nUGFnZSIsIkRhdGFzZXRzRnJvbUdjcyIsIlRQVUNvbW1pdFNjaGVkdWxpbmciLCJDb21taXRTY2hlZHVsaW5nIiwiRW1haWxTaWdudXBOdWRnZXMiLCJLZXJuZWxzTGVzc1JhcGlkQXV0b1NhdmUiLCJCb29rbWFya3NVSSIsIkJvb2ttYXJrc0NvbXBzVUkiLCJDb21wZXRpdGlvbnNLbUxhbmRpbmciLCJLZXJuZWxWaWV3ZXJIaWRlRmFrZUV4aXRMb2dUaW1lIiwiRGF0YXNldExhbmRpbmdQYWdlUm90YXRpbmdTaGVsdmVzIiwiTGVhcm5MYW5kaW5nRGVmYXVsdExpc3QiLCJMb3dlckRhdGFzZXRIZWFkZXJJbWFnZU1pblJlcyIsIk5ld0Rpc2N1c3Npb25zTGFuZGluZyIsIk5ld0Rpc2N1c3Npb25zTGFuZGluZzJMaW5lIiwiRGlzY3Vzc2lvbkxpc3RpbmdJbXByb3ZlbWVudHMiLCJSZWdpc3RyYXRpb25OZXdzRW1haWxTaWdudXBJc09wdE91dCIsIktNTGVhcm5MYW5kaW5nVGVzdFZlcnNpb25CIl0sInBpZCI6ImthZ2dsZS0xNjE2MDciLCJzdmMiOiJ3ZWItZmUiLCJzZGFrIjoiQUl6YVN5QTRlTnFVZFJSc2tKc0NaV1Z6LXFMNjU1WGE1SkVNcmVFIiwiYmxkIjoiYzMwNGJkMjZkZmM2OWNiYzI2MDEwNmMxNzgzYjAwMWFmOWE5NTcyMiJ9.\n",
            "\n",
            "Stored cookie www.kaggle.com -1 (ANY) / <session> <insecure> [expiry none] GCLB CO6bkPu01bjhQA\n",
            "Registered socket 5 for persistent reuse.\n",
            "Parsed Strict-Transport-Security max-age = 63072000, includeSubDomains = true\n",
            "Added new HSTS host: www.kaggle.com:443 (max-age: 63072000, includeSubdomains: true)\n",
            "URI content encoding = ‘utf-8’\n",
            "Length: unspecified [text/html]\n",
            "Saving to: ‘asl-alphabet’\n",
            "\n",
            "asl-alphabet            [ <=>                ]  55.73K  --.-KB/s    in 0.001s  \n",
            "\n",
            "2021-07-11 12:33:34 (103 MB/s) - ‘asl-alphabet’ saved [57064]\n",
            "\n",
            "FINISHED --2021-07-11 12:33:34--\n",
            "Total wall clock time: 0.4s\n",
            "Downloaded: 1 files, 56K in 0.001s (103 MB/s)\n",
            "Saving HSTS entries to /root/.wget-hsts\n"
          ],
          "name": "stdout"
        }
      ]
    },
    {
      "cell_type": "code",
      "metadata": {
        "id": "WtVaxLXBtDGG"
      },
      "source": [
        "with ZipFile('/content/asl-alphabet.zip', 'r') as zipObj:\n",
        "   # Extract all the contents of zip file in current directory\n",
        "   zipObj.extractall()"
      ],
      "execution_count": null,
      "outputs": []
    },
    {
      "cell_type": "markdown",
      "metadata": {
        "id": "wdBglmxBup_R"
      },
      "source": [
        "## Get the Data"
      ]
    },
    {
      "cell_type": "code",
      "metadata": {
        "colab": {
          "base_uri": "https://localhost:8080/"
        },
        "id": "lCrxTvRSZD6R",
        "outputId": "f820cfe6-39d4-46d7-b7c1-52aafae38a4d"
      },
      "source": [
        "alphabets = np.array([\"A\", \"B\", \"C\", \"D\", \"E\", \"F\", \"G\", \"H\", \"I\", \"J\", \"K\", \"L\", \"M\", \"N\", \"O\", \"P\", \"Q\",\n",
        "             \"R\", \"S\", \"T\", \"U\", \"V\", \"W\", \"X\", \"Y\", \"Z\", \"del\", \"nothing\", \"space\"])\n",
        "letters = [f'/content/asl_alphabet_train/asl_alphabet_train/{letter}/' for letter in alphabets]\n",
        "\n",
        "letters"
      ],
      "execution_count": null,
      "outputs": [
        {
          "output_type": "execute_result",
          "data": {
            "text/plain": [
              "['/content/asl_alphabet_train/asl_alphabet_train/A/',\n",
              " '/content/asl_alphabet_train/asl_alphabet_train/B/',\n",
              " '/content/asl_alphabet_train/asl_alphabet_train/C/',\n",
              " '/content/asl_alphabet_train/asl_alphabet_train/D/',\n",
              " '/content/asl_alphabet_train/asl_alphabet_train/E/',\n",
              " '/content/asl_alphabet_train/asl_alphabet_train/F/',\n",
              " '/content/asl_alphabet_train/asl_alphabet_train/G/',\n",
              " '/content/asl_alphabet_train/asl_alphabet_train/H/',\n",
              " '/content/asl_alphabet_train/asl_alphabet_train/I/',\n",
              " '/content/asl_alphabet_train/asl_alphabet_train/J/',\n",
              " '/content/asl_alphabet_train/asl_alphabet_train/K/',\n",
              " '/content/asl_alphabet_train/asl_alphabet_train/L/',\n",
              " '/content/asl_alphabet_train/asl_alphabet_train/M/',\n",
              " '/content/asl_alphabet_train/asl_alphabet_train/N/',\n",
              " '/content/asl_alphabet_train/asl_alphabet_train/O/',\n",
              " '/content/asl_alphabet_train/asl_alphabet_train/P/',\n",
              " '/content/asl_alphabet_train/asl_alphabet_train/Q/',\n",
              " '/content/asl_alphabet_train/asl_alphabet_train/R/',\n",
              " '/content/asl_alphabet_train/asl_alphabet_train/S/',\n",
              " '/content/asl_alphabet_train/asl_alphabet_train/T/',\n",
              " '/content/asl_alphabet_train/asl_alphabet_train/U/',\n",
              " '/content/asl_alphabet_train/asl_alphabet_train/V/',\n",
              " '/content/asl_alphabet_train/asl_alphabet_train/W/',\n",
              " '/content/asl_alphabet_train/asl_alphabet_train/X/',\n",
              " '/content/asl_alphabet_train/asl_alphabet_train/Y/',\n",
              " '/content/asl_alphabet_train/asl_alphabet_train/Z/',\n",
              " '/content/asl_alphabet_train/asl_alphabet_train/del/',\n",
              " '/content/asl_alphabet_train/asl_alphabet_train/nothing/',\n",
              " '/content/asl_alphabet_train/asl_alphabet_train/space/']"
            ]
          },
          "metadata": {
            "tags": []
          },
          "execution_count": 7
        }
      ]
    },
    {
      "cell_type": "code",
      "metadata": {
        "colab": {
          "base_uri": "https://localhost:8080/"
        },
        "id": "3Jlh8LmBZ-ND",
        "outputId": "20b86e01-1295-4da5-f671-dd7430891625"
      },
      "source": [
        "from os import listdir\n",
        "from os.path import isfile, join\n",
        "onlyfiles = [f for f in listdir(letters[0]) if isfile(join(letters[0], f))]\n",
        "\n",
        "ids = []\n",
        "for pic in onlyfiles:\n",
        "  for let in alphabets:\n",
        "    ids.append(pic.replace('.jpg', '')[1:])\n",
        "len(ids)"
      ],
      "execution_count": null,
      "outputs": [
        {
          "output_type": "execute_result",
          "data": {
            "text/plain": [
              "87000"
            ]
          },
          "metadata": {
            "tags": []
          },
          "execution_count": 8
        }
      ]
    },
    {
      "cell_type": "code",
      "metadata": {
        "colab": {
          "base_uri": "https://localhost:8080/"
        },
        "id": "km6S_wfjauxc",
        "outputId": "4ec4d469-4b90-4ccd-fbd8-1a125f006b2d"
      },
      "source": [
        "image_paths = []\n",
        "for letter in letters:\n",
        "  for id in ids:\n",
        "    path = letter + alphabets[letters.index(letter)] + id + '.jpg'\n",
        "    image_paths.append(path)\n",
        "\n",
        "image_paths"
      ],
      "execution_count": null,
      "outputs": [
        {
          "output_type": "execute_result",
          "data": {
            "text/plain": [
              "['/content/asl_alphabet_train/asl_alphabet_train/A/A812.jpg',\n",
              " '/content/asl_alphabet_train/asl_alphabet_train/A/A812.jpg',\n",
              " '/content/asl_alphabet_train/asl_alphabet_train/A/A812.jpg',\n",
              " '/content/asl_alphabet_train/asl_alphabet_train/A/A812.jpg',\n",
              " '/content/asl_alphabet_train/asl_alphabet_train/A/A812.jpg',\n",
              " '/content/asl_alphabet_train/asl_alphabet_train/A/A812.jpg',\n",
              " '/content/asl_alphabet_train/asl_alphabet_train/A/A812.jpg',\n",
              " '/content/asl_alphabet_train/asl_alphabet_train/A/A812.jpg',\n",
              " '/content/asl_alphabet_train/asl_alphabet_train/A/A812.jpg',\n",
              " '/content/asl_alphabet_train/asl_alphabet_train/A/A812.jpg',\n",
              " '/content/asl_alphabet_train/asl_alphabet_train/A/A812.jpg',\n",
              " '/content/asl_alphabet_train/asl_alphabet_train/A/A812.jpg',\n",
              " '/content/asl_alphabet_train/asl_alphabet_train/A/A812.jpg',\n",
              " '/content/asl_alphabet_train/asl_alphabet_train/A/A812.jpg',\n",
              " '/content/asl_alphabet_train/asl_alphabet_train/A/A812.jpg',\n",
              " '/content/asl_alphabet_train/asl_alphabet_train/A/A812.jpg',\n",
              " '/content/asl_alphabet_train/asl_alphabet_train/A/A812.jpg',\n",
              " '/content/asl_alphabet_train/asl_alphabet_train/A/A812.jpg',\n",
              " '/content/asl_alphabet_train/asl_alphabet_train/A/A812.jpg',\n",
              " '/content/asl_alphabet_train/asl_alphabet_train/A/A812.jpg',\n",
              " '/content/asl_alphabet_train/asl_alphabet_train/A/A812.jpg',\n",
              " '/content/asl_alphabet_train/asl_alphabet_train/A/A812.jpg',\n",
              " '/content/asl_alphabet_train/asl_alphabet_train/A/A812.jpg',\n",
              " '/content/asl_alphabet_train/asl_alphabet_train/A/A812.jpg',\n",
              " '/content/asl_alphabet_train/asl_alphabet_train/A/A812.jpg',\n",
              " '/content/asl_alphabet_train/asl_alphabet_train/A/A812.jpg',\n",
              " '/content/asl_alphabet_train/asl_alphabet_train/A/A812.jpg',\n",
              " '/content/asl_alphabet_train/asl_alphabet_train/A/A812.jpg',\n",
              " '/content/asl_alphabet_train/asl_alphabet_train/A/A812.jpg',\n",
              " '/content/asl_alphabet_train/asl_alphabet_train/A/A1977.jpg',\n",
              " '/content/asl_alphabet_train/asl_alphabet_train/A/A1977.jpg',\n",
              " '/content/asl_alphabet_train/asl_alphabet_train/A/A1977.jpg',\n",
              " '/content/asl_alphabet_train/asl_alphabet_train/A/A1977.jpg',\n",
              " '/content/asl_alphabet_train/asl_alphabet_train/A/A1977.jpg',\n",
              " '/content/asl_alphabet_train/asl_alphabet_train/A/A1977.jpg',\n",
              " '/content/asl_alphabet_train/asl_alphabet_train/A/A1977.jpg',\n",
              " '/content/asl_alphabet_train/asl_alphabet_train/A/A1977.jpg',\n",
              " '/content/asl_alphabet_train/asl_alphabet_train/A/A1977.jpg',\n",
              " '/content/asl_alphabet_train/asl_alphabet_train/A/A1977.jpg',\n",
              " '/content/asl_alphabet_train/asl_alphabet_train/A/A1977.jpg',\n",
              " '/content/asl_alphabet_train/asl_alphabet_train/A/A1977.jpg',\n",
              " '/content/asl_alphabet_train/asl_alphabet_train/A/A1977.jpg',\n",
              " '/content/asl_alphabet_train/asl_alphabet_train/A/A1977.jpg',\n",
              " '/content/asl_alphabet_train/asl_alphabet_train/A/A1977.jpg',\n",
              " '/content/asl_alphabet_train/asl_alphabet_train/A/A1977.jpg',\n",
              " '/content/asl_alphabet_train/asl_alphabet_train/A/A1977.jpg',\n",
              " '/content/asl_alphabet_train/asl_alphabet_train/A/A1977.jpg',\n",
              " '/content/asl_alphabet_train/asl_alphabet_train/A/A1977.jpg',\n",
              " '/content/asl_alphabet_train/asl_alphabet_train/A/A1977.jpg',\n",
              " '/content/asl_alphabet_train/asl_alphabet_train/A/A1977.jpg',\n",
              " '/content/asl_alphabet_train/asl_alphabet_train/A/A1977.jpg',\n",
              " '/content/asl_alphabet_train/asl_alphabet_train/A/A1977.jpg',\n",
              " '/content/asl_alphabet_train/asl_alphabet_train/A/A1977.jpg',\n",
              " '/content/asl_alphabet_train/asl_alphabet_train/A/A1977.jpg',\n",
              " '/content/asl_alphabet_train/asl_alphabet_train/A/A1977.jpg',\n",
              " '/content/asl_alphabet_train/asl_alphabet_train/A/A1977.jpg',\n",
              " '/content/asl_alphabet_train/asl_alphabet_train/A/A1977.jpg',\n",
              " '/content/asl_alphabet_train/asl_alphabet_train/A/A1977.jpg',\n",
              " '/content/asl_alphabet_train/asl_alphabet_train/A/A2449.jpg',\n",
              " '/content/asl_alphabet_train/asl_alphabet_train/A/A2449.jpg',\n",
              " '/content/asl_alphabet_train/asl_alphabet_train/A/A2449.jpg',\n",
              " '/content/asl_alphabet_train/asl_alphabet_train/A/A2449.jpg',\n",
              " '/content/asl_alphabet_train/asl_alphabet_train/A/A2449.jpg',\n",
              " '/content/asl_alphabet_train/asl_alphabet_train/A/A2449.jpg',\n",
              " '/content/asl_alphabet_train/asl_alphabet_train/A/A2449.jpg',\n",
              " '/content/asl_alphabet_train/asl_alphabet_train/A/A2449.jpg',\n",
              " '/content/asl_alphabet_train/asl_alphabet_train/A/A2449.jpg',\n",
              " '/content/asl_alphabet_train/asl_alphabet_train/A/A2449.jpg',\n",
              " '/content/asl_alphabet_train/asl_alphabet_train/A/A2449.jpg',\n",
              " '/content/asl_alphabet_train/asl_alphabet_train/A/A2449.jpg',\n",
              " '/content/asl_alphabet_train/asl_alphabet_train/A/A2449.jpg',\n",
              " '/content/asl_alphabet_train/asl_alphabet_train/A/A2449.jpg',\n",
              " '/content/asl_alphabet_train/asl_alphabet_train/A/A2449.jpg',\n",
              " '/content/asl_alphabet_train/asl_alphabet_train/A/A2449.jpg',\n",
              " '/content/asl_alphabet_train/asl_alphabet_train/A/A2449.jpg',\n",
              " '/content/asl_alphabet_train/asl_alphabet_train/A/A2449.jpg',\n",
              " '/content/asl_alphabet_train/asl_alphabet_train/A/A2449.jpg',\n",
              " '/content/asl_alphabet_train/asl_alphabet_train/A/A2449.jpg',\n",
              " '/content/asl_alphabet_train/asl_alphabet_train/A/A2449.jpg',\n",
              " '/content/asl_alphabet_train/asl_alphabet_train/A/A2449.jpg',\n",
              " '/content/asl_alphabet_train/asl_alphabet_train/A/A2449.jpg',\n",
              " '/content/asl_alphabet_train/asl_alphabet_train/A/A2449.jpg',\n",
              " '/content/asl_alphabet_train/asl_alphabet_train/A/A2449.jpg',\n",
              " '/content/asl_alphabet_train/asl_alphabet_train/A/A2449.jpg',\n",
              " '/content/asl_alphabet_train/asl_alphabet_train/A/A2449.jpg',\n",
              " '/content/asl_alphabet_train/asl_alphabet_train/A/A2449.jpg',\n",
              " '/content/asl_alphabet_train/asl_alphabet_train/A/A2449.jpg',\n",
              " '/content/asl_alphabet_train/asl_alphabet_train/A/A1500.jpg',\n",
              " '/content/asl_alphabet_train/asl_alphabet_train/A/A1500.jpg',\n",
              " '/content/asl_alphabet_train/asl_alphabet_train/A/A1500.jpg',\n",
              " '/content/asl_alphabet_train/asl_alphabet_train/A/A1500.jpg',\n",
              " '/content/asl_alphabet_train/asl_alphabet_train/A/A1500.jpg',\n",
              " '/content/asl_alphabet_train/asl_alphabet_train/A/A1500.jpg',\n",
              " '/content/asl_alphabet_train/asl_alphabet_train/A/A1500.jpg',\n",
              " '/content/asl_alphabet_train/asl_alphabet_train/A/A1500.jpg',\n",
              " '/content/asl_alphabet_train/asl_alphabet_train/A/A1500.jpg',\n",
              " '/content/asl_alphabet_train/asl_alphabet_train/A/A1500.jpg',\n",
              " '/content/asl_alphabet_train/asl_alphabet_train/A/A1500.jpg',\n",
              " '/content/asl_alphabet_train/asl_alphabet_train/A/A1500.jpg',\n",
              " '/content/asl_alphabet_train/asl_alphabet_train/A/A1500.jpg',\n",
              " '/content/asl_alphabet_train/asl_alphabet_train/A/A1500.jpg',\n",
              " '/content/asl_alphabet_train/asl_alphabet_train/A/A1500.jpg',\n",
              " '/content/asl_alphabet_train/asl_alphabet_train/A/A1500.jpg',\n",
              " '/content/asl_alphabet_train/asl_alphabet_train/A/A1500.jpg',\n",
              " '/content/asl_alphabet_train/asl_alphabet_train/A/A1500.jpg',\n",
              " '/content/asl_alphabet_train/asl_alphabet_train/A/A1500.jpg',\n",
              " '/content/asl_alphabet_train/asl_alphabet_train/A/A1500.jpg',\n",
              " '/content/asl_alphabet_train/asl_alphabet_train/A/A1500.jpg',\n",
              " '/content/asl_alphabet_train/asl_alphabet_train/A/A1500.jpg',\n",
              " '/content/asl_alphabet_train/asl_alphabet_train/A/A1500.jpg',\n",
              " '/content/asl_alphabet_train/asl_alphabet_train/A/A1500.jpg',\n",
              " '/content/asl_alphabet_train/asl_alphabet_train/A/A1500.jpg',\n",
              " '/content/asl_alphabet_train/asl_alphabet_train/A/A1500.jpg',\n",
              " '/content/asl_alphabet_train/asl_alphabet_train/A/A1500.jpg',\n",
              " '/content/asl_alphabet_train/asl_alphabet_train/A/A1500.jpg',\n",
              " '/content/asl_alphabet_train/asl_alphabet_train/A/A1500.jpg',\n",
              " '/content/asl_alphabet_train/asl_alphabet_train/A/A1856.jpg',\n",
              " '/content/asl_alphabet_train/asl_alphabet_train/A/A1856.jpg',\n",
              " '/content/asl_alphabet_train/asl_alphabet_train/A/A1856.jpg',\n",
              " '/content/asl_alphabet_train/asl_alphabet_train/A/A1856.jpg',\n",
              " '/content/asl_alphabet_train/asl_alphabet_train/A/A1856.jpg',\n",
              " '/content/asl_alphabet_train/asl_alphabet_train/A/A1856.jpg',\n",
              " '/content/asl_alphabet_train/asl_alphabet_train/A/A1856.jpg',\n",
              " '/content/asl_alphabet_train/asl_alphabet_train/A/A1856.jpg',\n",
              " '/content/asl_alphabet_train/asl_alphabet_train/A/A1856.jpg',\n",
              " '/content/asl_alphabet_train/asl_alphabet_train/A/A1856.jpg',\n",
              " '/content/asl_alphabet_train/asl_alphabet_train/A/A1856.jpg',\n",
              " '/content/asl_alphabet_train/asl_alphabet_train/A/A1856.jpg',\n",
              " '/content/asl_alphabet_train/asl_alphabet_train/A/A1856.jpg',\n",
              " '/content/asl_alphabet_train/asl_alphabet_train/A/A1856.jpg',\n",
              " '/content/asl_alphabet_train/asl_alphabet_train/A/A1856.jpg',\n",
              " '/content/asl_alphabet_train/asl_alphabet_train/A/A1856.jpg',\n",
              " '/content/asl_alphabet_train/asl_alphabet_train/A/A1856.jpg',\n",
              " '/content/asl_alphabet_train/asl_alphabet_train/A/A1856.jpg',\n",
              " '/content/asl_alphabet_train/asl_alphabet_train/A/A1856.jpg',\n",
              " '/content/asl_alphabet_train/asl_alphabet_train/A/A1856.jpg',\n",
              " '/content/asl_alphabet_train/asl_alphabet_train/A/A1856.jpg',\n",
              " '/content/asl_alphabet_train/asl_alphabet_train/A/A1856.jpg',\n",
              " '/content/asl_alphabet_train/asl_alphabet_train/A/A1856.jpg',\n",
              " '/content/asl_alphabet_train/asl_alphabet_train/A/A1856.jpg',\n",
              " '/content/asl_alphabet_train/asl_alphabet_train/A/A1856.jpg',\n",
              " '/content/asl_alphabet_train/asl_alphabet_train/A/A1856.jpg',\n",
              " '/content/asl_alphabet_train/asl_alphabet_train/A/A1856.jpg',\n",
              " '/content/asl_alphabet_train/asl_alphabet_train/A/A1856.jpg',\n",
              " '/content/asl_alphabet_train/asl_alphabet_train/A/A1856.jpg',\n",
              " '/content/asl_alphabet_train/asl_alphabet_train/A/A708.jpg',\n",
              " '/content/asl_alphabet_train/asl_alphabet_train/A/A708.jpg',\n",
              " '/content/asl_alphabet_train/asl_alphabet_train/A/A708.jpg',\n",
              " '/content/asl_alphabet_train/asl_alphabet_train/A/A708.jpg',\n",
              " '/content/asl_alphabet_train/asl_alphabet_train/A/A708.jpg',\n",
              " '/content/asl_alphabet_train/asl_alphabet_train/A/A708.jpg',\n",
              " '/content/asl_alphabet_train/asl_alphabet_train/A/A708.jpg',\n",
              " '/content/asl_alphabet_train/asl_alphabet_train/A/A708.jpg',\n",
              " '/content/asl_alphabet_train/asl_alphabet_train/A/A708.jpg',\n",
              " '/content/asl_alphabet_train/asl_alphabet_train/A/A708.jpg',\n",
              " '/content/asl_alphabet_train/asl_alphabet_train/A/A708.jpg',\n",
              " '/content/asl_alphabet_train/asl_alphabet_train/A/A708.jpg',\n",
              " '/content/asl_alphabet_train/asl_alphabet_train/A/A708.jpg',\n",
              " '/content/asl_alphabet_train/asl_alphabet_train/A/A708.jpg',\n",
              " '/content/asl_alphabet_train/asl_alphabet_train/A/A708.jpg',\n",
              " '/content/asl_alphabet_train/asl_alphabet_train/A/A708.jpg',\n",
              " '/content/asl_alphabet_train/asl_alphabet_train/A/A708.jpg',\n",
              " '/content/asl_alphabet_train/asl_alphabet_train/A/A708.jpg',\n",
              " '/content/asl_alphabet_train/asl_alphabet_train/A/A708.jpg',\n",
              " '/content/asl_alphabet_train/asl_alphabet_train/A/A708.jpg',\n",
              " '/content/asl_alphabet_train/asl_alphabet_train/A/A708.jpg',\n",
              " '/content/asl_alphabet_train/asl_alphabet_train/A/A708.jpg',\n",
              " '/content/asl_alphabet_train/asl_alphabet_train/A/A708.jpg',\n",
              " '/content/asl_alphabet_train/asl_alphabet_train/A/A708.jpg',\n",
              " '/content/asl_alphabet_train/asl_alphabet_train/A/A708.jpg',\n",
              " '/content/asl_alphabet_train/asl_alphabet_train/A/A708.jpg',\n",
              " '/content/asl_alphabet_train/asl_alphabet_train/A/A708.jpg',\n",
              " '/content/asl_alphabet_train/asl_alphabet_train/A/A708.jpg',\n",
              " '/content/asl_alphabet_train/asl_alphabet_train/A/A708.jpg',\n",
              " '/content/asl_alphabet_train/asl_alphabet_train/A/A421.jpg',\n",
              " '/content/asl_alphabet_train/asl_alphabet_train/A/A421.jpg',\n",
              " '/content/asl_alphabet_train/asl_alphabet_train/A/A421.jpg',\n",
              " '/content/asl_alphabet_train/asl_alphabet_train/A/A421.jpg',\n",
              " '/content/asl_alphabet_train/asl_alphabet_train/A/A421.jpg',\n",
              " '/content/asl_alphabet_train/asl_alphabet_train/A/A421.jpg',\n",
              " '/content/asl_alphabet_train/asl_alphabet_train/A/A421.jpg',\n",
              " '/content/asl_alphabet_train/asl_alphabet_train/A/A421.jpg',\n",
              " '/content/asl_alphabet_train/asl_alphabet_train/A/A421.jpg',\n",
              " '/content/asl_alphabet_train/asl_alphabet_train/A/A421.jpg',\n",
              " '/content/asl_alphabet_train/asl_alphabet_train/A/A421.jpg',\n",
              " '/content/asl_alphabet_train/asl_alphabet_train/A/A421.jpg',\n",
              " '/content/asl_alphabet_train/asl_alphabet_train/A/A421.jpg',\n",
              " '/content/asl_alphabet_train/asl_alphabet_train/A/A421.jpg',\n",
              " '/content/asl_alphabet_train/asl_alphabet_train/A/A421.jpg',\n",
              " '/content/asl_alphabet_train/asl_alphabet_train/A/A421.jpg',\n",
              " '/content/asl_alphabet_train/asl_alphabet_train/A/A421.jpg',\n",
              " '/content/asl_alphabet_train/asl_alphabet_train/A/A421.jpg',\n",
              " '/content/asl_alphabet_train/asl_alphabet_train/A/A421.jpg',\n",
              " '/content/asl_alphabet_train/asl_alphabet_train/A/A421.jpg',\n",
              " '/content/asl_alphabet_train/asl_alphabet_train/A/A421.jpg',\n",
              " '/content/asl_alphabet_train/asl_alphabet_train/A/A421.jpg',\n",
              " '/content/asl_alphabet_train/asl_alphabet_train/A/A421.jpg',\n",
              " '/content/asl_alphabet_train/asl_alphabet_train/A/A421.jpg',\n",
              " '/content/asl_alphabet_train/asl_alphabet_train/A/A421.jpg',\n",
              " '/content/asl_alphabet_train/asl_alphabet_train/A/A421.jpg',\n",
              " '/content/asl_alphabet_train/asl_alphabet_train/A/A421.jpg',\n",
              " '/content/asl_alphabet_train/asl_alphabet_train/A/A421.jpg',\n",
              " '/content/asl_alphabet_train/asl_alphabet_train/A/A421.jpg',\n",
              " '/content/asl_alphabet_train/asl_alphabet_train/A/A2214.jpg',\n",
              " '/content/asl_alphabet_train/asl_alphabet_train/A/A2214.jpg',\n",
              " '/content/asl_alphabet_train/asl_alphabet_train/A/A2214.jpg',\n",
              " '/content/asl_alphabet_train/asl_alphabet_train/A/A2214.jpg',\n",
              " '/content/asl_alphabet_train/asl_alphabet_train/A/A2214.jpg',\n",
              " '/content/asl_alphabet_train/asl_alphabet_train/A/A2214.jpg',\n",
              " '/content/asl_alphabet_train/asl_alphabet_train/A/A2214.jpg',\n",
              " '/content/asl_alphabet_train/asl_alphabet_train/A/A2214.jpg',\n",
              " '/content/asl_alphabet_train/asl_alphabet_train/A/A2214.jpg',\n",
              " '/content/asl_alphabet_train/asl_alphabet_train/A/A2214.jpg',\n",
              " '/content/asl_alphabet_train/asl_alphabet_train/A/A2214.jpg',\n",
              " '/content/asl_alphabet_train/asl_alphabet_train/A/A2214.jpg',\n",
              " '/content/asl_alphabet_train/asl_alphabet_train/A/A2214.jpg',\n",
              " '/content/asl_alphabet_train/asl_alphabet_train/A/A2214.jpg',\n",
              " '/content/asl_alphabet_train/asl_alphabet_train/A/A2214.jpg',\n",
              " '/content/asl_alphabet_train/asl_alphabet_train/A/A2214.jpg',\n",
              " '/content/asl_alphabet_train/asl_alphabet_train/A/A2214.jpg',\n",
              " '/content/asl_alphabet_train/asl_alphabet_train/A/A2214.jpg',\n",
              " '/content/asl_alphabet_train/asl_alphabet_train/A/A2214.jpg',\n",
              " '/content/asl_alphabet_train/asl_alphabet_train/A/A2214.jpg',\n",
              " '/content/asl_alphabet_train/asl_alphabet_train/A/A2214.jpg',\n",
              " '/content/asl_alphabet_train/asl_alphabet_train/A/A2214.jpg',\n",
              " '/content/asl_alphabet_train/asl_alphabet_train/A/A2214.jpg',\n",
              " '/content/asl_alphabet_train/asl_alphabet_train/A/A2214.jpg',\n",
              " '/content/asl_alphabet_train/asl_alphabet_train/A/A2214.jpg',\n",
              " '/content/asl_alphabet_train/asl_alphabet_train/A/A2214.jpg',\n",
              " '/content/asl_alphabet_train/asl_alphabet_train/A/A2214.jpg',\n",
              " '/content/asl_alphabet_train/asl_alphabet_train/A/A2214.jpg',\n",
              " '/content/asl_alphabet_train/asl_alphabet_train/A/A2214.jpg',\n",
              " '/content/asl_alphabet_train/asl_alphabet_train/A/A877.jpg',\n",
              " '/content/asl_alphabet_train/asl_alphabet_train/A/A877.jpg',\n",
              " '/content/asl_alphabet_train/asl_alphabet_train/A/A877.jpg',\n",
              " '/content/asl_alphabet_train/asl_alphabet_train/A/A877.jpg',\n",
              " '/content/asl_alphabet_train/asl_alphabet_train/A/A877.jpg',\n",
              " '/content/asl_alphabet_train/asl_alphabet_train/A/A877.jpg',\n",
              " '/content/asl_alphabet_train/asl_alphabet_train/A/A877.jpg',\n",
              " '/content/asl_alphabet_train/asl_alphabet_train/A/A877.jpg',\n",
              " '/content/asl_alphabet_train/asl_alphabet_train/A/A877.jpg',\n",
              " '/content/asl_alphabet_train/asl_alphabet_train/A/A877.jpg',\n",
              " '/content/asl_alphabet_train/asl_alphabet_train/A/A877.jpg',\n",
              " '/content/asl_alphabet_train/asl_alphabet_train/A/A877.jpg',\n",
              " '/content/asl_alphabet_train/asl_alphabet_train/A/A877.jpg',\n",
              " '/content/asl_alphabet_train/asl_alphabet_train/A/A877.jpg',\n",
              " '/content/asl_alphabet_train/asl_alphabet_train/A/A877.jpg',\n",
              " '/content/asl_alphabet_train/asl_alphabet_train/A/A877.jpg',\n",
              " '/content/asl_alphabet_train/asl_alphabet_train/A/A877.jpg',\n",
              " '/content/asl_alphabet_train/asl_alphabet_train/A/A877.jpg',\n",
              " '/content/asl_alphabet_train/asl_alphabet_train/A/A877.jpg',\n",
              " '/content/asl_alphabet_train/asl_alphabet_train/A/A877.jpg',\n",
              " '/content/asl_alphabet_train/asl_alphabet_train/A/A877.jpg',\n",
              " '/content/asl_alphabet_train/asl_alphabet_train/A/A877.jpg',\n",
              " '/content/asl_alphabet_train/asl_alphabet_train/A/A877.jpg',\n",
              " '/content/asl_alphabet_train/asl_alphabet_train/A/A877.jpg',\n",
              " '/content/asl_alphabet_train/asl_alphabet_train/A/A877.jpg',\n",
              " '/content/asl_alphabet_train/asl_alphabet_train/A/A877.jpg',\n",
              " '/content/asl_alphabet_train/asl_alphabet_train/A/A877.jpg',\n",
              " '/content/asl_alphabet_train/asl_alphabet_train/A/A877.jpg',\n",
              " '/content/asl_alphabet_train/asl_alphabet_train/A/A877.jpg',\n",
              " '/content/asl_alphabet_train/asl_alphabet_train/A/A2949.jpg',\n",
              " '/content/asl_alphabet_train/asl_alphabet_train/A/A2949.jpg',\n",
              " '/content/asl_alphabet_train/asl_alphabet_train/A/A2949.jpg',\n",
              " '/content/asl_alphabet_train/asl_alphabet_train/A/A2949.jpg',\n",
              " '/content/asl_alphabet_train/asl_alphabet_train/A/A2949.jpg',\n",
              " '/content/asl_alphabet_train/asl_alphabet_train/A/A2949.jpg',\n",
              " '/content/asl_alphabet_train/asl_alphabet_train/A/A2949.jpg',\n",
              " '/content/asl_alphabet_train/asl_alphabet_train/A/A2949.jpg',\n",
              " '/content/asl_alphabet_train/asl_alphabet_train/A/A2949.jpg',\n",
              " '/content/asl_alphabet_train/asl_alphabet_train/A/A2949.jpg',\n",
              " '/content/asl_alphabet_train/asl_alphabet_train/A/A2949.jpg',\n",
              " '/content/asl_alphabet_train/asl_alphabet_train/A/A2949.jpg',\n",
              " '/content/asl_alphabet_train/asl_alphabet_train/A/A2949.jpg',\n",
              " '/content/asl_alphabet_train/asl_alphabet_train/A/A2949.jpg',\n",
              " '/content/asl_alphabet_train/asl_alphabet_train/A/A2949.jpg',\n",
              " '/content/asl_alphabet_train/asl_alphabet_train/A/A2949.jpg',\n",
              " '/content/asl_alphabet_train/asl_alphabet_train/A/A2949.jpg',\n",
              " '/content/asl_alphabet_train/asl_alphabet_train/A/A2949.jpg',\n",
              " '/content/asl_alphabet_train/asl_alphabet_train/A/A2949.jpg',\n",
              " '/content/asl_alphabet_train/asl_alphabet_train/A/A2949.jpg',\n",
              " '/content/asl_alphabet_train/asl_alphabet_train/A/A2949.jpg',\n",
              " '/content/asl_alphabet_train/asl_alphabet_train/A/A2949.jpg',\n",
              " '/content/asl_alphabet_train/asl_alphabet_train/A/A2949.jpg',\n",
              " '/content/asl_alphabet_train/asl_alphabet_train/A/A2949.jpg',\n",
              " '/content/asl_alphabet_train/asl_alphabet_train/A/A2949.jpg',\n",
              " '/content/asl_alphabet_train/asl_alphabet_train/A/A2949.jpg',\n",
              " '/content/asl_alphabet_train/asl_alphabet_train/A/A2949.jpg',\n",
              " '/content/asl_alphabet_train/asl_alphabet_train/A/A2949.jpg',\n",
              " '/content/asl_alphabet_train/asl_alphabet_train/A/A2949.jpg',\n",
              " '/content/asl_alphabet_train/asl_alphabet_train/A/A2697.jpg',\n",
              " '/content/asl_alphabet_train/asl_alphabet_train/A/A2697.jpg',\n",
              " '/content/asl_alphabet_train/asl_alphabet_train/A/A2697.jpg',\n",
              " '/content/asl_alphabet_train/asl_alphabet_train/A/A2697.jpg',\n",
              " '/content/asl_alphabet_train/asl_alphabet_train/A/A2697.jpg',\n",
              " '/content/asl_alphabet_train/asl_alphabet_train/A/A2697.jpg',\n",
              " '/content/asl_alphabet_train/asl_alphabet_train/A/A2697.jpg',\n",
              " '/content/asl_alphabet_train/asl_alphabet_train/A/A2697.jpg',\n",
              " '/content/asl_alphabet_train/asl_alphabet_train/A/A2697.jpg',\n",
              " '/content/asl_alphabet_train/asl_alphabet_train/A/A2697.jpg',\n",
              " '/content/asl_alphabet_train/asl_alphabet_train/A/A2697.jpg',\n",
              " '/content/asl_alphabet_train/asl_alphabet_train/A/A2697.jpg',\n",
              " '/content/asl_alphabet_train/asl_alphabet_train/A/A2697.jpg',\n",
              " '/content/asl_alphabet_train/asl_alphabet_train/A/A2697.jpg',\n",
              " '/content/asl_alphabet_train/asl_alphabet_train/A/A2697.jpg',\n",
              " '/content/asl_alphabet_train/asl_alphabet_train/A/A2697.jpg',\n",
              " '/content/asl_alphabet_train/asl_alphabet_train/A/A2697.jpg',\n",
              " '/content/asl_alphabet_train/asl_alphabet_train/A/A2697.jpg',\n",
              " '/content/asl_alphabet_train/asl_alphabet_train/A/A2697.jpg',\n",
              " '/content/asl_alphabet_train/asl_alphabet_train/A/A2697.jpg',\n",
              " '/content/asl_alphabet_train/asl_alphabet_train/A/A2697.jpg',\n",
              " '/content/asl_alphabet_train/asl_alphabet_train/A/A2697.jpg',\n",
              " '/content/asl_alphabet_train/asl_alphabet_train/A/A2697.jpg',\n",
              " '/content/asl_alphabet_train/asl_alphabet_train/A/A2697.jpg',\n",
              " '/content/asl_alphabet_train/asl_alphabet_train/A/A2697.jpg',\n",
              " '/content/asl_alphabet_train/asl_alphabet_train/A/A2697.jpg',\n",
              " '/content/asl_alphabet_train/asl_alphabet_train/A/A2697.jpg',\n",
              " '/content/asl_alphabet_train/asl_alphabet_train/A/A2697.jpg',\n",
              " '/content/asl_alphabet_train/asl_alphabet_train/A/A2697.jpg',\n",
              " '/content/asl_alphabet_train/asl_alphabet_train/A/A720.jpg',\n",
              " '/content/asl_alphabet_train/asl_alphabet_train/A/A720.jpg',\n",
              " '/content/asl_alphabet_train/asl_alphabet_train/A/A720.jpg',\n",
              " '/content/asl_alphabet_train/asl_alphabet_train/A/A720.jpg',\n",
              " '/content/asl_alphabet_train/asl_alphabet_train/A/A720.jpg',\n",
              " '/content/asl_alphabet_train/asl_alphabet_train/A/A720.jpg',\n",
              " '/content/asl_alphabet_train/asl_alphabet_train/A/A720.jpg',\n",
              " '/content/asl_alphabet_train/asl_alphabet_train/A/A720.jpg',\n",
              " '/content/asl_alphabet_train/asl_alphabet_train/A/A720.jpg',\n",
              " '/content/asl_alphabet_train/asl_alphabet_train/A/A720.jpg',\n",
              " '/content/asl_alphabet_train/asl_alphabet_train/A/A720.jpg',\n",
              " '/content/asl_alphabet_train/asl_alphabet_train/A/A720.jpg',\n",
              " '/content/asl_alphabet_train/asl_alphabet_train/A/A720.jpg',\n",
              " '/content/asl_alphabet_train/asl_alphabet_train/A/A720.jpg',\n",
              " '/content/asl_alphabet_train/asl_alphabet_train/A/A720.jpg',\n",
              " '/content/asl_alphabet_train/asl_alphabet_train/A/A720.jpg',\n",
              " '/content/asl_alphabet_train/asl_alphabet_train/A/A720.jpg',\n",
              " '/content/asl_alphabet_train/asl_alphabet_train/A/A720.jpg',\n",
              " '/content/asl_alphabet_train/asl_alphabet_train/A/A720.jpg',\n",
              " '/content/asl_alphabet_train/asl_alphabet_train/A/A720.jpg',\n",
              " '/content/asl_alphabet_train/asl_alphabet_train/A/A720.jpg',\n",
              " '/content/asl_alphabet_train/asl_alphabet_train/A/A720.jpg',\n",
              " '/content/asl_alphabet_train/asl_alphabet_train/A/A720.jpg',\n",
              " '/content/asl_alphabet_train/asl_alphabet_train/A/A720.jpg',\n",
              " '/content/asl_alphabet_train/asl_alphabet_train/A/A720.jpg',\n",
              " '/content/asl_alphabet_train/asl_alphabet_train/A/A720.jpg',\n",
              " '/content/asl_alphabet_train/asl_alphabet_train/A/A720.jpg',\n",
              " '/content/asl_alphabet_train/asl_alphabet_train/A/A720.jpg',\n",
              " '/content/asl_alphabet_train/asl_alphabet_train/A/A720.jpg',\n",
              " '/content/asl_alphabet_train/asl_alphabet_train/A/A1704.jpg',\n",
              " '/content/asl_alphabet_train/asl_alphabet_train/A/A1704.jpg',\n",
              " '/content/asl_alphabet_train/asl_alphabet_train/A/A1704.jpg',\n",
              " '/content/asl_alphabet_train/asl_alphabet_train/A/A1704.jpg',\n",
              " '/content/asl_alphabet_train/asl_alphabet_train/A/A1704.jpg',\n",
              " '/content/asl_alphabet_train/asl_alphabet_train/A/A1704.jpg',\n",
              " '/content/asl_alphabet_train/asl_alphabet_train/A/A1704.jpg',\n",
              " '/content/asl_alphabet_train/asl_alphabet_train/A/A1704.jpg',\n",
              " '/content/asl_alphabet_train/asl_alphabet_train/A/A1704.jpg',\n",
              " '/content/asl_alphabet_train/asl_alphabet_train/A/A1704.jpg',\n",
              " '/content/asl_alphabet_train/asl_alphabet_train/A/A1704.jpg',\n",
              " '/content/asl_alphabet_train/asl_alphabet_train/A/A1704.jpg',\n",
              " '/content/asl_alphabet_train/asl_alphabet_train/A/A1704.jpg',\n",
              " '/content/asl_alphabet_train/asl_alphabet_train/A/A1704.jpg',\n",
              " '/content/asl_alphabet_train/asl_alphabet_train/A/A1704.jpg',\n",
              " '/content/asl_alphabet_train/asl_alphabet_train/A/A1704.jpg',\n",
              " '/content/asl_alphabet_train/asl_alphabet_train/A/A1704.jpg',\n",
              " '/content/asl_alphabet_train/asl_alphabet_train/A/A1704.jpg',\n",
              " '/content/asl_alphabet_train/asl_alphabet_train/A/A1704.jpg',\n",
              " '/content/asl_alphabet_train/asl_alphabet_train/A/A1704.jpg',\n",
              " '/content/asl_alphabet_train/asl_alphabet_train/A/A1704.jpg',\n",
              " '/content/asl_alphabet_train/asl_alphabet_train/A/A1704.jpg',\n",
              " '/content/asl_alphabet_train/asl_alphabet_train/A/A1704.jpg',\n",
              " '/content/asl_alphabet_train/asl_alphabet_train/A/A1704.jpg',\n",
              " '/content/asl_alphabet_train/asl_alphabet_train/A/A1704.jpg',\n",
              " '/content/asl_alphabet_train/asl_alphabet_train/A/A1704.jpg',\n",
              " '/content/asl_alphabet_train/asl_alphabet_train/A/A1704.jpg',\n",
              " '/content/asl_alphabet_train/asl_alphabet_train/A/A1704.jpg',\n",
              " '/content/asl_alphabet_train/asl_alphabet_train/A/A1704.jpg',\n",
              " '/content/asl_alphabet_train/asl_alphabet_train/A/A1861.jpg',\n",
              " '/content/asl_alphabet_train/asl_alphabet_train/A/A1861.jpg',\n",
              " '/content/asl_alphabet_train/asl_alphabet_train/A/A1861.jpg',\n",
              " '/content/asl_alphabet_train/asl_alphabet_train/A/A1861.jpg',\n",
              " '/content/asl_alphabet_train/asl_alphabet_train/A/A1861.jpg',\n",
              " '/content/asl_alphabet_train/asl_alphabet_train/A/A1861.jpg',\n",
              " '/content/asl_alphabet_train/asl_alphabet_train/A/A1861.jpg',\n",
              " '/content/asl_alphabet_train/asl_alphabet_train/A/A1861.jpg',\n",
              " '/content/asl_alphabet_train/asl_alphabet_train/A/A1861.jpg',\n",
              " '/content/asl_alphabet_train/asl_alphabet_train/A/A1861.jpg',\n",
              " '/content/asl_alphabet_train/asl_alphabet_train/A/A1861.jpg',\n",
              " '/content/asl_alphabet_train/asl_alphabet_train/A/A1861.jpg',\n",
              " '/content/asl_alphabet_train/asl_alphabet_train/A/A1861.jpg',\n",
              " '/content/asl_alphabet_train/asl_alphabet_train/A/A1861.jpg',\n",
              " '/content/asl_alphabet_train/asl_alphabet_train/A/A1861.jpg',\n",
              " '/content/asl_alphabet_train/asl_alphabet_train/A/A1861.jpg',\n",
              " '/content/asl_alphabet_train/asl_alphabet_train/A/A1861.jpg',\n",
              " '/content/asl_alphabet_train/asl_alphabet_train/A/A1861.jpg',\n",
              " '/content/asl_alphabet_train/asl_alphabet_train/A/A1861.jpg',\n",
              " '/content/asl_alphabet_train/asl_alphabet_train/A/A1861.jpg',\n",
              " '/content/asl_alphabet_train/asl_alphabet_train/A/A1861.jpg',\n",
              " '/content/asl_alphabet_train/asl_alphabet_train/A/A1861.jpg',\n",
              " '/content/asl_alphabet_train/asl_alphabet_train/A/A1861.jpg',\n",
              " '/content/asl_alphabet_train/asl_alphabet_train/A/A1861.jpg',\n",
              " '/content/asl_alphabet_train/asl_alphabet_train/A/A1861.jpg',\n",
              " '/content/asl_alphabet_train/asl_alphabet_train/A/A1861.jpg',\n",
              " '/content/asl_alphabet_train/asl_alphabet_train/A/A1861.jpg',\n",
              " '/content/asl_alphabet_train/asl_alphabet_train/A/A1861.jpg',\n",
              " '/content/asl_alphabet_train/asl_alphabet_train/A/A1861.jpg',\n",
              " '/content/asl_alphabet_train/asl_alphabet_train/A/A601.jpg',\n",
              " '/content/asl_alphabet_train/asl_alphabet_train/A/A601.jpg',\n",
              " '/content/asl_alphabet_train/asl_alphabet_train/A/A601.jpg',\n",
              " '/content/asl_alphabet_train/asl_alphabet_train/A/A601.jpg',\n",
              " '/content/asl_alphabet_train/asl_alphabet_train/A/A601.jpg',\n",
              " '/content/asl_alphabet_train/asl_alphabet_train/A/A601.jpg',\n",
              " '/content/asl_alphabet_train/asl_alphabet_train/A/A601.jpg',\n",
              " '/content/asl_alphabet_train/asl_alphabet_train/A/A601.jpg',\n",
              " '/content/asl_alphabet_train/asl_alphabet_train/A/A601.jpg',\n",
              " '/content/asl_alphabet_train/asl_alphabet_train/A/A601.jpg',\n",
              " '/content/asl_alphabet_train/asl_alphabet_train/A/A601.jpg',\n",
              " '/content/asl_alphabet_train/asl_alphabet_train/A/A601.jpg',\n",
              " '/content/asl_alphabet_train/asl_alphabet_train/A/A601.jpg',\n",
              " '/content/asl_alphabet_train/asl_alphabet_train/A/A601.jpg',\n",
              " '/content/asl_alphabet_train/asl_alphabet_train/A/A601.jpg',\n",
              " '/content/asl_alphabet_train/asl_alphabet_train/A/A601.jpg',\n",
              " '/content/asl_alphabet_train/asl_alphabet_train/A/A601.jpg',\n",
              " '/content/asl_alphabet_train/asl_alphabet_train/A/A601.jpg',\n",
              " '/content/asl_alphabet_train/asl_alphabet_train/A/A601.jpg',\n",
              " '/content/asl_alphabet_train/asl_alphabet_train/A/A601.jpg',\n",
              " '/content/asl_alphabet_train/asl_alphabet_train/A/A601.jpg',\n",
              " '/content/asl_alphabet_train/asl_alphabet_train/A/A601.jpg',\n",
              " '/content/asl_alphabet_train/asl_alphabet_train/A/A601.jpg',\n",
              " '/content/asl_alphabet_train/asl_alphabet_train/A/A601.jpg',\n",
              " '/content/asl_alphabet_train/asl_alphabet_train/A/A601.jpg',\n",
              " '/content/asl_alphabet_train/asl_alphabet_train/A/A601.jpg',\n",
              " '/content/asl_alphabet_train/asl_alphabet_train/A/A601.jpg',\n",
              " '/content/asl_alphabet_train/asl_alphabet_train/A/A601.jpg',\n",
              " '/content/asl_alphabet_train/asl_alphabet_train/A/A601.jpg',\n",
              " '/content/asl_alphabet_train/asl_alphabet_train/A/A1024.jpg',\n",
              " '/content/asl_alphabet_train/asl_alphabet_train/A/A1024.jpg',\n",
              " '/content/asl_alphabet_train/asl_alphabet_train/A/A1024.jpg',\n",
              " '/content/asl_alphabet_train/asl_alphabet_train/A/A1024.jpg',\n",
              " '/content/asl_alphabet_train/asl_alphabet_train/A/A1024.jpg',\n",
              " '/content/asl_alphabet_train/asl_alphabet_train/A/A1024.jpg',\n",
              " '/content/asl_alphabet_train/asl_alphabet_train/A/A1024.jpg',\n",
              " '/content/asl_alphabet_train/asl_alphabet_train/A/A1024.jpg',\n",
              " '/content/asl_alphabet_train/asl_alphabet_train/A/A1024.jpg',\n",
              " '/content/asl_alphabet_train/asl_alphabet_train/A/A1024.jpg',\n",
              " '/content/asl_alphabet_train/asl_alphabet_train/A/A1024.jpg',\n",
              " '/content/asl_alphabet_train/asl_alphabet_train/A/A1024.jpg',\n",
              " '/content/asl_alphabet_train/asl_alphabet_train/A/A1024.jpg',\n",
              " '/content/asl_alphabet_train/asl_alphabet_train/A/A1024.jpg',\n",
              " '/content/asl_alphabet_train/asl_alphabet_train/A/A1024.jpg',\n",
              " '/content/asl_alphabet_train/asl_alphabet_train/A/A1024.jpg',\n",
              " '/content/asl_alphabet_train/asl_alphabet_train/A/A1024.jpg',\n",
              " '/content/asl_alphabet_train/asl_alphabet_train/A/A1024.jpg',\n",
              " '/content/asl_alphabet_train/asl_alphabet_train/A/A1024.jpg',\n",
              " '/content/asl_alphabet_train/asl_alphabet_train/A/A1024.jpg',\n",
              " '/content/asl_alphabet_train/asl_alphabet_train/A/A1024.jpg',\n",
              " '/content/asl_alphabet_train/asl_alphabet_train/A/A1024.jpg',\n",
              " '/content/asl_alphabet_train/asl_alphabet_train/A/A1024.jpg',\n",
              " '/content/asl_alphabet_train/asl_alphabet_train/A/A1024.jpg',\n",
              " '/content/asl_alphabet_train/asl_alphabet_train/A/A1024.jpg',\n",
              " '/content/asl_alphabet_train/asl_alphabet_train/A/A1024.jpg',\n",
              " '/content/asl_alphabet_train/asl_alphabet_train/A/A1024.jpg',\n",
              " '/content/asl_alphabet_train/asl_alphabet_train/A/A1024.jpg',\n",
              " '/content/asl_alphabet_train/asl_alphabet_train/A/A1024.jpg',\n",
              " '/content/asl_alphabet_train/asl_alphabet_train/A/A1839.jpg',\n",
              " '/content/asl_alphabet_train/asl_alphabet_train/A/A1839.jpg',\n",
              " '/content/asl_alphabet_train/asl_alphabet_train/A/A1839.jpg',\n",
              " '/content/asl_alphabet_train/asl_alphabet_train/A/A1839.jpg',\n",
              " '/content/asl_alphabet_train/asl_alphabet_train/A/A1839.jpg',\n",
              " '/content/asl_alphabet_train/asl_alphabet_train/A/A1839.jpg',\n",
              " '/content/asl_alphabet_train/asl_alphabet_train/A/A1839.jpg',\n",
              " '/content/asl_alphabet_train/asl_alphabet_train/A/A1839.jpg',\n",
              " '/content/asl_alphabet_train/asl_alphabet_train/A/A1839.jpg',\n",
              " '/content/asl_alphabet_train/asl_alphabet_train/A/A1839.jpg',\n",
              " '/content/asl_alphabet_train/asl_alphabet_train/A/A1839.jpg',\n",
              " '/content/asl_alphabet_train/asl_alphabet_train/A/A1839.jpg',\n",
              " '/content/asl_alphabet_train/asl_alphabet_train/A/A1839.jpg',\n",
              " '/content/asl_alphabet_train/asl_alphabet_train/A/A1839.jpg',\n",
              " '/content/asl_alphabet_train/asl_alphabet_train/A/A1839.jpg',\n",
              " '/content/asl_alphabet_train/asl_alphabet_train/A/A1839.jpg',\n",
              " '/content/asl_alphabet_train/asl_alphabet_train/A/A1839.jpg',\n",
              " '/content/asl_alphabet_train/asl_alphabet_train/A/A1839.jpg',\n",
              " '/content/asl_alphabet_train/asl_alphabet_train/A/A1839.jpg',\n",
              " '/content/asl_alphabet_train/asl_alphabet_train/A/A1839.jpg',\n",
              " '/content/asl_alphabet_train/asl_alphabet_train/A/A1839.jpg',\n",
              " '/content/asl_alphabet_train/asl_alphabet_train/A/A1839.jpg',\n",
              " '/content/asl_alphabet_train/asl_alphabet_train/A/A1839.jpg',\n",
              " '/content/asl_alphabet_train/asl_alphabet_train/A/A1839.jpg',\n",
              " '/content/asl_alphabet_train/asl_alphabet_train/A/A1839.jpg',\n",
              " '/content/asl_alphabet_train/asl_alphabet_train/A/A1839.jpg',\n",
              " '/content/asl_alphabet_train/asl_alphabet_train/A/A1839.jpg',\n",
              " '/content/asl_alphabet_train/asl_alphabet_train/A/A1839.jpg',\n",
              " '/content/asl_alphabet_train/asl_alphabet_train/A/A1839.jpg',\n",
              " '/content/asl_alphabet_train/asl_alphabet_train/A/A1721.jpg',\n",
              " '/content/asl_alphabet_train/asl_alphabet_train/A/A1721.jpg',\n",
              " '/content/asl_alphabet_train/asl_alphabet_train/A/A1721.jpg',\n",
              " '/content/asl_alphabet_train/asl_alphabet_train/A/A1721.jpg',\n",
              " '/content/asl_alphabet_train/asl_alphabet_train/A/A1721.jpg',\n",
              " '/content/asl_alphabet_train/asl_alphabet_train/A/A1721.jpg',\n",
              " '/content/asl_alphabet_train/asl_alphabet_train/A/A1721.jpg',\n",
              " '/content/asl_alphabet_train/asl_alphabet_train/A/A1721.jpg',\n",
              " '/content/asl_alphabet_train/asl_alphabet_train/A/A1721.jpg',\n",
              " '/content/asl_alphabet_train/asl_alphabet_train/A/A1721.jpg',\n",
              " '/content/asl_alphabet_train/asl_alphabet_train/A/A1721.jpg',\n",
              " '/content/asl_alphabet_train/asl_alphabet_train/A/A1721.jpg',\n",
              " '/content/asl_alphabet_train/asl_alphabet_train/A/A1721.jpg',\n",
              " '/content/asl_alphabet_train/asl_alphabet_train/A/A1721.jpg',\n",
              " '/content/asl_alphabet_train/asl_alphabet_train/A/A1721.jpg',\n",
              " '/content/asl_alphabet_train/asl_alphabet_train/A/A1721.jpg',\n",
              " '/content/asl_alphabet_train/asl_alphabet_train/A/A1721.jpg',\n",
              " '/content/asl_alphabet_train/asl_alphabet_train/A/A1721.jpg',\n",
              " '/content/asl_alphabet_train/asl_alphabet_train/A/A1721.jpg',\n",
              " '/content/asl_alphabet_train/asl_alphabet_train/A/A1721.jpg',\n",
              " '/content/asl_alphabet_train/asl_alphabet_train/A/A1721.jpg',\n",
              " '/content/asl_alphabet_train/asl_alphabet_train/A/A1721.jpg',\n",
              " '/content/asl_alphabet_train/asl_alphabet_train/A/A1721.jpg',\n",
              " '/content/asl_alphabet_train/asl_alphabet_train/A/A1721.jpg',\n",
              " '/content/asl_alphabet_train/asl_alphabet_train/A/A1721.jpg',\n",
              " '/content/asl_alphabet_train/asl_alphabet_train/A/A1721.jpg',\n",
              " '/content/asl_alphabet_train/asl_alphabet_train/A/A1721.jpg',\n",
              " '/content/asl_alphabet_train/asl_alphabet_train/A/A1721.jpg',\n",
              " '/content/asl_alphabet_train/asl_alphabet_train/A/A1721.jpg',\n",
              " '/content/asl_alphabet_train/asl_alphabet_train/A/A1703.jpg',\n",
              " '/content/asl_alphabet_train/asl_alphabet_train/A/A1703.jpg',\n",
              " '/content/asl_alphabet_train/asl_alphabet_train/A/A1703.jpg',\n",
              " '/content/asl_alphabet_train/asl_alphabet_train/A/A1703.jpg',\n",
              " '/content/asl_alphabet_train/asl_alphabet_train/A/A1703.jpg',\n",
              " '/content/asl_alphabet_train/asl_alphabet_train/A/A1703.jpg',\n",
              " '/content/asl_alphabet_train/asl_alphabet_train/A/A1703.jpg',\n",
              " '/content/asl_alphabet_train/asl_alphabet_train/A/A1703.jpg',\n",
              " '/content/asl_alphabet_train/asl_alphabet_train/A/A1703.jpg',\n",
              " '/content/asl_alphabet_train/asl_alphabet_train/A/A1703.jpg',\n",
              " '/content/asl_alphabet_train/asl_alphabet_train/A/A1703.jpg',\n",
              " '/content/asl_alphabet_train/asl_alphabet_train/A/A1703.jpg',\n",
              " '/content/asl_alphabet_train/asl_alphabet_train/A/A1703.jpg',\n",
              " '/content/asl_alphabet_train/asl_alphabet_train/A/A1703.jpg',\n",
              " '/content/asl_alphabet_train/asl_alphabet_train/A/A1703.jpg',\n",
              " '/content/asl_alphabet_train/asl_alphabet_train/A/A1703.jpg',\n",
              " '/content/asl_alphabet_train/asl_alphabet_train/A/A1703.jpg',\n",
              " '/content/asl_alphabet_train/asl_alphabet_train/A/A1703.jpg',\n",
              " '/content/asl_alphabet_train/asl_alphabet_train/A/A1703.jpg',\n",
              " '/content/asl_alphabet_train/asl_alphabet_train/A/A1703.jpg',\n",
              " '/content/asl_alphabet_train/asl_alphabet_train/A/A1703.jpg',\n",
              " '/content/asl_alphabet_train/asl_alphabet_train/A/A1703.jpg',\n",
              " '/content/asl_alphabet_train/asl_alphabet_train/A/A1703.jpg',\n",
              " '/content/asl_alphabet_train/asl_alphabet_train/A/A1703.jpg',\n",
              " '/content/asl_alphabet_train/asl_alphabet_train/A/A1703.jpg',\n",
              " '/content/asl_alphabet_train/asl_alphabet_train/A/A1703.jpg',\n",
              " '/content/asl_alphabet_train/asl_alphabet_train/A/A1703.jpg',\n",
              " '/content/asl_alphabet_train/asl_alphabet_train/A/A1703.jpg',\n",
              " '/content/asl_alphabet_train/asl_alphabet_train/A/A1703.jpg',\n",
              " '/content/asl_alphabet_train/asl_alphabet_train/A/A1968.jpg',\n",
              " '/content/asl_alphabet_train/asl_alphabet_train/A/A1968.jpg',\n",
              " '/content/asl_alphabet_train/asl_alphabet_train/A/A1968.jpg',\n",
              " '/content/asl_alphabet_train/asl_alphabet_train/A/A1968.jpg',\n",
              " '/content/asl_alphabet_train/asl_alphabet_train/A/A1968.jpg',\n",
              " '/content/asl_alphabet_train/asl_alphabet_train/A/A1968.jpg',\n",
              " '/content/asl_alphabet_train/asl_alphabet_train/A/A1968.jpg',\n",
              " '/content/asl_alphabet_train/asl_alphabet_train/A/A1968.jpg',\n",
              " '/content/asl_alphabet_train/asl_alphabet_train/A/A1968.jpg',\n",
              " '/content/asl_alphabet_train/asl_alphabet_train/A/A1968.jpg',\n",
              " '/content/asl_alphabet_train/asl_alphabet_train/A/A1968.jpg',\n",
              " '/content/asl_alphabet_train/asl_alphabet_train/A/A1968.jpg',\n",
              " '/content/asl_alphabet_train/asl_alphabet_train/A/A1968.jpg',\n",
              " '/content/asl_alphabet_train/asl_alphabet_train/A/A1968.jpg',\n",
              " '/content/asl_alphabet_train/asl_alphabet_train/A/A1968.jpg',\n",
              " '/content/asl_alphabet_train/asl_alphabet_train/A/A1968.jpg',\n",
              " '/content/asl_alphabet_train/asl_alphabet_train/A/A1968.jpg',\n",
              " '/content/asl_alphabet_train/asl_alphabet_train/A/A1968.jpg',\n",
              " '/content/asl_alphabet_train/asl_alphabet_train/A/A1968.jpg',\n",
              " '/content/asl_alphabet_train/asl_alphabet_train/A/A1968.jpg',\n",
              " '/content/asl_alphabet_train/asl_alphabet_train/A/A1968.jpg',\n",
              " '/content/asl_alphabet_train/asl_alphabet_train/A/A1968.jpg',\n",
              " '/content/asl_alphabet_train/asl_alphabet_train/A/A1968.jpg',\n",
              " '/content/asl_alphabet_train/asl_alphabet_train/A/A1968.jpg',\n",
              " '/content/asl_alphabet_train/asl_alphabet_train/A/A1968.jpg',\n",
              " '/content/asl_alphabet_train/asl_alphabet_train/A/A1968.jpg',\n",
              " '/content/asl_alphabet_train/asl_alphabet_train/A/A1968.jpg',\n",
              " '/content/asl_alphabet_train/asl_alphabet_train/A/A1968.jpg',\n",
              " '/content/asl_alphabet_train/asl_alphabet_train/A/A1968.jpg',\n",
              " '/content/asl_alphabet_train/asl_alphabet_train/A/A607.jpg',\n",
              " '/content/asl_alphabet_train/asl_alphabet_train/A/A607.jpg',\n",
              " '/content/asl_alphabet_train/asl_alphabet_train/A/A607.jpg',\n",
              " '/content/asl_alphabet_train/asl_alphabet_train/A/A607.jpg',\n",
              " '/content/asl_alphabet_train/asl_alphabet_train/A/A607.jpg',\n",
              " '/content/asl_alphabet_train/asl_alphabet_train/A/A607.jpg',\n",
              " '/content/asl_alphabet_train/asl_alphabet_train/A/A607.jpg',\n",
              " '/content/asl_alphabet_train/asl_alphabet_train/A/A607.jpg',\n",
              " '/content/asl_alphabet_train/asl_alphabet_train/A/A607.jpg',\n",
              " '/content/asl_alphabet_train/asl_alphabet_train/A/A607.jpg',\n",
              " '/content/asl_alphabet_train/asl_alphabet_train/A/A607.jpg',\n",
              " '/content/asl_alphabet_train/asl_alphabet_train/A/A607.jpg',\n",
              " '/content/asl_alphabet_train/asl_alphabet_train/A/A607.jpg',\n",
              " '/content/asl_alphabet_train/asl_alphabet_train/A/A607.jpg',\n",
              " '/content/asl_alphabet_train/asl_alphabet_train/A/A607.jpg',\n",
              " '/content/asl_alphabet_train/asl_alphabet_train/A/A607.jpg',\n",
              " '/content/asl_alphabet_train/asl_alphabet_train/A/A607.jpg',\n",
              " '/content/asl_alphabet_train/asl_alphabet_train/A/A607.jpg',\n",
              " '/content/asl_alphabet_train/asl_alphabet_train/A/A607.jpg',\n",
              " '/content/asl_alphabet_train/asl_alphabet_train/A/A607.jpg',\n",
              " '/content/asl_alphabet_train/asl_alphabet_train/A/A607.jpg',\n",
              " '/content/asl_alphabet_train/asl_alphabet_train/A/A607.jpg',\n",
              " '/content/asl_alphabet_train/asl_alphabet_train/A/A607.jpg',\n",
              " '/content/asl_alphabet_train/asl_alphabet_train/A/A607.jpg',\n",
              " '/content/asl_alphabet_train/asl_alphabet_train/A/A607.jpg',\n",
              " '/content/asl_alphabet_train/asl_alphabet_train/A/A607.jpg',\n",
              " '/content/asl_alphabet_train/asl_alphabet_train/A/A607.jpg',\n",
              " '/content/asl_alphabet_train/asl_alphabet_train/A/A607.jpg',\n",
              " '/content/asl_alphabet_train/asl_alphabet_train/A/A607.jpg',\n",
              " '/content/asl_alphabet_train/asl_alphabet_train/A/A795.jpg',\n",
              " '/content/asl_alphabet_train/asl_alphabet_train/A/A795.jpg',\n",
              " '/content/asl_alphabet_train/asl_alphabet_train/A/A795.jpg',\n",
              " '/content/asl_alphabet_train/asl_alphabet_train/A/A795.jpg',\n",
              " '/content/asl_alphabet_train/asl_alphabet_train/A/A795.jpg',\n",
              " '/content/asl_alphabet_train/asl_alphabet_train/A/A795.jpg',\n",
              " '/content/asl_alphabet_train/asl_alphabet_train/A/A795.jpg',\n",
              " '/content/asl_alphabet_train/asl_alphabet_train/A/A795.jpg',\n",
              " '/content/asl_alphabet_train/asl_alphabet_train/A/A795.jpg',\n",
              " '/content/asl_alphabet_train/asl_alphabet_train/A/A795.jpg',\n",
              " '/content/asl_alphabet_train/asl_alphabet_train/A/A795.jpg',\n",
              " '/content/asl_alphabet_train/asl_alphabet_train/A/A795.jpg',\n",
              " '/content/asl_alphabet_train/asl_alphabet_train/A/A795.jpg',\n",
              " '/content/asl_alphabet_train/asl_alphabet_train/A/A795.jpg',\n",
              " '/content/asl_alphabet_train/asl_alphabet_train/A/A795.jpg',\n",
              " '/content/asl_alphabet_train/asl_alphabet_train/A/A795.jpg',\n",
              " '/content/asl_alphabet_train/asl_alphabet_train/A/A795.jpg',\n",
              " '/content/asl_alphabet_train/asl_alphabet_train/A/A795.jpg',\n",
              " '/content/asl_alphabet_train/asl_alphabet_train/A/A795.jpg',\n",
              " '/content/asl_alphabet_train/asl_alphabet_train/A/A795.jpg',\n",
              " '/content/asl_alphabet_train/asl_alphabet_train/A/A795.jpg',\n",
              " '/content/asl_alphabet_train/asl_alphabet_train/A/A795.jpg',\n",
              " '/content/asl_alphabet_train/asl_alphabet_train/A/A795.jpg',\n",
              " '/content/asl_alphabet_train/asl_alphabet_train/A/A795.jpg',\n",
              " '/content/asl_alphabet_train/asl_alphabet_train/A/A795.jpg',\n",
              " '/content/asl_alphabet_train/asl_alphabet_train/A/A795.jpg',\n",
              " '/content/asl_alphabet_train/asl_alphabet_train/A/A795.jpg',\n",
              " '/content/asl_alphabet_train/asl_alphabet_train/A/A795.jpg',\n",
              " '/content/asl_alphabet_train/asl_alphabet_train/A/A795.jpg',\n",
              " '/content/asl_alphabet_train/asl_alphabet_train/A/A1208.jpg',\n",
              " '/content/asl_alphabet_train/asl_alphabet_train/A/A1208.jpg',\n",
              " '/content/asl_alphabet_train/asl_alphabet_train/A/A1208.jpg',\n",
              " '/content/asl_alphabet_train/asl_alphabet_train/A/A1208.jpg',\n",
              " '/content/asl_alphabet_train/asl_alphabet_train/A/A1208.jpg',\n",
              " '/content/asl_alphabet_train/asl_alphabet_train/A/A1208.jpg',\n",
              " '/content/asl_alphabet_train/asl_alphabet_train/A/A1208.jpg',\n",
              " '/content/asl_alphabet_train/asl_alphabet_train/A/A1208.jpg',\n",
              " '/content/asl_alphabet_train/asl_alphabet_train/A/A1208.jpg',\n",
              " '/content/asl_alphabet_train/asl_alphabet_train/A/A1208.jpg',\n",
              " '/content/asl_alphabet_train/asl_alphabet_train/A/A1208.jpg',\n",
              " '/content/asl_alphabet_train/asl_alphabet_train/A/A1208.jpg',\n",
              " '/content/asl_alphabet_train/asl_alphabet_train/A/A1208.jpg',\n",
              " '/content/asl_alphabet_train/asl_alphabet_train/A/A1208.jpg',\n",
              " '/content/asl_alphabet_train/asl_alphabet_train/A/A1208.jpg',\n",
              " '/content/asl_alphabet_train/asl_alphabet_train/A/A1208.jpg',\n",
              " '/content/asl_alphabet_train/asl_alphabet_train/A/A1208.jpg',\n",
              " '/content/asl_alphabet_train/asl_alphabet_train/A/A1208.jpg',\n",
              " '/content/asl_alphabet_train/asl_alphabet_train/A/A1208.jpg',\n",
              " '/content/asl_alphabet_train/asl_alphabet_train/A/A1208.jpg',\n",
              " '/content/asl_alphabet_train/asl_alphabet_train/A/A1208.jpg',\n",
              " '/content/asl_alphabet_train/asl_alphabet_train/A/A1208.jpg',\n",
              " '/content/asl_alphabet_train/asl_alphabet_train/A/A1208.jpg',\n",
              " '/content/asl_alphabet_train/asl_alphabet_train/A/A1208.jpg',\n",
              " '/content/asl_alphabet_train/asl_alphabet_train/A/A1208.jpg',\n",
              " '/content/asl_alphabet_train/asl_alphabet_train/A/A1208.jpg',\n",
              " '/content/asl_alphabet_train/asl_alphabet_train/A/A1208.jpg',\n",
              " '/content/asl_alphabet_train/asl_alphabet_train/A/A1208.jpg',\n",
              " '/content/asl_alphabet_train/asl_alphabet_train/A/A1208.jpg',\n",
              " '/content/asl_alphabet_train/asl_alphabet_train/A/A7.jpg',\n",
              " '/content/asl_alphabet_train/asl_alphabet_train/A/A7.jpg',\n",
              " '/content/asl_alphabet_train/asl_alphabet_train/A/A7.jpg',\n",
              " '/content/asl_alphabet_train/asl_alphabet_train/A/A7.jpg',\n",
              " '/content/asl_alphabet_train/asl_alphabet_train/A/A7.jpg',\n",
              " '/content/asl_alphabet_train/asl_alphabet_train/A/A7.jpg',\n",
              " '/content/asl_alphabet_train/asl_alphabet_train/A/A7.jpg',\n",
              " '/content/asl_alphabet_train/asl_alphabet_train/A/A7.jpg',\n",
              " '/content/asl_alphabet_train/asl_alphabet_train/A/A7.jpg',\n",
              " '/content/asl_alphabet_train/asl_alphabet_train/A/A7.jpg',\n",
              " '/content/asl_alphabet_train/asl_alphabet_train/A/A7.jpg',\n",
              " '/content/asl_alphabet_train/asl_alphabet_train/A/A7.jpg',\n",
              " '/content/asl_alphabet_train/asl_alphabet_train/A/A7.jpg',\n",
              " '/content/asl_alphabet_train/asl_alphabet_train/A/A7.jpg',\n",
              " '/content/asl_alphabet_train/asl_alphabet_train/A/A7.jpg',\n",
              " '/content/asl_alphabet_train/asl_alphabet_train/A/A7.jpg',\n",
              " '/content/asl_alphabet_train/asl_alphabet_train/A/A7.jpg',\n",
              " '/content/asl_alphabet_train/asl_alphabet_train/A/A7.jpg',\n",
              " '/content/asl_alphabet_train/asl_alphabet_train/A/A7.jpg',\n",
              " '/content/asl_alphabet_train/asl_alphabet_train/A/A7.jpg',\n",
              " '/content/asl_alphabet_train/asl_alphabet_train/A/A7.jpg',\n",
              " '/content/asl_alphabet_train/asl_alphabet_train/A/A7.jpg',\n",
              " '/content/asl_alphabet_train/asl_alphabet_train/A/A7.jpg',\n",
              " '/content/asl_alphabet_train/asl_alphabet_train/A/A7.jpg',\n",
              " '/content/asl_alphabet_train/asl_alphabet_train/A/A7.jpg',\n",
              " '/content/asl_alphabet_train/asl_alphabet_train/A/A7.jpg',\n",
              " '/content/asl_alphabet_train/asl_alphabet_train/A/A7.jpg',\n",
              " '/content/asl_alphabet_train/asl_alphabet_train/A/A7.jpg',\n",
              " '/content/asl_alphabet_train/asl_alphabet_train/A/A7.jpg',\n",
              " '/content/asl_alphabet_train/asl_alphabet_train/A/A1675.jpg',\n",
              " '/content/asl_alphabet_train/asl_alphabet_train/A/A1675.jpg',\n",
              " '/content/asl_alphabet_train/asl_alphabet_train/A/A1675.jpg',\n",
              " '/content/asl_alphabet_train/asl_alphabet_train/A/A1675.jpg',\n",
              " '/content/asl_alphabet_train/asl_alphabet_train/A/A1675.jpg',\n",
              " '/content/asl_alphabet_train/asl_alphabet_train/A/A1675.jpg',\n",
              " '/content/asl_alphabet_train/asl_alphabet_train/A/A1675.jpg',\n",
              " '/content/asl_alphabet_train/asl_alphabet_train/A/A1675.jpg',\n",
              " '/content/asl_alphabet_train/asl_alphabet_train/A/A1675.jpg',\n",
              " '/content/asl_alphabet_train/asl_alphabet_train/A/A1675.jpg',\n",
              " '/content/asl_alphabet_train/asl_alphabet_train/A/A1675.jpg',\n",
              " '/content/asl_alphabet_train/asl_alphabet_train/A/A1675.jpg',\n",
              " '/content/asl_alphabet_train/asl_alphabet_train/A/A1675.jpg',\n",
              " '/content/asl_alphabet_train/asl_alphabet_train/A/A1675.jpg',\n",
              " '/content/asl_alphabet_train/asl_alphabet_train/A/A1675.jpg',\n",
              " '/content/asl_alphabet_train/asl_alphabet_train/A/A1675.jpg',\n",
              " '/content/asl_alphabet_train/asl_alphabet_train/A/A1675.jpg',\n",
              " '/content/asl_alphabet_train/asl_alphabet_train/A/A1675.jpg',\n",
              " '/content/asl_alphabet_train/asl_alphabet_train/A/A1675.jpg',\n",
              " '/content/asl_alphabet_train/asl_alphabet_train/A/A1675.jpg',\n",
              " '/content/asl_alphabet_train/asl_alphabet_train/A/A1675.jpg',\n",
              " '/content/asl_alphabet_train/asl_alphabet_train/A/A1675.jpg',\n",
              " '/content/asl_alphabet_train/asl_alphabet_train/A/A1675.jpg',\n",
              " '/content/asl_alphabet_train/asl_alphabet_train/A/A1675.jpg',\n",
              " '/content/asl_alphabet_train/asl_alphabet_train/A/A1675.jpg',\n",
              " '/content/asl_alphabet_train/asl_alphabet_train/A/A1675.jpg',\n",
              " '/content/asl_alphabet_train/asl_alphabet_train/A/A1675.jpg',\n",
              " '/content/asl_alphabet_train/asl_alphabet_train/A/A1675.jpg',\n",
              " '/content/asl_alphabet_train/asl_alphabet_train/A/A1675.jpg',\n",
              " '/content/asl_alphabet_train/asl_alphabet_train/A/A1577.jpg',\n",
              " '/content/asl_alphabet_train/asl_alphabet_train/A/A1577.jpg',\n",
              " '/content/asl_alphabet_train/asl_alphabet_train/A/A1577.jpg',\n",
              " '/content/asl_alphabet_train/asl_alphabet_train/A/A1577.jpg',\n",
              " '/content/asl_alphabet_train/asl_alphabet_train/A/A1577.jpg',\n",
              " '/content/asl_alphabet_train/asl_alphabet_train/A/A1577.jpg',\n",
              " '/content/asl_alphabet_train/asl_alphabet_train/A/A1577.jpg',\n",
              " '/content/asl_alphabet_train/asl_alphabet_train/A/A1577.jpg',\n",
              " '/content/asl_alphabet_train/asl_alphabet_train/A/A1577.jpg',\n",
              " '/content/asl_alphabet_train/asl_alphabet_train/A/A1577.jpg',\n",
              " '/content/asl_alphabet_train/asl_alphabet_train/A/A1577.jpg',\n",
              " '/content/asl_alphabet_train/asl_alphabet_train/A/A1577.jpg',\n",
              " '/content/asl_alphabet_train/asl_alphabet_train/A/A1577.jpg',\n",
              " '/content/asl_alphabet_train/asl_alphabet_train/A/A1577.jpg',\n",
              " '/content/asl_alphabet_train/asl_alphabet_train/A/A1577.jpg',\n",
              " '/content/asl_alphabet_train/asl_alphabet_train/A/A1577.jpg',\n",
              " '/content/asl_alphabet_train/asl_alphabet_train/A/A1577.jpg',\n",
              " '/content/asl_alphabet_train/asl_alphabet_train/A/A1577.jpg',\n",
              " '/content/asl_alphabet_train/asl_alphabet_train/A/A1577.jpg',\n",
              " '/content/asl_alphabet_train/asl_alphabet_train/A/A1577.jpg',\n",
              " '/content/asl_alphabet_train/asl_alphabet_train/A/A1577.jpg',\n",
              " '/content/asl_alphabet_train/asl_alphabet_train/A/A1577.jpg',\n",
              " '/content/asl_alphabet_train/asl_alphabet_train/A/A1577.jpg',\n",
              " '/content/asl_alphabet_train/asl_alphabet_train/A/A1577.jpg',\n",
              " '/content/asl_alphabet_train/asl_alphabet_train/A/A1577.jpg',\n",
              " '/content/asl_alphabet_train/asl_alphabet_train/A/A1577.jpg',\n",
              " '/content/asl_alphabet_train/asl_alphabet_train/A/A1577.jpg',\n",
              " '/content/asl_alphabet_train/asl_alphabet_train/A/A1577.jpg',\n",
              " '/content/asl_alphabet_train/asl_alphabet_train/A/A1577.jpg',\n",
              " '/content/asl_alphabet_train/asl_alphabet_train/A/A1113.jpg',\n",
              " '/content/asl_alphabet_train/asl_alphabet_train/A/A1113.jpg',\n",
              " '/content/asl_alphabet_train/asl_alphabet_train/A/A1113.jpg',\n",
              " '/content/asl_alphabet_train/asl_alphabet_train/A/A1113.jpg',\n",
              " '/content/asl_alphabet_train/asl_alphabet_train/A/A1113.jpg',\n",
              " '/content/asl_alphabet_train/asl_alphabet_train/A/A1113.jpg',\n",
              " '/content/asl_alphabet_train/asl_alphabet_train/A/A1113.jpg',\n",
              " '/content/asl_alphabet_train/asl_alphabet_train/A/A1113.jpg',\n",
              " '/content/asl_alphabet_train/asl_alphabet_train/A/A1113.jpg',\n",
              " '/content/asl_alphabet_train/asl_alphabet_train/A/A1113.jpg',\n",
              " '/content/asl_alphabet_train/asl_alphabet_train/A/A1113.jpg',\n",
              " '/content/asl_alphabet_train/asl_alphabet_train/A/A1113.jpg',\n",
              " '/content/asl_alphabet_train/asl_alphabet_train/A/A1113.jpg',\n",
              " '/content/asl_alphabet_train/asl_alphabet_train/A/A1113.jpg',\n",
              " '/content/asl_alphabet_train/asl_alphabet_train/A/A1113.jpg',\n",
              " '/content/asl_alphabet_train/asl_alphabet_train/A/A1113.jpg',\n",
              " '/content/asl_alphabet_train/asl_alphabet_train/A/A1113.jpg',\n",
              " '/content/asl_alphabet_train/asl_alphabet_train/A/A1113.jpg',\n",
              " '/content/asl_alphabet_train/asl_alphabet_train/A/A1113.jpg',\n",
              " '/content/asl_alphabet_train/asl_alphabet_train/A/A1113.jpg',\n",
              " '/content/asl_alphabet_train/asl_alphabet_train/A/A1113.jpg',\n",
              " '/content/asl_alphabet_train/asl_alphabet_train/A/A1113.jpg',\n",
              " '/content/asl_alphabet_train/asl_alphabet_train/A/A1113.jpg',\n",
              " '/content/asl_alphabet_train/asl_alphabet_train/A/A1113.jpg',\n",
              " '/content/asl_alphabet_train/asl_alphabet_train/A/A1113.jpg',\n",
              " '/content/asl_alphabet_train/asl_alphabet_train/A/A1113.jpg',\n",
              " '/content/asl_alphabet_train/asl_alphabet_train/A/A1113.jpg',\n",
              " '/content/asl_alphabet_train/asl_alphabet_train/A/A1113.jpg',\n",
              " '/content/asl_alphabet_train/asl_alphabet_train/A/A1113.jpg',\n",
              " '/content/asl_alphabet_train/asl_alphabet_train/A/A2504.jpg',\n",
              " '/content/asl_alphabet_train/asl_alphabet_train/A/A2504.jpg',\n",
              " '/content/asl_alphabet_train/asl_alphabet_train/A/A2504.jpg',\n",
              " '/content/asl_alphabet_train/asl_alphabet_train/A/A2504.jpg',\n",
              " '/content/asl_alphabet_train/asl_alphabet_train/A/A2504.jpg',\n",
              " '/content/asl_alphabet_train/asl_alphabet_train/A/A2504.jpg',\n",
              " '/content/asl_alphabet_train/asl_alphabet_train/A/A2504.jpg',\n",
              " '/content/asl_alphabet_train/asl_alphabet_train/A/A2504.jpg',\n",
              " '/content/asl_alphabet_train/asl_alphabet_train/A/A2504.jpg',\n",
              " '/content/asl_alphabet_train/asl_alphabet_train/A/A2504.jpg',\n",
              " '/content/asl_alphabet_train/asl_alphabet_train/A/A2504.jpg',\n",
              " '/content/asl_alphabet_train/asl_alphabet_train/A/A2504.jpg',\n",
              " '/content/asl_alphabet_train/asl_alphabet_train/A/A2504.jpg',\n",
              " '/content/asl_alphabet_train/asl_alphabet_train/A/A2504.jpg',\n",
              " '/content/asl_alphabet_train/asl_alphabet_train/A/A2504.jpg',\n",
              " '/content/asl_alphabet_train/asl_alphabet_train/A/A2504.jpg',\n",
              " '/content/asl_alphabet_train/asl_alphabet_train/A/A2504.jpg',\n",
              " '/content/asl_alphabet_train/asl_alphabet_train/A/A2504.jpg',\n",
              " '/content/asl_alphabet_train/asl_alphabet_train/A/A2504.jpg',\n",
              " '/content/asl_alphabet_train/asl_alphabet_train/A/A2504.jpg',\n",
              " '/content/asl_alphabet_train/asl_alphabet_train/A/A2504.jpg',\n",
              " '/content/asl_alphabet_train/asl_alphabet_train/A/A2504.jpg',\n",
              " '/content/asl_alphabet_train/asl_alphabet_train/A/A2504.jpg',\n",
              " '/content/asl_alphabet_train/asl_alphabet_train/A/A2504.jpg',\n",
              " '/content/asl_alphabet_train/asl_alphabet_train/A/A2504.jpg',\n",
              " '/content/asl_alphabet_train/asl_alphabet_train/A/A2504.jpg',\n",
              " '/content/asl_alphabet_train/asl_alphabet_train/A/A2504.jpg',\n",
              " '/content/asl_alphabet_train/asl_alphabet_train/A/A2504.jpg',\n",
              " '/content/asl_alphabet_train/asl_alphabet_train/A/A2504.jpg',\n",
              " '/content/asl_alphabet_train/asl_alphabet_train/A/A2490.jpg',\n",
              " '/content/asl_alphabet_train/asl_alphabet_train/A/A2490.jpg',\n",
              " '/content/asl_alphabet_train/asl_alphabet_train/A/A2490.jpg',\n",
              " '/content/asl_alphabet_train/asl_alphabet_train/A/A2490.jpg',\n",
              " '/content/asl_alphabet_train/asl_alphabet_train/A/A2490.jpg',\n",
              " '/content/asl_alphabet_train/asl_alphabet_train/A/A2490.jpg',\n",
              " '/content/asl_alphabet_train/asl_alphabet_train/A/A2490.jpg',\n",
              " '/content/asl_alphabet_train/asl_alphabet_train/A/A2490.jpg',\n",
              " '/content/asl_alphabet_train/asl_alphabet_train/A/A2490.jpg',\n",
              " '/content/asl_alphabet_train/asl_alphabet_train/A/A2490.jpg',\n",
              " '/content/asl_alphabet_train/asl_alphabet_train/A/A2490.jpg',\n",
              " '/content/asl_alphabet_train/asl_alphabet_train/A/A2490.jpg',\n",
              " '/content/asl_alphabet_train/asl_alphabet_train/A/A2490.jpg',\n",
              " '/content/asl_alphabet_train/asl_alphabet_train/A/A2490.jpg',\n",
              " '/content/asl_alphabet_train/asl_alphabet_train/A/A2490.jpg',\n",
              " '/content/asl_alphabet_train/asl_alphabet_train/A/A2490.jpg',\n",
              " '/content/asl_alphabet_train/asl_alphabet_train/A/A2490.jpg',\n",
              " '/content/asl_alphabet_train/asl_alphabet_train/A/A2490.jpg',\n",
              " '/content/asl_alphabet_train/asl_alphabet_train/A/A2490.jpg',\n",
              " '/content/asl_alphabet_train/asl_alphabet_train/A/A2490.jpg',\n",
              " '/content/asl_alphabet_train/asl_alphabet_train/A/A2490.jpg',\n",
              " '/content/asl_alphabet_train/asl_alphabet_train/A/A2490.jpg',\n",
              " '/content/asl_alphabet_train/asl_alphabet_train/A/A2490.jpg',\n",
              " '/content/asl_alphabet_train/asl_alphabet_train/A/A2490.jpg',\n",
              " '/content/asl_alphabet_train/asl_alphabet_train/A/A2490.jpg',\n",
              " '/content/asl_alphabet_train/asl_alphabet_train/A/A2490.jpg',\n",
              " '/content/asl_alphabet_train/asl_alphabet_train/A/A2490.jpg',\n",
              " '/content/asl_alphabet_train/asl_alphabet_train/A/A2490.jpg',\n",
              " '/content/asl_alphabet_train/asl_alphabet_train/A/A2490.jpg',\n",
              " '/content/asl_alphabet_train/asl_alphabet_train/A/A1529.jpg',\n",
              " '/content/asl_alphabet_train/asl_alphabet_train/A/A1529.jpg',\n",
              " '/content/asl_alphabet_train/asl_alphabet_train/A/A1529.jpg',\n",
              " '/content/asl_alphabet_train/asl_alphabet_train/A/A1529.jpg',\n",
              " '/content/asl_alphabet_train/asl_alphabet_train/A/A1529.jpg',\n",
              " '/content/asl_alphabet_train/asl_alphabet_train/A/A1529.jpg',\n",
              " '/content/asl_alphabet_train/asl_alphabet_train/A/A1529.jpg',\n",
              " '/content/asl_alphabet_train/asl_alphabet_train/A/A1529.jpg',\n",
              " '/content/asl_alphabet_train/asl_alphabet_train/A/A1529.jpg',\n",
              " '/content/asl_alphabet_train/asl_alphabet_train/A/A1529.jpg',\n",
              " '/content/asl_alphabet_train/asl_alphabet_train/A/A1529.jpg',\n",
              " '/content/asl_alphabet_train/asl_alphabet_train/A/A1529.jpg',\n",
              " '/content/asl_alphabet_train/asl_alphabet_train/A/A1529.jpg',\n",
              " '/content/asl_alphabet_train/asl_alphabet_train/A/A1529.jpg',\n",
              " '/content/asl_alphabet_train/asl_alphabet_train/A/A1529.jpg',\n",
              " '/content/asl_alphabet_train/asl_alphabet_train/A/A1529.jpg',\n",
              " '/content/asl_alphabet_train/asl_alphabet_train/A/A1529.jpg',\n",
              " '/content/asl_alphabet_train/asl_alphabet_train/A/A1529.jpg',\n",
              " '/content/asl_alphabet_train/asl_alphabet_train/A/A1529.jpg',\n",
              " '/content/asl_alphabet_train/asl_alphabet_train/A/A1529.jpg',\n",
              " '/content/asl_alphabet_train/asl_alphabet_train/A/A1529.jpg',\n",
              " '/content/asl_alphabet_train/asl_alphabet_train/A/A1529.jpg',\n",
              " '/content/asl_alphabet_train/asl_alphabet_train/A/A1529.jpg',\n",
              " '/content/asl_alphabet_train/asl_alphabet_train/A/A1529.jpg',\n",
              " '/content/asl_alphabet_train/asl_alphabet_train/A/A1529.jpg',\n",
              " '/content/asl_alphabet_train/asl_alphabet_train/A/A1529.jpg',\n",
              " '/content/asl_alphabet_train/asl_alphabet_train/A/A1529.jpg',\n",
              " '/content/asl_alphabet_train/asl_alphabet_train/A/A1529.jpg',\n",
              " '/content/asl_alphabet_train/asl_alphabet_train/A/A1529.jpg',\n",
              " '/content/asl_alphabet_train/asl_alphabet_train/A/A122.jpg',\n",
              " '/content/asl_alphabet_train/asl_alphabet_train/A/A122.jpg',\n",
              " '/content/asl_alphabet_train/asl_alphabet_train/A/A122.jpg',\n",
              " '/content/asl_alphabet_train/asl_alphabet_train/A/A122.jpg',\n",
              " '/content/asl_alphabet_train/asl_alphabet_train/A/A122.jpg',\n",
              " '/content/asl_alphabet_train/asl_alphabet_train/A/A122.jpg',\n",
              " '/content/asl_alphabet_train/asl_alphabet_train/A/A122.jpg',\n",
              " '/content/asl_alphabet_train/asl_alphabet_train/A/A122.jpg',\n",
              " '/content/asl_alphabet_train/asl_alphabet_train/A/A122.jpg',\n",
              " '/content/asl_alphabet_train/asl_alphabet_train/A/A122.jpg',\n",
              " '/content/asl_alphabet_train/asl_alphabet_train/A/A122.jpg',\n",
              " '/content/asl_alphabet_train/asl_alphabet_train/A/A122.jpg',\n",
              " '/content/asl_alphabet_train/asl_alphabet_train/A/A122.jpg',\n",
              " '/content/asl_alphabet_train/asl_alphabet_train/A/A122.jpg',\n",
              " '/content/asl_alphabet_train/asl_alphabet_train/A/A122.jpg',\n",
              " '/content/asl_alphabet_train/asl_alphabet_train/A/A122.jpg',\n",
              " '/content/asl_alphabet_train/asl_alphabet_train/A/A122.jpg',\n",
              " '/content/asl_alphabet_train/asl_alphabet_train/A/A122.jpg',\n",
              " '/content/asl_alphabet_train/asl_alphabet_train/A/A122.jpg',\n",
              " '/content/asl_alphabet_train/asl_alphabet_train/A/A122.jpg',\n",
              " '/content/asl_alphabet_train/asl_alphabet_train/A/A122.jpg',\n",
              " '/content/asl_alphabet_train/asl_alphabet_train/A/A122.jpg',\n",
              " '/content/asl_alphabet_train/asl_alphabet_train/A/A122.jpg',\n",
              " '/content/asl_alphabet_train/asl_alphabet_train/A/A122.jpg',\n",
              " '/content/asl_alphabet_train/asl_alphabet_train/A/A122.jpg',\n",
              " '/content/asl_alphabet_train/asl_alphabet_train/A/A122.jpg',\n",
              " '/content/asl_alphabet_train/asl_alphabet_train/A/A122.jpg',\n",
              " '/content/asl_alphabet_train/asl_alphabet_train/A/A122.jpg',\n",
              " '/content/asl_alphabet_train/asl_alphabet_train/A/A122.jpg',\n",
              " '/content/asl_alphabet_train/asl_alphabet_train/A/A1473.jpg',\n",
              " '/content/asl_alphabet_train/asl_alphabet_train/A/A1473.jpg',\n",
              " '/content/asl_alphabet_train/asl_alphabet_train/A/A1473.jpg',\n",
              " '/content/asl_alphabet_train/asl_alphabet_train/A/A1473.jpg',\n",
              " '/content/asl_alphabet_train/asl_alphabet_train/A/A1473.jpg',\n",
              " '/content/asl_alphabet_train/asl_alphabet_train/A/A1473.jpg',\n",
              " '/content/asl_alphabet_train/asl_alphabet_train/A/A1473.jpg',\n",
              " '/content/asl_alphabet_train/asl_alphabet_train/A/A1473.jpg',\n",
              " '/content/asl_alphabet_train/asl_alphabet_train/A/A1473.jpg',\n",
              " '/content/asl_alphabet_train/asl_alphabet_train/A/A1473.jpg',\n",
              " '/content/asl_alphabet_train/asl_alphabet_train/A/A1473.jpg',\n",
              " '/content/asl_alphabet_train/asl_alphabet_train/A/A1473.jpg',\n",
              " '/content/asl_alphabet_train/asl_alphabet_train/A/A1473.jpg',\n",
              " '/content/asl_alphabet_train/asl_alphabet_train/A/A1473.jpg',\n",
              " '/content/asl_alphabet_train/asl_alphabet_train/A/A1473.jpg',\n",
              " '/content/asl_alphabet_train/asl_alphabet_train/A/A1473.jpg',\n",
              " '/content/asl_alphabet_train/asl_alphabet_train/A/A1473.jpg',\n",
              " '/content/asl_alphabet_train/asl_alphabet_train/A/A1473.jpg',\n",
              " '/content/asl_alphabet_train/asl_alphabet_train/A/A1473.jpg',\n",
              " '/content/asl_alphabet_train/asl_alphabet_train/A/A1473.jpg',\n",
              " '/content/asl_alphabet_train/asl_alphabet_train/A/A1473.jpg',\n",
              " '/content/asl_alphabet_train/asl_alphabet_train/A/A1473.jpg',\n",
              " '/content/asl_alphabet_train/asl_alphabet_train/A/A1473.jpg',\n",
              " '/content/asl_alphabet_train/asl_alphabet_train/A/A1473.jpg',\n",
              " '/content/asl_alphabet_train/asl_alphabet_train/A/A1473.jpg',\n",
              " '/content/asl_alphabet_train/asl_alphabet_train/A/A1473.jpg',\n",
              " '/content/asl_alphabet_train/asl_alphabet_train/A/A1473.jpg',\n",
              " '/content/asl_alphabet_train/asl_alphabet_train/A/A1473.jpg',\n",
              " '/content/asl_alphabet_train/asl_alphabet_train/A/A1473.jpg',\n",
              " '/content/asl_alphabet_train/asl_alphabet_train/A/A611.jpg',\n",
              " '/content/asl_alphabet_train/asl_alphabet_train/A/A611.jpg',\n",
              " '/content/asl_alphabet_train/asl_alphabet_train/A/A611.jpg',\n",
              " '/content/asl_alphabet_train/asl_alphabet_train/A/A611.jpg',\n",
              " '/content/asl_alphabet_train/asl_alphabet_train/A/A611.jpg',\n",
              " '/content/asl_alphabet_train/asl_alphabet_train/A/A611.jpg',\n",
              " '/content/asl_alphabet_train/asl_alphabet_train/A/A611.jpg',\n",
              " '/content/asl_alphabet_train/asl_alphabet_train/A/A611.jpg',\n",
              " '/content/asl_alphabet_train/asl_alphabet_train/A/A611.jpg',\n",
              " '/content/asl_alphabet_train/asl_alphabet_train/A/A611.jpg',\n",
              " '/content/asl_alphabet_train/asl_alphabet_train/A/A611.jpg',\n",
              " '/content/asl_alphabet_train/asl_alphabet_train/A/A611.jpg',\n",
              " '/content/asl_alphabet_train/asl_alphabet_train/A/A611.jpg',\n",
              " '/content/asl_alphabet_train/asl_alphabet_train/A/A611.jpg',\n",
              " '/content/asl_alphabet_train/asl_alphabet_train/A/A611.jpg',\n",
              " '/content/asl_alphabet_train/asl_alphabet_train/A/A611.jpg',\n",
              " '/content/asl_alphabet_train/asl_alphabet_train/A/A611.jpg',\n",
              " '/content/asl_alphabet_train/asl_alphabet_train/A/A611.jpg',\n",
              " '/content/asl_alphabet_train/asl_alphabet_train/A/A611.jpg',\n",
              " '/content/asl_alphabet_train/asl_alphabet_train/A/A611.jpg',\n",
              " '/content/asl_alphabet_train/asl_alphabet_train/A/A611.jpg',\n",
              " '/content/asl_alphabet_train/asl_alphabet_train/A/A611.jpg',\n",
              " '/content/asl_alphabet_train/asl_alphabet_train/A/A611.jpg',\n",
              " '/content/asl_alphabet_train/asl_alphabet_train/A/A611.jpg',\n",
              " '/content/asl_alphabet_train/asl_alphabet_train/A/A611.jpg',\n",
              " '/content/asl_alphabet_train/asl_alphabet_train/A/A611.jpg',\n",
              " '/content/asl_alphabet_train/asl_alphabet_train/A/A611.jpg',\n",
              " '/content/asl_alphabet_train/asl_alphabet_train/A/A611.jpg',\n",
              " '/content/asl_alphabet_train/asl_alphabet_train/A/A611.jpg',\n",
              " '/content/asl_alphabet_train/asl_alphabet_train/A/A857.jpg',\n",
              " '/content/asl_alphabet_train/asl_alphabet_train/A/A857.jpg',\n",
              " '/content/asl_alphabet_train/asl_alphabet_train/A/A857.jpg',\n",
              " '/content/asl_alphabet_train/asl_alphabet_train/A/A857.jpg',\n",
              " '/content/asl_alphabet_train/asl_alphabet_train/A/A857.jpg',\n",
              " '/content/asl_alphabet_train/asl_alphabet_train/A/A857.jpg',\n",
              " '/content/asl_alphabet_train/asl_alphabet_train/A/A857.jpg',\n",
              " '/content/asl_alphabet_train/asl_alphabet_train/A/A857.jpg',\n",
              " '/content/asl_alphabet_train/asl_alphabet_train/A/A857.jpg',\n",
              " '/content/asl_alphabet_train/asl_alphabet_train/A/A857.jpg',\n",
              " '/content/asl_alphabet_train/asl_alphabet_train/A/A857.jpg',\n",
              " '/content/asl_alphabet_train/asl_alphabet_train/A/A857.jpg',\n",
              " '/content/asl_alphabet_train/asl_alphabet_train/A/A857.jpg',\n",
              " '/content/asl_alphabet_train/asl_alphabet_train/A/A857.jpg',\n",
              " '/content/asl_alphabet_train/asl_alphabet_train/A/A857.jpg',\n",
              " '/content/asl_alphabet_train/asl_alphabet_train/A/A857.jpg',\n",
              " '/content/asl_alphabet_train/asl_alphabet_train/A/A857.jpg',\n",
              " '/content/asl_alphabet_train/asl_alphabet_train/A/A857.jpg',\n",
              " '/content/asl_alphabet_train/asl_alphabet_train/A/A857.jpg',\n",
              " '/content/asl_alphabet_train/asl_alphabet_train/A/A857.jpg',\n",
              " '/content/asl_alphabet_train/asl_alphabet_train/A/A857.jpg',\n",
              " '/content/asl_alphabet_train/asl_alphabet_train/A/A857.jpg',\n",
              " '/content/asl_alphabet_train/asl_alphabet_train/A/A857.jpg',\n",
              " '/content/asl_alphabet_train/asl_alphabet_train/A/A857.jpg',\n",
              " '/content/asl_alphabet_train/asl_alphabet_train/A/A857.jpg',\n",
              " '/content/asl_alphabet_train/asl_alphabet_train/A/A857.jpg',\n",
              " '/content/asl_alphabet_train/asl_alphabet_train/A/A857.jpg',\n",
              " '/content/asl_alphabet_train/asl_alphabet_train/A/A857.jpg',\n",
              " '/content/asl_alphabet_train/asl_alphabet_train/A/A857.jpg',\n",
              " '/content/asl_alphabet_train/asl_alphabet_train/A/A316.jpg',\n",
              " '/content/asl_alphabet_train/asl_alphabet_train/A/A316.jpg',\n",
              " '/content/asl_alphabet_train/asl_alphabet_train/A/A316.jpg',\n",
              " '/content/asl_alphabet_train/asl_alphabet_train/A/A316.jpg',\n",
              " '/content/asl_alphabet_train/asl_alphabet_train/A/A316.jpg',\n",
              " '/content/asl_alphabet_train/asl_alphabet_train/A/A316.jpg',\n",
              " '/content/asl_alphabet_train/asl_alphabet_train/A/A316.jpg',\n",
              " '/content/asl_alphabet_train/asl_alphabet_train/A/A316.jpg',\n",
              " '/content/asl_alphabet_train/asl_alphabet_train/A/A316.jpg',\n",
              " '/content/asl_alphabet_train/asl_alphabet_train/A/A316.jpg',\n",
              " '/content/asl_alphabet_train/asl_alphabet_train/A/A316.jpg',\n",
              " '/content/asl_alphabet_train/asl_alphabet_train/A/A316.jpg',\n",
              " '/content/asl_alphabet_train/asl_alphabet_train/A/A316.jpg',\n",
              " '/content/asl_alphabet_train/asl_alphabet_train/A/A316.jpg',\n",
              " ...]"
            ]
          },
          "metadata": {
            "tags": []
          },
          "execution_count": 10
        }
      ]
    },
    {
      "cell_type": "code",
      "metadata": {
        "id": "jf_X50nXzt54"
      },
      "source": [
        "image_paths = list(set(image_paths))"
      ],
      "execution_count": null,
      "outputs": []
    },
    {
      "cell_type": "code",
      "metadata": {
        "id": "g_uPak5qcFkK",
        "colab": {
          "base_uri": "https://localhost:8080/",
          "height": 217
        },
        "outputId": "640dfb3d-a05d-47ed-9cbf-825fdd8adcaa"
      },
      "source": [
        "from IPython.display import Image\n",
        "\n",
        "Image(image_paths[0])"
      ],
      "execution_count": null,
      "outputs": [
        {
          "output_type": "execute_result",
          "data": {
            "image/jpeg": "[encoded data removed]",
            "text/plain": [
              "<IPython.core.display.Image object>"
            ]
          },
          "metadata": {
            "tags": []
          },
          "execution_count": 12
        }
      ]
    },
    {
      "cell_type": "code",
      "metadata": {
        "colab": {
          "base_uri": "https://localhost:8080/",
          "height": 35
        },
        "id": "loNk5ABurAgm",
        "outputId": "1efbe02c-475d-4bef-a85f-5ce60bc500b5"
      },
      "source": [
        "idandlabels = []\n",
        "for image_path in image_paths:\n",
        "  first_step = image_path.replace('/content/asl_alphabet_train/asl_alphabet_train/', '')\n",
        "  second_step = first_step.split('/')[1]\n",
        "  third_step = second_step.replace(\".jpg\", '')\n",
        "  idandlabels.append(third_step)\n",
        "\n",
        "idandlabels[6]"
      ],
      "execution_count": null,
      "outputs": [
        {
          "output_type": "execute_result",
          "data": {
            "application/vnd.google.colaboratory.intrinsic+json": {
              "type": "string"
            },
            "text/plain": [
              "'F523'"
            ]
          },
          "metadata": {
            "tags": []
          },
          "execution_count": 13
        }
      ]
    },
    {
      "cell_type": "code",
      "metadata": {
        "colab": {
          "base_uri": "https://localhost:8080/"
        },
        "id": "1IvWEC3wwyuW",
        "outputId": "d0d1a6da-b6f2-43c5-bb64-f7930852eed0"
      },
      "source": [
        "ids_for_df = []\n",
        "labels_for_df = []\n",
        "for string in idandlabels:\n",
        "  id = ''\n",
        "  label = ''\n",
        "  for char in string:\n",
        "    if char.isnumeric():\n",
        "      id += char\n",
        "    else:\n",
        "      label += char\n",
        "  ids_for_df.append(id)\n",
        "  labels_for_df.append(label)\n",
        "\n",
        "labels_for_df[0], ids_for_df[0]"
      ],
      "execution_count": null,
      "outputs": [
        {
          "output_type": "execute_result",
          "data": {
            "text/plain": [
              "('B', '424')"
            ]
          },
          "metadata": {
            "tags": []
          },
          "execution_count": 15
        }
      ]
    },
    {
      "cell_type": "code",
      "metadata": {
        "colab": {
          "base_uri": "https://localhost:8080/",
          "height": 204
        },
        "id": "XyuLse2tyE9u",
        "outputId": "6a119c40-7663-47f0-9c83-24ced7face66"
      },
      "source": [
        "labels_df = pd.DataFrame(data={'ids':ids_for_df, 'labels': labels_for_df})\n",
        "labels_df.head()"
      ],
      "execution_count": null,
      "outputs": [
        {
          "output_type": "execute_result",
          "data": {
            "text/html": [
              "<div>\n",
              "<style scoped>\n",
              "    .dataframe tbody tr th:only-of-type {\n",
              "        vertical-align: middle;\n",
              "    }\n",
              "\n",
              "    .dataframe tbody tr th {\n",
              "        vertical-align: top;\n",
              "    }\n",
              "\n",
              "    .dataframe thead th {\n",
              "        text-align: right;\n",
              "    }\n",
              "</style>\n",
              "<table border=\"1\" class=\"dataframe\">\n",
              "  <thead>\n",
              "    <tr style=\"text-align: right;\">\n",
              "      <th></th>\n",
              "      <th>ids</th>\n",
              "      <th>labels</th>\n",
              "    </tr>\n",
              "  </thead>\n",
              "  <tbody>\n",
              "    <tr>\n",
              "      <th>0</th>\n",
              "      <td>424</td>\n",
              "      <td>B</td>\n",
              "    </tr>\n",
              "    <tr>\n",
              "      <th>1</th>\n",
              "      <td>1252</td>\n",
              "      <td>A</td>\n",
              "    </tr>\n",
              "    <tr>\n",
              "      <th>2</th>\n",
              "      <td>2976</td>\n",
              "      <td>U</td>\n",
              "    </tr>\n",
              "    <tr>\n",
              "      <th>3</th>\n",
              "      <td>1071</td>\n",
              "      <td>P</td>\n",
              "    </tr>\n",
              "    <tr>\n",
              "      <th>4</th>\n",
              "      <td>709</td>\n",
              "      <td>U</td>\n",
              "    </tr>\n",
              "  </tbody>\n",
              "</table>\n",
              "</div>"
            ],
            "text/plain": [
              "    ids labels\n",
              "0   424      B\n",
              "1  1252      A\n",
              "2  2976      U\n",
              "3  1071      P\n",
              "4   709      U"
            ]
          },
          "metadata": {
            "tags": []
          },
          "execution_count": 16
        }
      ]
    },
    {
      "cell_type": "code",
      "metadata": {
        "colab": {
          "base_uri": "https://localhost:8080/",
          "height": 204
        },
        "id": "2p9HWxPMySIc",
        "outputId": "0d5becd6-3e8c-4c29-cb92-ca7436cb4cf2"
      },
      "source": [
        "labels_df.tail()"
      ],
      "execution_count": null,
      "outputs": [
        {
          "output_type": "execute_result",
          "data": {
            "text/html": [
              "<div>\n",
              "<style scoped>\n",
              "    .dataframe tbody tr th:only-of-type {\n",
              "        vertical-align: middle;\n",
              "    }\n",
              "\n",
              "    .dataframe tbody tr th {\n",
              "        vertical-align: top;\n",
              "    }\n",
              "\n",
              "    .dataframe thead th {\n",
              "        text-align: right;\n",
              "    }\n",
              "</style>\n",
              "<table border=\"1\" class=\"dataframe\">\n",
              "  <thead>\n",
              "    <tr style=\"text-align: right;\">\n",
              "      <th></th>\n",
              "      <th>ids</th>\n",
              "      <th>labels</th>\n",
              "    </tr>\n",
              "  </thead>\n",
              "  <tbody>\n",
              "    <tr>\n",
              "      <th>86995</th>\n",
              "      <td>1175</td>\n",
              "      <td>V</td>\n",
              "    </tr>\n",
              "    <tr>\n",
              "      <th>86996</th>\n",
              "      <td>411</td>\n",
              "      <td>K</td>\n",
              "    </tr>\n",
              "    <tr>\n",
              "      <th>86997</th>\n",
              "      <td>202</td>\n",
              "      <td>D</td>\n",
              "    </tr>\n",
              "    <tr>\n",
              "      <th>86998</th>\n",
              "      <td>694</td>\n",
              "      <td>P</td>\n",
              "    </tr>\n",
              "    <tr>\n",
              "      <th>86999</th>\n",
              "      <td>1964</td>\n",
              "      <td>S</td>\n",
              "    </tr>\n",
              "  </tbody>\n",
              "</table>\n",
              "</div>"
            ],
            "text/plain": [
              "        ids labels\n",
              "86995  1175      V\n",
              "86996   411      K\n",
              "86997   202      D\n",
              "86998   694      P\n",
              "86999  1964      S"
            ]
          },
          "metadata": {
            "tags": []
          },
          "execution_count": 17
        }
      ]
    },
    {
      "cell_type": "code",
      "metadata": {
        "id": "b_XrVfDgyaZk",
        "colab": {
          "base_uri": "https://localhost:8080/"
        },
        "outputId": "86c3c0dd-2066-4957-a608-d6fc7cd029ea"
      },
      "source": [
        "# labels_df.sort_values(by=['labels', 'ids'], ignore_index=True, inplace=True)\n",
        "len(labels_df)"
      ],
      "execution_count": null,
      "outputs": [
        {
          "output_type": "execute_result",
          "data": {
            "text/plain": [
              "87000"
            ]
          },
          "metadata": {
            "tags": []
          },
          "execution_count": 18
        }
      ]
    },
    {
      "cell_type": "markdown",
      "metadata": {
        "id": "ZvZ5uKla5bpk"
      },
      "source": [
        "yasssssssss!!!!"
      ]
    },
    {
      "cell_type": "code",
      "metadata": {
        "colab": {
          "base_uri": "https://localhost:8080/"
        },
        "id": "t_46jRbT6Hy0",
        "outputId": "975795ba-4bb1-46c2-fc21-c40c7b18a7d5"
      },
      "source": [
        "np.array(labels_df.labels)[0] == np.array(alphabets)"
      ],
      "execution_count": null,
      "outputs": [
        {
          "output_type": "execute_result",
          "data": {
            "text/plain": [
              "array([False,  True, False, False, False, False, False, False, False,\n",
              "       False, False, False, False, False, False, False, False, False,\n",
              "       False, False, False, False, False, False, False, False, False,\n",
              "       False, False])"
            ]
          },
          "metadata": {
            "tags": []
          },
          "execution_count": 19
        }
      ]
    },
    {
      "cell_type": "markdown",
      "metadata": {
        "id": "H1SN_95s-N0k"
      },
      "source": [
        "What next:\n",
        "\n",
        "* convert every label to an array of bools\n",
        "* Numerically encode them\n",
        "* Convert the images and batch them up\n",
        "* Modelling\n",
        "* Improving\n",
        "* Deploy"
      ]
    },
    {
      "cell_type": "code",
      "metadata": {
        "colab": {
          "base_uri": "https://localhost:8080/"
        },
        "id": "avfsAvhXeE4S",
        "outputId": "80d021ca-7095-484a-dc8d-c6ed670b4a19"
      },
      "source": [
        "labels = labels_df['labels']\n",
        "boolean_labels = [label == alphabets for label in labels]\n",
        "boolean_labels[:2]"
      ],
      "execution_count": null,
      "outputs": [
        {
          "output_type": "execute_result",
          "data": {
            "text/plain": [
              "[array([False,  True, False, False, False, False, False, False, False,\n",
              "        False, False, False, False, False, False, False, False, False,\n",
              "        False, False, False, False, False, False, False, False, False,\n",
              "        False, False]),\n",
              " array([ True, False, False, False, False, False, False, False, False,\n",
              "        False, False, False, False, False, False, False, False, False,\n",
              "        False, False, False, False, False, False, False, False, False,\n",
              "        False, False])]"
            ]
          },
          "metadata": {
            "tags": []
          },
          "execution_count": 20
        }
      ]
    },
    {
      "cell_type": "code",
      "metadata": {
        "colab": {
          "base_uri": "https://localhost:8080/"
        },
        "id": "8BW15MWnehhg",
        "outputId": "f1926048-d331-4f32-ed9d-d1ba7916e65b"
      },
      "source": [
        "from matplotlib.pyplot import imread\n",
        "\n",
        "image = imread(image_paths[10000])\n",
        "image.shape"
      ],
      "execution_count": null,
      "outputs": [
        {
          "output_type": "execute_result",
          "data": {
            "text/plain": [
              "(200, 200, 3)"
            ]
          },
          "metadata": {
            "tags": []
          },
          "execution_count": 21
        }
      ]
    },
    {
      "cell_type": "code",
      "metadata": {
        "colab": {
          "base_uri": "https://localhost:8080/"
        },
        "id": "8R79aJM6gbQR",
        "outputId": "b0224177-7e15-4768-8f61-e589aa0befd1"
      },
      "source": [
        "# 224 as the model we are going to use requires it to be so\n",
        "def process_image(image_path):\n",
        "  \"\"\"\n",
        "  Takes an image path and coverts the image into Tensors\n",
        "  \"\"\"\n",
        "  # Read in an image file\n",
        "  image = tf.io.read_file(image_path)\n",
        "  \n",
        "  # Turn the image into numerical tensor with three colour channels (RGB)\n",
        "  image = tf.image.decode_jpeg(image, channels=3)\n",
        "  \n",
        "  # Convert the colour channel values from 0-255 to 0-1 values\n",
        "  image = tf.image.convert_image_dtype(image, tf.float32) # the function scales the data from 0-255 to 0-1\n",
        "  \n",
        "  # return the image\n",
        "  return image\n",
        "\n",
        "def get_labels(image, label):\n",
        "\n",
        "  image = process_image(image)\n",
        "  return image, label\n",
        "\n",
        "get_labels(image_paths[0], tf.constant(labels[0]))"
      ],
      "execution_count": null,
      "outputs": [
        {
          "output_type": "execute_result",
          "data": {
            "text/plain": [
              "(<tf.Tensor: shape=(200, 200, 3), dtype=float32, numpy=\n",
              " array([[[0.        , 0.00392157, 0.9803922 ],\n",
              "         [0.        , 0.00392157, 0.96470594],\n",
              "         [0.02352941, 0.        , 0.9294118 ],\n",
              "         ...,\n",
              "         [0.        , 0.        , 0.9294118 ],\n",
              "         [0.        , 0.        , 0.96470594],\n",
              "         [0.        , 0.        , 0.9490197 ]],\n",
              " \n",
              "        [[0.        , 0.        , 0.96470594],\n",
              "         [0.00784314, 0.        , 0.9058824 ],\n",
              "         [0.05490196, 0.02352941, 0.80392164],\n",
              "         ...,\n",
              "         [0.01568628, 0.        , 0.7137255 ],\n",
              "         [0.01176471, 0.        , 0.8117648 ],\n",
              "         [0.00784314, 0.01176471, 0.854902  ]],\n",
              " \n",
              "        [[0.02745098, 0.        , 0.9607844 ],\n",
              "         [0.05882353, 0.02352941, 0.8196079 ],\n",
              "         [0.13725491, 0.09803922, 0.54901963],\n",
              "         ...,\n",
              "         [0.6509804 , 0.6039216 , 0.86274517],\n",
              "         [0.6117647 , 0.57254905, 1.        ],\n",
              "         [0.04705883, 0.02352941, 0.61960787]],\n",
              " \n",
              "        ...,\n",
              " \n",
              "        [[0.01960784, 0.        , 0.9490197 ],\n",
              "         [0.01960784, 0.01176471, 0.7372549 ],\n",
              "         [0.454902  , 0.46274513, 0.75294125],\n",
              "         ...,\n",
              "         [0.49411768, 0.43921572, 0.5411765 ],\n",
              "         [0.48235297, 0.4431373 , 0.8235295 ],\n",
              "         [0.0627451 , 0.03529412, 0.5529412 ]],\n",
              " \n",
              "        [[0.        , 0.        , 0.93725497],\n",
              "         [0.        , 0.        , 0.8078432 ],\n",
              "         [0.43137258, 0.43137258, 0.94117653],\n",
              "         ...,\n",
              "         [0.4666667 , 0.427451  , 0.81568635],\n",
              "         [0.41176474, 0.39607847, 0.94117653],\n",
              "         [0.03921569, 0.03137255, 0.6627451 ]],\n",
              " \n",
              "        [[0.        , 0.        , 0.9450981 ],\n",
              "         [0.        , 0.00784314, 0.85098046],\n",
              "         [0.01568628, 0.02745098, 0.6431373 ],\n",
              "         ...,\n",
              "         [0.04705883, 0.01568628, 0.54509807],\n",
              "         [0.03529412, 0.02745098, 0.6666667 ],\n",
              "         [0.01960784, 0.02352941, 0.7137255 ]]], dtype=float32)>,\n",
              " <tf.Tensor: shape=(), dtype=string, numpy=b'B'>)"
            ]
          },
          "metadata": {
            "tags": []
          },
          "execution_count": 22
        }
      ]
    },
    {
      "cell_type": "code",
      "metadata": {
        "id": "Cxoe0m9Toi2O"
      },
      "source": [
        "from sklearn.model_selection import train_test_split\n",
        "SMALL_SIZE = 10000\n",
        "\n",
        "X = image_paths\n",
        "y = boolean_labels\n",
        "\n",
        "X_train, X_val, y_train, y_val = train_test_split(X[:SMALL_SIZE],\n",
        "                                                  y[:SMALL_SIZE],\n",
        "                                                  test_size=0.2)"
      ],
      "execution_count": null,
      "outputs": []
    },
    {
      "cell_type": "code",
      "metadata": {
        "id": "3Fybq-5IlCkw"
      },
      "source": [
        "BATCH_SIZE = 32\n",
        "\n",
        "def create_batches(X, y=None, batch_size=BATCH_SIZE, valid_data=False, test_data=False):\n",
        "  '''\n",
        "  Creates batches of data out of image (X) and label (y) pairs.\n",
        "  Shuffles the data if it's training data but doesn't shuffle it's validation data.\n",
        "  Also accepts test data as input (no labels).\n",
        "  '''\n",
        "\n",
        "  # If the data is test data, we don't have labels\n",
        "  if test_data:\n",
        "    print('Creating test batches...')\n",
        "    data = tf.data.Dataset.from_tensor_slices(tf.constant(X)) # no labels\n",
        "    data_batch = data.map(process_image).batch(batch_size)\n",
        "    return data_batch\n",
        "  \n",
        "  # if the data is  validation data, we don't need to shuffle the data\n",
        "  elif valid_data:\n",
        "    print('Creating validation data batches...')\n",
        "    data = tf.data.Dataset.from_tensor_slices((tf.constant(X),\n",
        "                                              tf.constant(y)))\n",
        "    data_batch = data.map(get_labels).batch(batch_size)\n",
        "    return data_batch\n",
        "  \n",
        "  # If neither, it will be training data. We need to shuffle the data\n",
        "  else:\n",
        "    print('Creating training data batches...')\n",
        "    # Turn file paths and labels into Tensors\n",
        "    data = tf.data.Dataset.from_tensor_slices((tf.constant(X),\n",
        "                                              tf.constant(y)))   \n",
        "    # Shuffle the data\n",
        "    data = data.shuffle(buffer_size=len(X))\n",
        "    data_batch = data.map(get_labels).batch(batch_size)\n",
        "    return data_batch"
      ],
      "execution_count": null,
      "outputs": []
    },
    {
      "cell_type": "code",
      "metadata": {
        "colab": {
          "base_uri": "https://localhost:8080/"
        },
        "id": "DKjgAfagn7xH",
        "outputId": "891e71e0-b385-484f-f21a-197aef278fdd"
      },
      "source": [
        "train_data = create_batches(X_train, y_train)\n",
        "val_data = create_batches(X_val, y_val, valid_data=True)"
      ],
      "execution_count": null,
      "outputs": [
        {
          "output_type": "stream",
          "text": [
            "Creating training data batches...\n",
            "Creating validation data batches...\n"
          ],
          "name": "stdout"
        }
      ]
    },
    {
      "cell_type": "markdown",
      "metadata": {
        "id": "k57UQNUArbmc"
      },
      "source": [
        "# Modelling"
      ]
    },
    {
      "cell_type": "code",
      "metadata": {
        "id": "9KggwupZa2R4"
      },
      "source": [
        "from tensorflow.keras.applications import MobileNet\n",
        "import tensorflow_hub as hub\n",
        "def create_model(input_shape= (200, 200, 3), output_shape= 29, lr=0.001):\n",
        "  # print('Building model with:', model_url)\n",
        "\n",
        "  # Setup the model layers\n",
        "  model = tf.keras.Sequential([\n",
        "     MobileNet(input_shape=input_shape, weights=None, include_top=True, classes=output_shape),\n",
        "     tf.keras.layers.Dense(units=output_shape, # Layer 1: Inupt\n",
        "                           activation='softmax') # Layer 2: Output layer\n",
        "  ])\n",
        "  # model = MobileNet(input_shape=input_shape, weights=None, include_top=False)\n",
        "  # model = tf.keras.layers.Dense(units=output_shape, activation='softmax') (model)\n",
        "  # model = tf.keras.Sequential([\n",
        "  #    hub.KerasLayer('https://tfhub.dev/google/imagenet/mobilenet_v2_130_224/classification/4', weights=None),\n",
        "  #    tf.keras.layers.Dense(units=output_shape, # Layer 1: Inupt\n",
        "  #                          activation='softmax') # Layer 2: Output layer\n",
        "  # ])\n",
        "\n",
        "\n",
        "  # Compile the model\n",
        "  model.compile(\n",
        "      loss=tf.keras.losses.CategoricalCrossentropy(),\n",
        "      optimizer=tf.keras.optimizers.Adam(0.0001),\n",
        "      metrics=['accuracy']\n",
        "  )\n",
        "\n",
        "  # Build the model\n",
        "  model.build(input_shape)\n",
        "  \n",
        "  return model"
      ],
      "execution_count": null,
      "outputs": []
    },
    {
      "cell_type": "code",
      "metadata": {
        "id": "1YVVIFNUe_GN"
      },
      "source": [
        "model1 = create_model()"
      ],
      "execution_count": null,
      "outputs": []
    },
    {
      "cell_type": "code",
      "metadata": {
        "colab": {
          "base_uri": "https://localhost:8080/"
        },
        "id": "sg8jDLbTfzDu",
        "outputId": "d99a2c18-d4f0-4a3f-a2ec-38dd7e004eae"
      },
      "source": [
        "model1.summary()"
      ],
      "execution_count": null,
      "outputs": [
        {
          "output_type": "stream",
          "text": [
            "Model: \"sequential\"\n",
            "_________________________________________________________________\n",
            "Layer (type)                 Output Shape              Param #   \n",
            "=================================================================\n",
            "mobilenet_1.00_200 (Function (None, 29)                3258589   \n",
            "_________________________________________________________________\n",
            "dense (Dense)                (None, 29)                870       \n",
            "=================================================================\n",
            "Total params: 3,259,459\n",
            "Trainable params: 3,237,571\n",
            "Non-trainable params: 21,888\n",
            "_________________________________________________________________\n"
          ],
          "name": "stdout"
        }
      ]
    },
    {
      "cell_type": "code",
      "metadata": {
        "colab": {
          "base_uri": "https://localhost:8080/"
        },
        "id": "PmcYfOqqf6vt",
        "outputId": "a63532b6-8a2f-479f-ec5c-ba1294b10197"
      },
      "source": [
        " history1 = model1.fit(x= train_data,\n",
        "            epochs= 5)"
      ],
      "execution_count": null,
      "outputs": [
        {
          "output_type": "stream",
          "text": [
            "Epoch 1/5\n",
            "250/250 [==============================] - 47s 116ms/step - loss: 3.3133 - accuracy: 0.0637\n",
            "Epoch 2/5\n",
            "250/250 [==============================] - 29s 116ms/step - loss: 3.1892 - accuracy: 0.1024\n",
            "Epoch 3/5\n",
            "250/250 [==============================] - 29s 116ms/step - loss: 3.0692 - accuracy: 0.1386\n",
            "Epoch 4/5\n",
            "250/250 [==============================] - 29s 116ms/step - loss: 2.9486 - accuracy: 0.1456\n",
            "Epoch 5/5\n",
            "250/250 [==============================] - 29s 116ms/step - loss: 2.8076 - accuracy: 0.1663\n"
          ],
          "name": "stdout"
        }
      ]
    },
    {
      "cell_type": "code",
      "metadata": {
        "id": "gOwK1fScgMSd",
        "colab": {
          "base_uri": "https://localhost:8080/",
          "height": 265
        },
        "outputId": "f07b2f14-8646-4daa-8b3d-2cabb163875d"
      },
      "source": [
        "pd.DataFrame(history1.history).plot();"
      ],
      "execution_count": null,
      "outputs": [
        {
          "output_type": "display_data",
          "data": {
            "image/png": "[encoded data removed]",
            "text/plain": [
              "<Figure size 432x288 with 1 Axes>"
            ]
          },
          "metadata": {
            "tags": [],
            "needs_background": "light"
          }
        }
      ]
    },
    {
      "cell_type": "code",
      "metadata": {
        "id": "luY9WH2J788x",
        "colab": {
          "base_uri": "https://localhost:8080/"
        },
        "outputId": "77a54094-c19e-4ae6-d5aa-59c5e20c90a1"
      },
      "source": [
        "model2 = tf.keras.Sequential([\n",
        "    MobileNet(input_shape=(200, 200, 3), weights=None, include_top=True, classes=29),\n",
        "    tf.keras.layers.Dense(units=29, # Layer 1: Inupt\n",
        "                          activation='softmax') # Layer 2: Output layer\n",
        "])\n",
        "\n",
        "\n",
        "# Compile the model\n",
        "model2.compile(\n",
        "    loss=tf.keras.losses.CategoricalCrossentropy(),\n",
        "    optimizer=tf.keras.optimizers.Adam(0.000023),\n",
        "    metrics=['accuracy']\n",
        ")\n",
        "\n",
        "# Build the model\n",
        "model2.build((200, 200, 3))\n",
        "lr_scheduler = tf.keras.callbacks.LearningRateScheduler(lambda epochs: 1e-3 * 10 ** (epochs/20))\n",
        "\n",
        "# Fit the model\n",
        "history2 = model2.fit(x= train_data,\n",
        "            epochs= 20,\n",
        "            callbacks=[lr_scheduler])"
      ],
      "execution_count": null,
      "outputs": [
        {
          "output_type": "stream",
          "text": [
            "Epoch 1/20\n",
            "250/250 [==============================] - 30s 114ms/step - loss: 3.3080 - accuracy: 0.0597\n",
            "Epoch 2/20\n",
            "250/250 [==============================] - 29s 114ms/step - loss: 3.1996 - accuracy: 0.0918\n",
            "Epoch 3/20\n",
            "250/250 [==============================] - 28s 114ms/step - loss: 3.0908 - accuracy: 0.1115\n",
            "Epoch 4/20\n",
            "250/250 [==============================] - 28s 111ms/step - loss: 3.0011 - accuracy: 0.1139\n",
            "Epoch 5/20\n",
            "250/250 [==============================] - 28s 114ms/step - loss: 2.9308 - accuracy: 0.1266\n",
            "Epoch 6/20\n",
            "250/250 [==============================] - 28s 114ms/step - loss: 2.8150 - accuracy: 0.1325\n",
            "Epoch 7/20\n",
            "250/250 [==============================] - 29s 116ms/step - loss: 2.8016 - accuracy: 0.1269\n",
            "Epoch 8/20\n",
            "250/250 [==============================] - 29s 116ms/step - loss: 2.7514 - accuracy: 0.1305\n",
            "Epoch 9/20\n",
            "250/250 [==============================] - 28s 114ms/step - loss: 2.6582 - accuracy: 0.1398\n",
            "Epoch 10/20\n",
            "250/250 [==============================] - 29s 115ms/step - loss: 2.6230 - accuracy: 0.1497\n",
            "Epoch 11/20\n",
            "250/250 [==============================] - 28s 113ms/step - loss: 2.5458 - accuracy: 0.1539\n",
            "Epoch 12/20\n",
            "250/250 [==============================] - 28s 112ms/step - loss: 2.4289 - accuracy: 0.1574\n",
            "Epoch 13/20\n",
            "250/250 [==============================] - 28s 114ms/step - loss: 2.4055 - accuracy: 0.1574\n",
            "Epoch 14/20\n",
            "250/250 [==============================] - 29s 114ms/step - loss: 2.3526 - accuracy: 0.1610\n",
            "Epoch 15/20\n",
            "250/250 [==============================] - 29s 114ms/step - loss: 2.2594 - accuracy: 0.1711\n",
            "Epoch 16/20\n",
            "250/250 [==============================] - 29s 115ms/step - loss: 2.2152 - accuracy: 0.1690\n",
            "Epoch 17/20\n",
            "250/250 [==============================] - 29s 115ms/step - loss: 2.1997 - accuracy: 0.1727\n",
            "Epoch 18/20\n",
            "250/250 [==============================] - 29s 115ms/step - loss: 2.1066 - accuracy: 0.1999\n",
            "Epoch 19/20\n",
            "250/250 [==============================] - 28s 113ms/step - loss: 2.0133 - accuracy: 0.2349\n",
            "Epoch 20/20\n",
            "250/250 [==============================] - 29s 114ms/step - loss: 1.9369 - accuracy: 0.2656\n"
          ],
          "name": "stdout"
        }
      ]
    },
    {
      "cell_type": "code",
      "metadata": {
        "id": "0ZyL2ECH2caV",
        "colab": {
          "base_uri": "https://localhost:8080/"
        },
        "outputId": "c16d51be-17fe-481c-f4ae-f8ca63929a61"
      },
      "source": [
        "model2.evaluate(val_data)"
      ],
      "execution_count": null,
      "outputs": [
        {
          "output_type": "stream",
          "text": [
            "63/63 [==============================] - 2s 21ms/step - loss: 3.1755 - accuracy: 0.1450\n"
          ],
          "name": "stdout"
        },
        {
          "output_type": "execute_result",
          "data": {
            "text/plain": [
              "[3.175471305847168, 0.14499999582767487]"
            ]
          },
          "metadata": {
            "tags": []
          },
          "execution_count": 49
        }
      ]
    },
    {
      "cell_type": "code",
      "metadata": {
        "id": "Q51-Avh1SrI1"
      },
      "source": [
        "# Plot the learning rate vs the loss\n",
        "lrs = 1e-3 * (10 ** (tf.range(50)/20))\n",
        "plt.figure(figsize=(10, 7))\n",
        "plt.semilogx(lrs, history2.history[\"loss\"])\n",
        "plt.xlabel(\"Learning rate\")\n",
        "plt.xlim([1e-3, 1e-2])\n",
        "plt.ylabel(\"Loss\")\n",
        "plt.title(\"Learning rate vs Loss\");"
      ],
      "execution_count": null,
      "outputs": []
    },
    {
      "cell_type": "code",
      "metadata": {
        "id": "mRWkJPytA1r7"
      },
      "source": [
        "model3 = tf.keras.Sequential([\n",
        "    MobileNet(input_shape=(200, 200, 3), weights=None, include_top=True, classes=29),\n",
        "    tf.keras.layers.Dense(units=29, # Layer 1: Inupt\n",
        "                          activation='softmax') # Layer 2: Output layer\n",
        "])\n",
        "\n",
        "\n",
        "# Compile the model\n",
        "model3.compile(\n",
        "    loss=tf.keras.losses.CategoricalCrossentropy(),\n",
        "    optimizer=tf.keras.optimizers.Adam(learning_rate=0.0023),\n",
        "    metrics=['accuracy']\n",
        ")\n",
        "\n",
        "# Build the model\n",
        "model3.build((200, 200, 3))\n",
        "# lr_scheduler = tf.keras.callbacks.LearningRateScheduler(lambda epochs: 1e-3 * 10 ** (epochs/20))\n",
        "\n",
        "# Fit the model\n",
        "history3 = model3.fit(x= train_data,\n",
        "            epochs= 50)"
      ],
      "execution_count": null,
      "outputs": []
    },
    {
      "cell_type": "code",
      "metadata": {
        "id": "_SNKklGJBE6_"
      },
      "source": [
        "model3.summary()"
      ],
      "execution_count": null,
      "outputs": []
    },
    {
      "cell_type": "code",
      "metadata": {
        "id": "io2mNjTLC3FY"
      },
      "source": [
        "from tensorflow.keras.applications.resnet50 import ResNet50\n",
        "\n",
        "model4 = tf.keras.Sequential([\n",
        "    # MobileNet(input_shape=(200, 200, 3), weights=None, include_top=True),\n",
        "    ResNet50(input_shape=(200, 200, 3), weights=None, classes=29),\n",
        "    tf.keras.layers.Dense(units=29, # Layer 1: Inupt\n",
        "                          activation='softmax') # Layer 2: Output layer\n",
        "])\n",
        "\n",
        "\n",
        "# Compile the model\n",
        "model4.compile(\n",
        "    loss=tf.keras.losses.CategoricalCrossentropy(),\n",
        "    optimizer=tf.keras.optimizers.Adam(learning_rate=0.0023),\n",
        "    metrics=['accuracy']\n",
        ")\n",
        "\n",
        "# Build the model\n",
        "model4.build((200, 200, 3))\n",
        "# lr_scheduler = tf.keras.callbacks.LearningRateScheduler(lambda epochs: 1e-3 * 10 ** (epochs/20))\n",
        "\n",
        "# Fit the model\n",
        "history4 = model4.fit(x= train_data,\n",
        "            epochs= 50)"
      ],
      "execution_count": null,
      "outputs": []
    },
    {
      "cell_type": "code",
      "metadata": {
        "colab": {
          "base_uri": "https://localhost:8080/"
        },
        "id": "igY-Y0KaGAvv",
        "outputId": "3339cae8-c9ca-43da-a5ca-830ee94eef6c"
      },
      "source": [
        "model5 = tf.keras.Sequential([\n",
        "    MobileNet(input_shape=(200, 200, 3), weights=None, include_top=True, classes=29),\n",
        "    tf.keras.layers.Dense(units=29, # Layer 1: Inupt\n",
        "                          activation='softmax') # Layer 2: Output layer\n",
        "])\n",
        "\n",
        "\n",
        "# Compile the model\n",
        "model5.compile(\n",
        "    loss=tf.keras.losses.CategoricalCrossentropy(),\n",
        "    optimizer=tf.keras.optimizers.Adam(learning_rate=0.0023),\n",
        "    metrics=['accuracy']\n",
        ")\n",
        "\n",
        "# Build the model\n",
        "model5.build((200, 200, 3))\n",
        "# lr_scheduler = tf.keras.callbacks.LearningRateScheduler(lambda epochs: 1e-3 * 10 ** (epochs/20))\n",
        "\n",
        "# Fit the model\n",
        "history5 = model3.fit(x= train_data,\n",
        "            epochs= 100)"
      ],
      "execution_count": null,
      "outputs": [
        {
          "output_type": "stream",
          "text": [
            "Epoch 1/100\n",
            "250/250 [==============================] - 36s 142ms/step - loss: 2.5224 - accuracy: 0.1329\n",
            "Epoch 2/100\n",
            "250/250 [==============================] - 36s 143ms/step - loss: 2.4359 - accuracy: 0.1486\n",
            "Epoch 3/100\n",
            "250/250 [==============================] - 36s 145ms/step - loss: 2.3520 - accuracy: 0.1586\n",
            "Epoch 4/100\n",
            "250/250 [==============================] - 36s 146ms/step - loss: 2.2759 - accuracy: 0.1635\n",
            "Epoch 5/100\n",
            "250/250 [==============================] - 37s 147ms/step - loss: 2.2238 - accuracy: 0.1719\n",
            "Epoch 6/100\n",
            "250/250 [==============================] - 37s 147ms/step - loss: 2.1960 - accuracy: 0.1765\n",
            "Epoch 7/100\n",
            "250/250 [==============================] - 37s 148ms/step - loss: 2.1459 - accuracy: 0.1996\n",
            "Epoch 8/100\n",
            "250/250 [==============================] - 37s 148ms/step - loss: 2.0931 - accuracy: 0.2425\n",
            "Epoch 9/100\n",
            "250/250 [==============================] - 38s 150ms/step - loss: 2.0166 - accuracy: 0.2713\n",
            "Epoch 10/100\n",
            "250/250 [==============================] - 37s 149ms/step - loss: 1.9552 - accuracy: 0.2864\n",
            "Epoch 11/100\n",
            "250/250 [==============================] - 37s 149ms/step - loss: 1.9164 - accuracy: 0.3011\n",
            "Epoch 12/100\n",
            "250/250 [==============================] - 37s 149ms/step - loss: 1.8896 - accuracy: 0.3169\n",
            "Epoch 13/100\n",
            "250/250 [==============================] - 37s 149ms/step - loss: 1.8355 - accuracy: 0.3368\n",
            "Epoch 14/100\n",
            "250/250 [==============================] - 37s 149ms/step - loss: 1.8196 - accuracy: 0.3496\n",
            "Epoch 15/100\n",
            "250/250 [==============================] - 37s 149ms/step - loss: 1.7188 - accuracy: 0.4069\n",
            "Epoch 16/100\n",
            "250/250 [==============================] - 37s 150ms/step - loss: 1.6486 - accuracy: 0.4489\n",
            "Epoch 17/100\n",
            "250/250 [==============================] - 37s 149ms/step - loss: 1.5927 - accuracy: 0.4821\n",
            "Epoch 18/100\n",
            "250/250 [==============================] - 37s 150ms/step - loss: 1.5458 - accuracy: 0.4877\n",
            "Epoch 19/100\n",
            "250/250 [==============================] - 38s 150ms/step - loss: 1.4673 - accuracy: 0.5121\n",
            "Epoch 20/100\n",
            "250/250 [==============================] - 38s 150ms/step - loss: 1.4452 - accuracy: 0.5120\n",
            "Epoch 21/100\n",
            "250/250 [==============================] - 38s 150ms/step - loss: 1.4015 - accuracy: 0.5265\n",
            "Epoch 22/100\n",
            "250/250 [==============================] - 37s 148ms/step - loss: 1.3518 - accuracy: 0.5531\n",
            "Epoch 23/100\n",
            "250/250 [==============================] - 37s 149ms/step - loss: 1.2592 - accuracy: 0.6084\n",
            "Epoch 24/100\n",
            "250/250 [==============================] - 37s 150ms/step - loss: 1.1905 - accuracy: 0.6725\n",
            "Epoch 25/100\n",
            "250/250 [==============================] - 37s 149ms/step - loss: 1.1288 - accuracy: 0.6971\n",
            "Epoch 26/100\n",
            "250/250 [==============================] - 37s 149ms/step - loss: 1.0709 - accuracy: 0.7181\n",
            "Epoch 27/100\n",
            "250/250 [==============================] - 38s 150ms/step - loss: 1.0256 - accuracy: 0.7346\n",
            "Epoch 28/100\n",
            "250/250 [==============================] - 37s 149ms/step - loss: 1.0115 - accuracy: 0.7247\n",
            "Epoch 29/100\n",
            "250/250 [==============================] - 37s 149ms/step - loss: 0.9276 - accuracy: 0.7881\n",
            "Epoch 30/100\n",
            "250/250 [==============================] - 37s 149ms/step - loss: 0.8876 - accuracy: 0.7920\n",
            "Epoch 31/100\n",
            "250/250 [==============================] - 37s 149ms/step - loss: 0.8467 - accuracy: 0.7981\n",
            "Epoch 32/100\n",
            "250/250 [==============================] - 37s 149ms/step - loss: 0.8183 - accuracy: 0.8236\n",
            "Epoch 33/100\n",
            "250/250 [==============================] - 37s 149ms/step - loss: 0.7668 - accuracy: 0.8460\n",
            "Epoch 34/100\n",
            "250/250 [==============================] - 37s 149ms/step - loss: 0.7347 - accuracy: 0.8464\n",
            "Epoch 35/100\n",
            "250/250 [==============================] - 37s 149ms/step - loss: 0.6780 - accuracy: 0.8586\n",
            "Epoch 36/100\n",
            "250/250 [==============================] - 37s 149ms/step - loss: 0.6522 - accuracy: 0.8602\n",
            "Epoch 37/100\n",
            "250/250 [==============================] - 37s 149ms/step - loss: 0.6432 - accuracy: 0.8515\n",
            "Epoch 38/100\n",
            "250/250 [==============================] - 37s 149ms/step - loss: 0.6250 - accuracy: 0.8526\n",
            "Epoch 39/100\n",
            "250/250 [==============================] - 37s 150ms/step - loss: 0.6175 - accuracy: 0.8444\n",
            "Epoch 40/100\n",
            "250/250 [==============================] - 38s 150ms/step - loss: 0.6213 - accuracy: 0.8422\n",
            "Epoch 41/100\n",
            "250/250 [==============================] - 37s 149ms/step - loss: 0.5501 - accuracy: 0.8716\n",
            "Epoch 42/100\n",
            "250/250 [==============================] - 37s 149ms/step - loss: 0.5226 - accuracy: 0.8854\n",
            "Epoch 43/100\n",
            "250/250 [==============================] - 37s 149ms/step - loss: 0.4923 - accuracy: 0.8913\n",
            "Epoch 44/100\n",
            "250/250 [==============================] - 37s 149ms/step - loss: 0.4585 - accuracy: 0.8920\n",
            "Epoch 45/100\n",
            "250/250 [==============================] - 37s 149ms/step - loss: 0.4406 - accuracy: 0.8950\n",
            "Epoch 46/100\n",
            "250/250 [==============================] - 37s 148ms/step - loss: 0.4244 - accuracy: 0.8931\n",
            "Epoch 47/100\n",
            "250/250 [==============================] - 37s 149ms/step - loss: 0.4350 - accuracy: 0.8844\n",
            "Epoch 48/100\n",
            "250/250 [==============================] - 37s 148ms/step - loss: 0.3982 - accuracy: 0.8920\n",
            "Epoch 49/100\n",
            "250/250 [==============================] - 37s 149ms/step - loss: 0.4133 - accuracy: 0.8865\n",
            "Epoch 50/100\n",
            "250/250 [==============================] - 37s 148ms/step - loss: 0.3622 - accuracy: 0.9215\n",
            "Epoch 51/100\n",
            "250/250 [==============================] - 37s 148ms/step - loss: 0.3359 - accuracy: 0.9246\n",
            "Epoch 52/100\n",
            "250/250 [==============================] - 37s 148ms/step - loss: 0.3401 - accuracy: 0.9222\n",
            "Epoch 53/100\n",
            "250/250 [==============================] - 37s 148ms/step - loss: 0.3752 - accuracy: 0.9050\n",
            "Epoch 54/100\n",
            "250/250 [==============================] - 37s 148ms/step - loss: 0.3123 - accuracy: 0.9225\n",
            "Epoch 55/100\n",
            "250/250 [==============================] - 37s 149ms/step - loss: 0.2926 - accuracy: 0.9271\n",
            "Epoch 56/100\n",
            "250/250 [==============================] - 37s 148ms/step - loss: 0.2715 - accuracy: 0.9383\n",
            "Epoch 57/100\n",
            "250/250 [==============================] - 37s 149ms/step - loss: 0.2433 - accuracy: 0.9631\n",
            "Epoch 58/100\n",
            "250/250 [==============================] - 37s 149ms/step - loss: 0.2258 - accuracy: 0.9620\n",
            "Epoch 59/100\n",
            "250/250 [==============================] - 37s 148ms/step - loss: 0.2077 - accuracy: 0.9632\n",
            "Epoch 60/100\n",
            "250/250 [==============================] - 37s 148ms/step - loss: 0.2411 - accuracy: 0.9504\n",
            "Epoch 61/100\n",
            "250/250 [==============================] - 37s 148ms/step - loss: 0.2242 - accuracy: 0.9523\n",
            "Epoch 62/100\n",
            "250/250 [==============================] - 37s 148ms/step - loss: 0.1911 - accuracy: 0.9610\n",
            "Epoch 63/100\n",
            "250/250 [==============================] - 37s 149ms/step - loss: 0.1824 - accuracy: 0.9600\n",
            "Epoch 64/100\n",
            "250/250 [==============================] - 37s 149ms/step - loss: 0.1639 - accuracy: 0.9634\n",
            "Epoch 65/100\n",
            "250/250 [==============================] - 38s 150ms/step - loss: 0.1675 - accuracy: 0.9595\n",
            "Epoch 66/100\n",
            "250/250 [==============================] - 37s 149ms/step - loss: 0.2132 - accuracy: 0.9521\n",
            "Epoch 67/100\n",
            "250/250 [==============================] - 37s 148ms/step - loss: 0.1617 - accuracy: 0.9599\n",
            "Epoch 68/100\n",
            "250/250 [==============================] - 37s 148ms/step - loss: 0.1429 - accuracy: 0.9614\n",
            "Epoch 69/100\n",
            "250/250 [==============================] - 37s 148ms/step - loss: 0.1358 - accuracy: 0.9640\n",
            "Epoch 70/100\n",
            "250/250 [==============================] - 37s 149ms/step - loss: 0.1340 - accuracy: 0.9625\n",
            "Epoch 71/100\n",
            "250/250 [==============================] - 37s 148ms/step - loss: 0.1271 - accuracy: 0.9646\n",
            "Epoch 72/100\n",
            "250/250 [==============================] - 37s 148ms/step - loss: 0.1194 - accuracy: 0.9654\n",
            "Epoch 73/100\n",
            "250/250 [==============================] - 37s 148ms/step - loss: 0.1147 - accuracy: 0.9657\n",
            "Epoch 74/100\n",
            "250/250 [==============================] - 37s 149ms/step - loss: 0.1247 - accuracy: 0.9736\n",
            "Epoch 75/100\n",
            "250/250 [==============================] - 37s 148ms/step - loss: 0.1266 - accuracy: 0.9858\n",
            "Epoch 76/100\n",
            "250/250 [==============================] - 37s 150ms/step - loss: 0.1011 - accuracy: 0.9987\n",
            "Epoch 77/100\n",
            "250/250 [==============================] - 37s 149ms/step - loss: 0.0893 - accuracy: 1.0000\n",
            "Epoch 78/100\n",
            "250/250 [==============================] - 37s 149ms/step - loss: 0.0809 - accuracy: 1.0000\n",
            "Epoch 79/100\n",
            "250/250 [==============================] - 37s 149ms/step - loss: 0.0744 - accuracy: 0.9999\n",
            "Epoch 80/100\n",
            "250/250 [==============================] - 37s 149ms/step - loss: 0.0938 - accuracy: 0.9948\n",
            "Epoch 81/100\n",
            "250/250 [==============================] - 37s 149ms/step - loss: 0.1233 - accuracy: 0.9843\n",
            "Epoch 82/100\n",
            "250/250 [==============================] - 38s 150ms/step - loss: 0.0827 - accuracy: 0.9945\n",
            "Epoch 83/100\n",
            "250/250 [==============================] - 38s 150ms/step - loss: 0.0631 - accuracy: 0.9986\n",
            "Epoch 84/100\n",
            "250/250 [==============================] - 37s 148ms/step - loss: 0.0565 - accuracy: 0.9995\n",
            "Epoch 85/100\n",
            "250/250 [==============================] - 37s 149ms/step - loss: 0.0540 - accuracy: 0.9991\n",
            "Epoch 86/100\n",
            "250/250 [==============================] - 37s 148ms/step - loss: 0.0559 - accuracy: 0.9983\n",
            "Epoch 87/100\n",
            "250/250 [==============================] - 37s 149ms/step - loss: 0.0583 - accuracy: 0.9967\n",
            "Epoch 88/100\n",
            "250/250 [==============================] - 37s 149ms/step - loss: 0.0622 - accuracy: 0.9956\n",
            "Epoch 89/100\n",
            "250/250 [==============================] - 37s 149ms/step - loss: 0.0489 - accuracy: 0.9980\n",
            "Epoch 90/100\n",
            "250/250 [==============================] - 37s 149ms/step - loss: 0.0450 - accuracy: 0.9986\n",
            "Epoch 91/100\n",
            "250/250 [==============================] - 37s 149ms/step - loss: 0.0409 - accuracy: 0.9991\n",
            "Epoch 92/100\n",
            "250/250 [==============================] - 37s 149ms/step - loss: 0.0448 - accuracy: 0.9974\n",
            "Epoch 93/100\n",
            "250/250 [==============================] - 37s 149ms/step - loss: 0.0450 - accuracy: 0.9977\n",
            "Epoch 94/100\n",
            "250/250 [==============================] - 37s 148ms/step - loss: 0.0842 - accuracy: 0.9876\n",
            "Epoch 95/100\n",
            "250/250 [==============================] - 38s 150ms/step - loss: 0.0495 - accuracy: 0.9956\n",
            "Epoch 96/100\n",
            "250/250 [==============================] - 37s 149ms/step - loss: 0.0352 - accuracy: 0.9986\n",
            "Epoch 97/100\n",
            "250/250 [==============================] - 37s 148ms/step - loss: 0.0357 - accuracy: 0.9983\n",
            "Epoch 98/100\n",
            "250/250 [==============================] - 37s 149ms/step - loss: 0.0370 - accuracy: 0.9976\n",
            "Epoch 99/100\n",
            "250/250 [==============================] - 37s 148ms/step - loss: 0.0286 - accuracy: 0.9996\n",
            "Epoch 100/100\n",
            "250/250 [==============================] - 37s 149ms/step - loss: 0.0256 - accuracy: 1.0000\n"
          ],
          "name": "stdout"
        }
      ]
    },
    {
      "cell_type": "code",
      "metadata": {
        "colab": {
          "base_uri": "https://localhost:8080/",
          "height": 265
        },
        "id": "1eKckygaMGk7",
        "outputId": "abc0929f-a468-401b-9367-50d6d05da42d"
      },
      "source": [
        "pd.DataFrame(history5.history).plot();"
      ],
      "execution_count": null,
      "outputs": [
        {
          "output_type": "display_data",
          "data": {
            "image/png": "[encoded data removed]",
            "text/plain": [
              "<Figure size 432x288 with 1 Axes>"
            ]
          },
          "metadata": {
            "tags": [],
            "needs_background": "light"
          }
        }
      ]
    },
    {
      "cell_type": "code",
      "metadata": {
        "colab": {
          "base_uri": "https://localhost:8080/"
        },
        "id": "13clvDDNVx-P",
        "outputId": "c3d741f4-5f8f-44fd-eb63-15644ca966f6"
      },
      "source": [
        "def save_model(model, suffix=None):\n",
        "  import os\n",
        "  import datetime\n",
        "  '''\n",
        "  Saves a givern model in a directory and appends a suffix\n",
        "  '''\n",
        "\n",
        "  # Create a model directory pathname with current time\n",
        "  modeldir = os.path.join('/content/drive/MyDrive/Colab Notebooks/ASL/models',\n",
        "                          datetime.datetime.now().strftime(\"%Y%m%d-%H%M%S\"))\n",
        "  model_path = modeldir + \"-\" + suffix + '.h5' #h5 is like .pkl or .joblib\n",
        "  print(f'Saving model to: {model_path}...')\n",
        "  model.save(model_path)\n",
        "  return model_path\n",
        "saved = save_model(model5, suffix='10k-100-epochs')"
      ],
      "execution_count": null,
      "outputs": [
        {
          "output_type": "stream",
          "text": [
            "Saving model to: /content/drive/MyDrive/Colab Notebooks/ASL/models/20210709-131949-10k-100-epochs.h5...\n"
          ],
          "name": "stdout"
        }
      ]
    },
    {
      "cell_type": "code",
      "metadata": {
        "colab": {
          "base_uri": "https://localhost:8080/"
        },
        "id": "roJ6rGNSa2Du",
        "outputId": "0646037f-1dfd-4feb-d52a-f3fdedbafff7"
      },
      "source": [
        "preds = model5.predict(val_data)\n",
        "len(preds[0])"
      ],
      "execution_count": null,
      "outputs": [
        {
          "output_type": "execute_result",
          "data": {
            "text/plain": [
              "29"
            ]
          },
          "metadata": {
            "tags": []
          },
          "execution_count": 60
        }
      ]
    },
    {
      "cell_type": "code",
      "metadata": {
        "id": "wA2QcRy8bwkS"
      },
      "source": [
        "def preds_to_text(prediction_proba):\n",
        "  '''\n",
        "  Turns an array of prediction probabilities into a label\n",
        "  '''\n",
        "\n",
        "  return alphabets[np.argmax(prediction_proba)]\n"
      ],
      "execution_count": null,
      "outputs": []
    },
    {
      "cell_type": "code",
      "metadata": {
        "colab": {
          "base_uri": "https://localhost:8080/",
          "height": 36
        },
        "id": "ujntSqlKcQ_y",
        "outputId": "9614f01e-807e-44fd-9b6c-a2d7cb18f62b"
      },
      "source": [
        ""
      ],
      "execution_count": null,
      "outputs": [
        {
          "output_type": "execute_result",
          "data": {
            "application/vnd.google.colaboratory.intrinsic+json": {
              "type": "string"
            },
            "text/plain": [
              "'Y'"
            ]
          },
          "metadata": {
            "tags": []
          },
          "execution_count": 62
        }
      ]
    },
    {
      "cell_type": "code",
      "metadata": {
        "colab": {
          "base_uri": "https://localhost:8080/",
          "height": 36
        },
        "id": "OO44m54tcUky",
        "outputId": "95a45764-aeef-4fc9-dfbf-5ad1fe6ba175"
      },
      "source": [
        ""
      ],
      "execution_count": null,
      "outputs": [
        {
          "output_type": "execute_result",
          "data": {
            "application/vnd.google.colaboratory.intrinsic+json": {
              "type": "string"
            },
            "text/plain": [
              "'/content/asl_alphabet_train/asl_alphabet_train/Q/Q1058.jpg'"
            ]
          },
          "metadata": {
            "tags": []
          },
          "execution_count": 64
        }
      ]
    },
    {
      "cell_type": "code",
      "metadata": {
        "colab": {
          "base_uri": "https://localhost:8080/"
        },
        "id": "phFVtcxccXo5",
        "outputId": "0517909f-4787-4ebf-95d7-8b62eb209130"
      },
      "source": [
        "model5.evaluate(val_data)"
      ],
      "execution_count": null,
      "outputs": [
        {
          "output_type": "stream",
          "text": [
            "63/63 [==============================] - 3s 33ms/step - loss: 3.3688 - accuracy: 0.0325\n"
          ],
          "name": "stdout"
        },
        {
          "output_type": "execute_result",
          "data": {
            "text/plain": [
              "[3.3687562942504883, 0.032499998807907104]"
            ]
          },
          "metadata": {
            "tags": []
          },
          "execution_count": 66
        }
      ]
    },
    {
      "cell_type": "code",
      "metadata": {
        "id": "Wigh4z3zc0x6"
      },
      "source": [
        "early_stopping = tf.keras.callbacks.EarlyStopping(monitor='val_accuracy',\n",
        "                                                  patience=3)"
      ],
      "execution_count": null,
      "outputs": []
    },
    {
      "cell_type": "code",
      "metadata": {
        "id": "BOqPGQWHscOh"
      },
      "source": [
        "import datetime\n",
        "import os\n",
        "\n",
        "# Create a function to build a tensorboard callback\n",
        "def create_tensorboard_callback():\n",
        "  # Create a log directory fro storing TensorBoard logs\n",
        "  logdir = os.path.join(\"/content/drive/MyDrive/Colab Notebooks/ASL/logs\",\n",
        "                        datetime.datetime.now().strftime('%Y%m%d-%H%M%S'))\n",
        "  return tf.keras.callbacks.TensorBoard(logdir)"
      ],
      "execution_count": null,
      "outputs": []
    },
    {
      "cell_type": "code",
      "metadata": {
        "id": "klYGd3N7rNFj"
      },
      "source": [
        "model6 = tf.keras.Sequential([\n",
        "    MobileNet(input_shape=(200, 200, 3), weights=None, include_top=True, classes=29),\n",
        "    tf.keras.layers.Dense(units=29, # Layer 1: Inupt\n",
        "                          activation='softmax') # Layer 2: Output layer\n",
        "])\n",
        "\n",
        "\n",
        "# Compile the model\n",
        "model6.compile(\n",
        "    loss=tf.keras.losses.CategoricalCrossentropy(),\n",
        "    optimizer=tf.keras.optimizers.Adam(learning_rate=0.0023),\n",
        "    metrics=['accuracy']\n",
        ")\n",
        "\n",
        "# Build the model\n",
        "model6.build((200, 200, 3))\n",
        "\n",
        "# Create new TensorBoard seesion everytime we train a model\n",
        "tensorboard = create_tensorboard_callback()\n",
        "\n",
        "# Fit the model\n",
        "history6 = model6.fit(x= train_data,\n",
        "                      epochs= 100,\n",
        "                      callbacks=[early_stopping, tensorboard],\n",
        "                      validation_data=val_data)"
      ],
      "execution_count": null,
      "outputs": []
    },
    {
      "cell_type": "code",
      "metadata": {
        "id": "8UwrfABWtKOJ",
        "colab": {
          "base_uri": "https://localhost:8080/"
        },
        "outputId": "6369b365-9425-44fc-c8d8-f05213e72e67"
      },
      "source": [
        "from tensorflow.keras.applications.resnet50 import ResNet50\n",
        "from tensorflow.keras.applications.mobilenet_v2 import MobileNetV2\n",
        "\n",
        "big_one = tf.keras.Sequential([\n",
        "    MobileNetV2(input_shape=(200, 200, 3), weights=None, include_top=True, classes=1024),\n",
        "    tf.keras.layers.Reshape((32, 32, 1), weights=None, input_shape=(None, 1024)),\n",
        "    ResNet50(input_shape=(32, 32, 1), weights=None, classes=29),\n",
        "    tf.keras.layers.Dense(units=29, # Layer 1: Inupt\n",
        "                          activation='softmax') # Layer 2: Output layer\n",
        "], name=\"Big-Model\")\n",
        "\n",
        "big_one.compile(loss=tf.keras.losses.CategoricalCrossentropy(),\n",
        "               optimizer=tf.keras.optimizers.Adam(0.0023),\n",
        "               metrics=[\"accuracy\"])\n",
        "big_one.build((200, 200, 3))\n",
        "\n",
        "big_one.summary()"
      ],
      "execution_count": null,
      "outputs": [
        {
          "output_type": "stream",
          "text": [
            "Model: \"Big-Model\"\n",
            "_________________________________________________________________\n",
            "Layer (type)                 Output Shape              Param #   \n",
            "=================================================================\n",
            "mobilenetv2_1.00_200 (Functi (None, 1024)              3569728   \n",
            "_________________________________________________________________\n",
            "reshape_8 (Reshape)          (None, 32, 32, 1)         0         \n",
            "_________________________________________________________________\n",
            "resnet50 (Functional)        (None, 29)                23640861  \n",
            "_________________________________________________________________\n",
            "dense_10 (Dense)             (None, 29)                870       \n",
            "=================================================================\n",
            "Total params: 27,211,459\n",
            "Trainable params: 27,124,227\n",
            "Non-trainable params: 87,232\n",
            "_________________________________________________________________\n"
          ],
          "name": "stdout"
        }
      ]
    },
    {
      "cell_type": "code",
      "metadata": {
        "id": "1Ue68V0BUJTG"
      },
      "source": [
        "tensorboard = create_tensorboard_callback()"
      ],
      "execution_count": null,
      "outputs": []
    },
    {
      "cell_type": "code",
      "metadata": {
        "colab": {
          "base_uri": "https://localhost:8080/"
        },
        "id": "aXXfPCFINuqq",
        "outputId": "a0bd99ad-7b70-49ad-dcc8-47ec4bdd8f78"
      },
      "source": [
        "big_one.fit(train_data,\n",
        "            epochs=50,\n",
        "            validation_data=val_data,\n",
        "            validation_freq=1,\n",
        "            callbacks=[early_stopping, tensorboard])"
      ],
      "execution_count": null,
      "outputs": [
        {
          "output_type": "stream",
          "text": [
            "/usr/local/lib/python3.7/dist-packages/tensorflow/python/keras/utils/generic_utils.py:497: CustomMaskWarning: Custom mask layers require a config and must override get_config. When loading, the custom mask layer must be passed to the custom_objects argument.\n",
            "  category=CustomMaskWarning)\n"
          ],
          "name": "stderr"
        },
        {
          "output_type": "stream",
          "text": [
            "Epoch 1/50\n",
            "250/250 [==============================] - 65s 223ms/step - loss: 3.3676 - accuracy: 0.0394 - val_loss: 3.3707 - val_accuracy: 0.0365\n",
            "Epoch 2/50\n",
            "250/250 [==============================] - 54s 216ms/step - loss: 3.3651 - accuracy: 0.0429 - val_loss: 3.3694 - val_accuracy: 0.0360\n",
            "Epoch 3/50\n",
            "250/250 [==============================] - 54s 217ms/step - loss: 3.3666 - accuracy: 0.0395 - val_loss: 3.3874 - val_accuracy: 0.0410\n",
            "Epoch 4/50\n",
            "250/250 [==============================] - 55s 220ms/step - loss: 3.3676 - accuracy: 0.0402 - val_loss: 3.3856 - val_accuracy: 0.0410\n",
            "Epoch 5/50\n",
            "250/250 [==============================] - 57s 227ms/step - loss: 3.3625 - accuracy: 0.0421 - val_loss: 3.3940 - val_accuracy: 0.0400\n",
            "Epoch 6/50\n",
            "250/250 [==============================] - 57s 229ms/step - loss: 3.3564 - accuracy: 0.0461 - val_loss: 3.4102 - val_accuracy: 0.0400\n"
          ],
          "name": "stdout"
        },
        {
          "output_type": "execute_result",
          "data": {
            "text/plain": [
              "<tensorflow.python.keras.callbacks.History at 0x7fbfc2a06950>"
            ]
          },
          "metadata": {
            "tags": []
          },
          "execution_count": 42
        }
      ]
    },
    {
      "cell_type": "code",
      "metadata": {
        "colab": {
          "base_uri": "https://localhost:8080/"
        },
        "id": "yYYMeRufUOEs",
        "outputId": "306eb701-bd5e-4697-ebd3-91fe6dac6959"
      },
      "source": [
        "data = tf.keras.preprocessing.image_dataset_from_directory(\n",
        "    '/content/asl_alphabet_train/asl_alphabet_train',\n",
        "    labels=\"inferred\",\n",
        "    label_mode=\"categorical\",\n",
        "    class_names=None,\n",
        "    color_mode=\"rgb\",\n",
        "    batch_size=32,\n",
        "    image_size=(224, 224),\n",
        "    shuffle=True,\n",
        "    seed=42,\n",
        "    validation_split=None,\n",
        "    subset=None,\n",
        "    interpolation=\"bilinear\")\n",
        "type(data)"
      ],
      "execution_count": null,
      "outputs": [
        {
          "output_type": "stream",
          "text": [
            "Found 87000 files belonging to 29 classes.\n"
          ],
          "name": "stdout"
        },
        {
          "output_type": "execute_result",
          "data": {
            "text/plain": [
              "tensorflow.python.data.ops.dataset_ops.BatchDataset"
            ]
          },
          "metadata": {
            "tags": []
          },
          "execution_count": 46
        }
      ]
    },
    {
      "cell_type": "code",
      "metadata": {
        "id": "eI1pbdm_hWBb"
      },
      "source": [
        "def unbatchify(batch, test=False):\n",
        "  '''\n",
        "  Takes a batched dataset of (image, label) Tensors and returns separate arrays of imags and labels\n",
        "  '''\n",
        "  if not test:\n",
        "    images = []\n",
        "    labels = []\n",
        "    # Loop through batched data\n",
        "    for image, label in val_data.unbatch().as_numpy_iterator():\n",
        "      images.append(image)\n",
        "      labels.append(label)\n",
        "    return np.array(images), np.array(labels)\n",
        "  if test:\n",
        "    custom_images = []\n",
        "    # Look through unbatched data\n",
        "    for image in custom_data.unbatch().as_numpy_iterator():\n",
        "      custom_images.append(image)\n",
        "      return custom_images"
      ],
      "execution_count": null,
      "outputs": []
    },
    {
      "cell_type": "code",
      "metadata": {
        "id": "3CXeFAV4iDd_"
      },
      "source": [
        "images, labels = unbatchify(data)"
      ],
      "execution_count": null,
      "outputs": []
    },
    {
      "cell_type": "code",
      "metadata": {
        "id": "NEmXoQiAiPRA"
      },
      "source": [
        "from sklearn.model_selection import StratifiedShuffleSplit, train_test_split\n",
        "\n",
        "\n",
        "split = StratifiedShuffleSplit(n_splits=1, test_size=0.2, random_state=42)\n",
        "for train_index, test_index in split.split(images, labels):\n",
        "    strat_train_set = images[train_index], labels[train_index]\n",
        "    strat_test_set = images[test_index], labels[test_index]"
      ],
      "execution_count": null,
      "outputs": []
    },
    {
      "cell_type": "code",
      "metadata": {
        "colab": {
          "base_uri": "https://localhost:8080/"
        },
        "id": "e17EhGPElnOY",
        "outputId": "5cbb27aa-c8b8-41ae-b887-b0f4f5d567b6"
      },
      "source": [
        "alphabets[strat_train_set[1][0]]"
      ],
      "execution_count": null,
      "outputs": [
        {
          "output_type": "execute_result",
          "data": {
            "text/plain": [
              "array(['X'], dtype='<U7')"
            ]
          },
          "metadata": {
            "tags": []
          },
          "execution_count": 67
        }
      ]
    },
    {
      "cell_type": "code",
      "metadata": {
        "colab": {
          "base_uri": "https://localhost:8080/",
          "height": 287
        },
        "id": "LXVN5W4Mlzth",
        "outputId": "589856c2-93e2-463b-da74-fed242abfe8f"
      },
      "source": [
        "plt.imshow(strat_train_set[0][0])"
      ],
      "execution_count": null,
      "outputs": [
        {
          "output_type": "execute_result",
          "data": {
            "text/plain": [
              "<matplotlib.image.AxesImage at 0x7fbd3471b7d0>"
            ]
          },
          "metadata": {
            "tags": []
          },
          "execution_count": 66
        },
        {
          "output_type": "display_data",
          "data": {
            "image/png": "[encoded data removed]",
            "text/plain": [
              "<Figure size 432x288 with 1 Axes>"
            ]
          },
          "metadata": {
            "tags": [],
            "needs_background": "light"
          }
        }
      ]
    },
    {
      "cell_type": "code",
      "metadata": {
        "colab": {
          "base_uri": "https://localhost:8080/"
        },
        "id": "_TK_hPxAm5y7",
        "outputId": "02868c6d-b176-419e-af7c-53ab7b68249b"
      },
      "source": [
        "# data = []\n",
        "# for i in range(8700):\n",
        "  # sample = []\n",
        "  # sample.append(strat_train_set[0][i]).append(strat_train_set[1][i])\n",
        "data = zip(strat_train_set[0], strat_train_set[1])\n",
        "data = np.array(list(data))\n",
        "\n",
        "test = zip(strat_test_set[0], strat_test_set[1])\n",
        "test = np.array(list(test))"
      ],
      "execution_count": null,
      "outputs": [
        {
          "output_type": "stream",
          "text": [
            "/usr/local/lib/python3.7/dist-packages/ipykernel_launcher.py:6: VisibleDeprecationWarning: Creating an ndarray from ragged nested sequences (which is a list-or-tuple of lists-or-tuples-or ndarrays with different lengths or shapes) is deprecated. If you meant to do this, you must specify 'dtype=object' when creating the ndarray\n",
            "  \n",
            "/usr/local/lib/python3.7/dist-packages/ipykernel_launcher.py:9: VisibleDeprecationWarning: Creating an ndarray from ragged nested sequences (which is a list-or-tuple of lists-or-tuples-or ndarrays with different lengths or shapes) is deprecated. If you meant to do this, you must specify 'dtype=object' when creating the ndarray\n",
            "  if __name__ == '__main__':\n"
          ],
          "name": "stderr"
        }
      ]
    },
    {
      "cell_type": "code",
      "metadata": {
        "id": "0U-YssUvnzsd"
      },
      "source": [
        "# X_train = strat_train_set[0][: 10000]\n",
        "# y_train = strat_train_set[1][: 10000]\n",
        "# X_test = strat_test_set[0]\n",
        "# y_test = strat_test_set[1]\n",
        "\n",
        "split = StratifiedShuffleSplit(n_splits=1, test_size=0.87, random_state=42)\n",
        "for train_index, test_index in split.split(images, labels):\n",
        "    strat_train_set = images[train_index], labels[train_index]\n",
        "    strat_test_set = images[test_index], labels[test_index]\n",
        "\n",
        "split = StratifiedShuffleSplit(n_splits=1, test_size=0.2, random_state=42)\n",
        "for train_index, test_index in split.split(strat_train_set[0], strat_train_set[1]):\n",
        "    train = strat_train_set[0][train_index], strat_train_set[1][train_index]\n",
        "    val = strat_train_set[0][test_index], strat_train_set[1][test_index]"
      ],
      "execution_count": null,
      "outputs": []
    },
    {
      "cell_type": "code",
      "metadata": {
        "id": "kPgKUNFltUfn"
      },
      "source": [
        "def create_batches(X, y=None, batch_size=BATCH_SIZE, valid_data=False, test_data=False):\n",
        "  '''\n",
        "  Creates batches of data out of image (X) and label (y) pairs.\n",
        "  Shuffles the data if it's training data but doesn't shuffle it's validation data.\n",
        "  Also accepts test data as input (no labels).\n",
        "  '''\n",
        "\n",
        "  # If the data is test data, we don't have labels\n",
        "  if test_data:\n",
        "    print('Creating test batches...')\n",
        "    data = tf.constant(X) # no labels\n",
        "    data_batch = data.map(process_image).batch(batch_size)\n",
        "    return data_batch\n",
        "  \n",
        "  # if the data is  validation data, we don't need to shuffle the data\n",
        "  elif valid_data:\n",
        "    print('Creating validation data batches...')\n",
        "    data = tf.constant(tf.constant(X),tf.constant(y))\n",
        "    data_batch = data.map(get_labels).batch(batch_size)\n",
        "    return data_batch\n",
        "  \n",
        "  # If neither, it will be training data. We need to shuffle the data\n",
        "  else:\n",
        "    print('Creating training data batches...')\n",
        "    # Turn file paths and labels into Tensors\n",
        "    data = tf.constant(tf.constant(X),tf.constant(y))   \n",
        "    # Shuffle the data\n",
        "    data = data.shuffle(buffer_size=len(X))\n",
        "    data_batch = data.map(get_labels).batch(batch_size)\n",
        "    return data_batch"
      ],
      "execution_count": null,
      "outputs": []
    },
    {
      "cell_type": "code",
      "metadata": {
        "id": "6Qg9VIR8o5Ky",
        "colab": {
          "base_uri": "https://localhost:8080/",
          "height": 180
        },
        "outputId": "f7c5f98c-99a7-4e69-c186-6a811c06272a"
      },
      "source": [
        "train_data2 = create_batches(train[0], train[1])\n",
        "val_data2 = create_batches(val[0], val[1], valid_data=True)"
      ],
      "execution_count": null,
      "outputs": [
        {
          "output_type": "error",
          "ename": "NameError",
          "evalue": "ignored",
          "traceback": [
            "\u001b[0;31m---------------------------------------------------------------------------\u001b[0m",
            "\u001b[0;31mNameError\u001b[0m                                 Traceback (most recent call last)",
            "\u001b[0;32m<ipython-input-31-4e617fbc16f6>\u001b[0m in \u001b[0;36m<module>\u001b[0;34m()\u001b[0m\n\u001b[0;32m----> 1\u001b[0;31m \u001b[0mtrain_data2\u001b[0m \u001b[0;34m=\u001b[0m \u001b[0mcreate_batches\u001b[0m\u001b[0;34m(\u001b[0m\u001b[0mtrain\u001b[0m\u001b[0;34m[\u001b[0m\u001b[0;36m0\u001b[0m\u001b[0;34m]\u001b[0m\u001b[0;34m,\u001b[0m \u001b[0mtrain\u001b[0m\u001b[0;34m[\u001b[0m\u001b[0;36m1\u001b[0m\u001b[0;34m]\u001b[0m\u001b[0;34m)\u001b[0m\u001b[0;34m\u001b[0m\u001b[0;34m\u001b[0m\u001b[0m\n\u001b[0m\u001b[1;32m      2\u001b[0m \u001b[0mval_data2\u001b[0m \u001b[0;34m=\u001b[0m \u001b[0mcreate_batches\u001b[0m\u001b[0;34m(\u001b[0m\u001b[0mval\u001b[0m\u001b[0;34m[\u001b[0m\u001b[0;36m0\u001b[0m\u001b[0;34m]\u001b[0m\u001b[0;34m,\u001b[0m \u001b[0mval\u001b[0m\u001b[0;34m[\u001b[0m\u001b[0;36m1\u001b[0m\u001b[0;34m]\u001b[0m\u001b[0;34m,\u001b[0m \u001b[0mvalid_data\u001b[0m\u001b[0;34m=\u001b[0m\u001b[0;32mTrue\u001b[0m\u001b[0;34m)\u001b[0m\u001b[0;34m\u001b[0m\u001b[0;34m\u001b[0m\u001b[0m\n",
            "\u001b[0;31mNameError\u001b[0m: name 'train' is not defined"
          ]
        }
      ]
    },
    {
      "cell_type": "code",
      "metadata": {
        "colab": {
          "base_uri": "https://localhost:8080/",
          "height": 493
        },
        "id": "fzjLL3GWtAlu",
        "outputId": "e7946594-d6c5-4aec-8548-a63bf2787cca"
      },
      "source": [
        "print('Creating validation data batches...')\n",
        "data = tf.constant(tf.constant(X),tf.constant(y))\n",
        "data_batch = data.batch(batch_size)\n",
        "data_batch"
      ],
      "execution_count": null,
      "outputs": [
        {
          "output_type": "stream",
          "text": [
            "Creating validation data batches...\n"
          ],
          "name": "stdout"
        },
        {
          "output_type": "error",
          "ename": "TypeError",
          "evalue": "ignored",
          "traceback": [
            "\u001b[0;31m---------------------------------------------------------------------------\u001b[0m",
            "\u001b[0;31mTypeError\u001b[0m                                 Traceback (most recent call last)",
            "\u001b[0;32m<ipython-input-32-1e789724f030>\u001b[0m in \u001b[0;36m<module>\u001b[0;34m()\u001b[0m\n\u001b[1;32m      1\u001b[0m \u001b[0mprint\u001b[0m\u001b[0;34m(\u001b[0m\u001b[0;34m'Creating validation data batches...'\u001b[0m\u001b[0;34m)\u001b[0m\u001b[0;34m\u001b[0m\u001b[0;34m\u001b[0m\u001b[0m\n\u001b[0;32m----> 2\u001b[0;31m \u001b[0mdata\u001b[0m \u001b[0;34m=\u001b[0m \u001b[0mtf\u001b[0m\u001b[0;34m.\u001b[0m\u001b[0mconstant\u001b[0m\u001b[0;34m(\u001b[0m\u001b[0mtf\u001b[0m\u001b[0;34m.\u001b[0m\u001b[0mconstant\u001b[0m\u001b[0;34m(\u001b[0m\u001b[0mX\u001b[0m\u001b[0;34m)\u001b[0m\u001b[0;34m,\u001b[0m\u001b[0mtf\u001b[0m\u001b[0;34m.\u001b[0m\u001b[0mconstant\u001b[0m\u001b[0;34m(\u001b[0m\u001b[0my\u001b[0m\u001b[0;34m)\u001b[0m\u001b[0;34m)\u001b[0m\u001b[0;34m\u001b[0m\u001b[0;34m\u001b[0m\u001b[0m\n\u001b[0m\u001b[1;32m      3\u001b[0m \u001b[0mdata_batch\u001b[0m \u001b[0;34m=\u001b[0m \u001b[0mdata\u001b[0m\u001b[0;34m.\u001b[0m\u001b[0mbatch\u001b[0m\u001b[0;34m(\u001b[0m\u001b[0mbatch_size\u001b[0m\u001b[0;34m)\u001b[0m\u001b[0;34m\u001b[0m\u001b[0;34m\u001b[0m\u001b[0m\n\u001b[1;32m      4\u001b[0m \u001b[0mdata_batch\u001b[0m\u001b[0;34m\u001b[0m\u001b[0;34m\u001b[0m\u001b[0m\n",
            "\u001b[0;32m/usr/local/lib/python3.7/dist-packages/tensorflow/python/framework/constant_op.py\u001b[0m in \u001b[0;36mconstant\u001b[0;34m(value, dtype, shape, name)\u001b[0m\n\u001b[1;32m    263\u001b[0m   \"\"\"\n\u001b[1;32m    264\u001b[0m   return _constant_impl(value, dtype, shape, name, verify_shape=False,\n\u001b[0;32m--> 265\u001b[0;31m                         allow_broadcast=True)\n\u001b[0m\u001b[1;32m    266\u001b[0m \u001b[0;34m\u001b[0m\u001b[0m\n\u001b[1;32m    267\u001b[0m \u001b[0;34m\u001b[0m\u001b[0m\n",
            "\u001b[0;32m/usr/local/lib/python3.7/dist-packages/tensorflow/python/framework/constant_op.py\u001b[0m in \u001b[0;36m_constant_impl\u001b[0;34m(value, dtype, shape, name, verify_shape, allow_broadcast)\u001b[0m\n\u001b[1;32m    274\u001b[0m       \u001b[0;32mwith\u001b[0m \u001b[0mtrace\u001b[0m\u001b[0;34m.\u001b[0m\u001b[0mTrace\u001b[0m\u001b[0;34m(\u001b[0m\u001b[0;34m\"tf.constant\"\u001b[0m\u001b[0;34m)\u001b[0m\u001b[0;34m:\u001b[0m\u001b[0;34m\u001b[0m\u001b[0;34m\u001b[0m\u001b[0m\n\u001b[1;32m    275\u001b[0m         \u001b[0;32mreturn\u001b[0m \u001b[0m_constant_eager_impl\u001b[0m\u001b[0;34m(\u001b[0m\u001b[0mctx\u001b[0m\u001b[0;34m,\u001b[0m \u001b[0mvalue\u001b[0m\u001b[0;34m,\u001b[0m \u001b[0mdtype\u001b[0m\u001b[0;34m,\u001b[0m \u001b[0mshape\u001b[0m\u001b[0;34m,\u001b[0m \u001b[0mverify_shape\u001b[0m\u001b[0;34m)\u001b[0m\u001b[0;34m\u001b[0m\u001b[0;34m\u001b[0m\u001b[0m\n\u001b[0;32m--> 276\u001b[0;31m     \u001b[0;32mreturn\u001b[0m \u001b[0m_constant_eager_impl\u001b[0m\u001b[0;34m(\u001b[0m\u001b[0mctx\u001b[0m\u001b[0;34m,\u001b[0m \u001b[0mvalue\u001b[0m\u001b[0;34m,\u001b[0m \u001b[0mdtype\u001b[0m\u001b[0;34m,\u001b[0m \u001b[0mshape\u001b[0m\u001b[0;34m,\u001b[0m \u001b[0mverify_shape\u001b[0m\u001b[0;34m)\u001b[0m\u001b[0;34m\u001b[0m\u001b[0;34m\u001b[0m\u001b[0m\n\u001b[0m\u001b[1;32m    277\u001b[0m \u001b[0;34m\u001b[0m\u001b[0m\n\u001b[1;32m    278\u001b[0m   \u001b[0mg\u001b[0m \u001b[0;34m=\u001b[0m \u001b[0mops\u001b[0m\u001b[0;34m.\u001b[0m\u001b[0mget_default_graph\u001b[0m\u001b[0;34m(\u001b[0m\u001b[0;34m)\u001b[0m\u001b[0;34m\u001b[0m\u001b[0;34m\u001b[0m\u001b[0m\n",
            "\u001b[0;32m/usr/local/lib/python3.7/dist-packages/tensorflow/python/framework/constant_op.py\u001b[0m in \u001b[0;36m_constant_eager_impl\u001b[0;34m(ctx, value, dtype, shape, verify_shape)\u001b[0m\n\u001b[1;32m    299\u001b[0m \u001b[0;32mdef\u001b[0m \u001b[0m_constant_eager_impl\u001b[0m\u001b[0;34m(\u001b[0m\u001b[0mctx\u001b[0m\u001b[0;34m,\u001b[0m \u001b[0mvalue\u001b[0m\u001b[0;34m,\u001b[0m \u001b[0mdtype\u001b[0m\u001b[0;34m,\u001b[0m \u001b[0mshape\u001b[0m\u001b[0;34m,\u001b[0m \u001b[0mverify_shape\u001b[0m\u001b[0;34m)\u001b[0m\u001b[0;34m:\u001b[0m\u001b[0;34m\u001b[0m\u001b[0;34m\u001b[0m\u001b[0m\n\u001b[1;32m    300\u001b[0m   \u001b[0;34m\"\"\"Implementation of eager constant.\"\"\"\u001b[0m\u001b[0;34m\u001b[0m\u001b[0;34m\u001b[0m\u001b[0m\n\u001b[0;32m--> 301\u001b[0;31m   \u001b[0mt\u001b[0m \u001b[0;34m=\u001b[0m \u001b[0mconvert_to_eager_tensor\u001b[0m\u001b[0;34m(\u001b[0m\u001b[0mvalue\u001b[0m\u001b[0;34m,\u001b[0m \u001b[0mctx\u001b[0m\u001b[0;34m,\u001b[0m \u001b[0mdtype\u001b[0m\u001b[0;34m)\u001b[0m\u001b[0;34m\u001b[0m\u001b[0;34m\u001b[0m\u001b[0m\n\u001b[0m\u001b[1;32m    302\u001b[0m   \u001b[0;32mif\u001b[0m \u001b[0mshape\u001b[0m \u001b[0;32mis\u001b[0m \u001b[0;32mNone\u001b[0m\u001b[0;34m:\u001b[0m\u001b[0;34m\u001b[0m\u001b[0;34m\u001b[0m\u001b[0m\n\u001b[1;32m    303\u001b[0m     \u001b[0;32mreturn\u001b[0m \u001b[0mt\u001b[0m\u001b[0;34m\u001b[0m\u001b[0;34m\u001b[0m\u001b[0m\n",
            "\u001b[0;32m/usr/local/lib/python3.7/dist-packages/tensorflow/python/framework/constant_op.py\u001b[0m in \u001b[0;36mconvert_to_eager_tensor\u001b[0;34m(value, ctx, dtype)\u001b[0m\n\u001b[1;32m     88\u001b[0m     \u001b[0;32mif\u001b[0m \u001b[0mdtype\u001b[0m \u001b[0;32mis\u001b[0m \u001b[0;32mnot\u001b[0m \u001b[0;32mNone\u001b[0m \u001b[0;32mand\u001b[0m \u001b[0mvalue\u001b[0m\u001b[0;34m.\u001b[0m\u001b[0mdtype\u001b[0m \u001b[0;34m!=\u001b[0m \u001b[0mdtype\u001b[0m\u001b[0;34m:\u001b[0m\u001b[0;34m\u001b[0m\u001b[0;34m\u001b[0m\u001b[0m\n\u001b[1;32m     89\u001b[0m       raise TypeError(\"Expected tensor with type %r not %r\" % (\n\u001b[0;32m---> 90\u001b[0;31m           dtype, value.dtype))\n\u001b[0m\u001b[1;32m     91\u001b[0m     \u001b[0;32mreturn\u001b[0m \u001b[0mvalue\u001b[0m\u001b[0;34m\u001b[0m\u001b[0;34m\u001b[0m\u001b[0m\n\u001b[1;32m     92\u001b[0m   \u001b[0;32mif\u001b[0m \u001b[0mdtype\u001b[0m \u001b[0;32mis\u001b[0m \u001b[0;32mnot\u001b[0m \u001b[0;32mNone\u001b[0m\u001b[0;34m:\u001b[0m\u001b[0;34m\u001b[0m\u001b[0;34m\u001b[0m\u001b[0m\n",
            "\u001b[0;31mTypeError\u001b[0m: Expected tensor with type <tf.Tensor: shape=(87000, 29), dtype=bool, numpy=\narray([[False,  True, False, ..., False, False, False],\n       [ True, False, False, ..., False, False, False],\n       [False, False, False, ..., False, False, False],\n       ...,\n       [False, False, False, ..., False, False, False],\n       [False, False, False, ..., False, False, False],\n       [False, False, False, ..., False, False, False]])> not tf.string"
          ]
        }
      ]
    },
    {
      "cell_type": "code",
      "metadata": {
        "id": "g9Iri10IuJiz"
      },
      "source": [
        "#building model_7 feature vector \n",
        "import tensorflow as tf\n",
        "import tensorflow_hub as hub\n",
        "from tensorflow import keras\n",
        "from tensorflow.keras import layers\n",
        "from tensorflow.keras.layers.experimental import preprocessing \n",
        "\n",
        "\n",
        "# EfficientNet0 feature vector\n",
        "efficientnet_url = \"https://tfhub.dev/tensorflow/efficientnet/lite0/feature-vector/2\""
      ],
      "execution_count": null,
      "outputs": []
    },
    {
      "cell_type": "code",
      "metadata": {
        "id": "Rh_t3pZJEpwt"
      },
      "source": [
        "# Create a data augmentation stage with horizontal flipping, rotations, zooms\n",
        "data_augmentation = keras.Sequential([\n",
        "  preprocessing.RandomFlip(\"horizontal\"),\n",
        "  preprocessing.RandomRotation(0.2),\n",
        "  preprocessing.RandomZoom(0.2),\n",
        "  preprocessing.RandomHeight(0.2),\n",
        "  preprocessing.RandomWidth(0.2),\n",
        "  # preprocessing.Rescaling(1./255) # keep for ResNet50V2, remove for EfficientNetB0\n",
        "], name =\"data_augmentation\")"
      ],
      "execution_count": null,
      "outputs": []
    },
    {
      "cell_type": "code",
      "metadata": {
        "colab": {
          "base_uri": "https://localhost:8080/"
        },
        "id": "Tud7iwfMweFX",
        "outputId": "1d8ac1c9-08a9-440f-8175-08a93b68ba96"
      },
      "source": [
        "#Building functional model with keras.applications API \n",
        "input_shape = (200, 200, 3)\n",
        "model7= tf.keras.applications.EfficientNetB0(include_top=False)\n",
        "model7.trainalbe = False\n",
        "inputs = tf.keras.layers.Input(shape= input_shape, name=\"input_layer\")\n",
        "#x = data_augmentation(inputs)\n",
        "#x = tf.keras.layers.experimental.preprocessing.Rescaling(1./255)(inputs)\n",
        "x = model7(inputs)\n",
        "x = tf.keras.layers.GlobalAveragePooling2D()(x)\n",
        "outputs =tf.keras.layers.Dense(29, activation=\"softmax\")(x)\n",
        "model7=keras.Model(inputs, outputs)\n",
        "\n",
        "\n",
        "# Compile\n",
        "model7.compile(loss='categorical_crossentropy',\n",
        "                     optimizer=tf.keras.optimizers.Adam(0.000023),\n",
        "                     metrics=['accuracy'])\n",
        "\n",
        "\n",
        "# Build the model\n",
        "model7.build((200, 200, 3))\n",
        "\n",
        "# Fit the model\n",
        "#model7.fit(x= train_data,\n",
        "            #epochs= 5)\n",
        "history7 = model7.fit(x = train_data,\n",
        "                      epochs=20)\n"
      ],
      "execution_count": null,
      "outputs": [
        {
          "output_type": "stream",
          "text": [
            "Epoch 1/20\n",
            "250/250 [==============================] - 52s 179ms/step - loss: 2.7911 - accuracy: 0.3475\n",
            "Epoch 2/20\n",
            "250/250 [==============================] - 45s 178ms/step - loss: 1.3439 - accuracy: 0.8320\n",
            "Epoch 3/20\n",
            "250/250 [==============================] - 45s 178ms/step - loss: 0.5280 - accuracy: 0.9474\n",
            "Epoch 4/20\n",
            "250/250 [==============================] - 45s 179ms/step - loss: 0.2522 - accuracy: 0.9743\n",
            "Epoch 5/20\n",
            "250/250 [==============================] - 44s 177ms/step - loss: 0.1460 - accuracy: 0.9819\n",
            "Epoch 6/20\n",
            "250/250 [==============================] - 45s 178ms/step - loss: 0.0918 - accuracy: 0.9909\n",
            "Epoch 7/20\n",
            "250/250 [==============================] - 44s 178ms/step - loss: 0.0675 - accuracy: 0.9925\n",
            "Epoch 8/20\n",
            "250/250 [==============================] - 45s 178ms/step - loss: 0.0489 - accuracy: 0.9951\n",
            "Epoch 9/20\n",
            "250/250 [==============================] - 45s 178ms/step - loss: 0.0360 - accuracy: 0.9967\n",
            "Epoch 10/20\n",
            "250/250 [==============================] - 44s 178ms/step - loss: 0.0292 - accuracy: 0.9975\n",
            "Epoch 11/20\n",
            "250/250 [==============================] - 45s 178ms/step - loss: 0.0217 - accuracy: 0.9985\n",
            "Epoch 12/20\n",
            "250/250 [==============================] - 45s 179ms/step - loss: 0.0195 - accuracy: 0.9981\n",
            "Epoch 13/20\n",
            "250/250 [==============================] - 45s 178ms/step - loss: 0.0171 - accuracy: 0.9983\n",
            "Epoch 14/20\n",
            "250/250 [==============================] - 44s 178ms/step - loss: 0.0128 - accuracy: 0.9985\n",
            "Epoch 15/20\n",
            "250/250 [==============================] - 45s 178ms/step - loss: 0.0117 - accuracy: 0.9985\n",
            "Epoch 16/20\n",
            "250/250 [==============================] - 44s 178ms/step - loss: 0.0107 - accuracy: 0.9989\n",
            "Epoch 17/20\n",
            "250/250 [==============================] - 45s 179ms/step - loss: 0.0084 - accuracy: 0.9987\n",
            "Epoch 18/20\n",
            "250/250 [==============================] - 44s 178ms/step - loss: 0.0083 - accuracy: 0.9990\n",
            "Epoch 19/20\n",
            "250/250 [==============================] - 45s 178ms/step - loss: 0.0068 - accuracy: 0.9992\n",
            "Epoch 20/20\n",
            "250/250 [==============================] - 45s 178ms/step - loss: 0.0062 - accuracy: 0.9991\n"
          ],
          "name": "stdout"
        }
      ]
    },
    {
      "cell_type": "code",
      "metadata": {
        "id": "daqx1KBKeK6Q",
        "colab": {
          "base_uri": "https://localhost:8080/",
          "height": 265
        },
        "outputId": "54a44b87-6efb-4c4a-99c4-28760216e7bf"
      },
      "source": [
        "pd.DataFrame(history7.history).plot();"
      ],
      "execution_count": null,
      "outputs": [
        {
          "output_type": "display_data",
          "data": {
            "image/png": "[encoded data removed]",
            "text/plain": [
              "<Figure size 432x288 with 1 Axes>"
            ]
          },
          "metadata": {
            "tags": [],
            "needs_background": "light"
          }
        }
      ]
    },
    {
      "cell_type": "code",
      "metadata": {
        "id": "YF5KyUQLnoG0",
        "colab": {
          "base_uri": "https://localhost:8080/"
        },
        "outputId": "5eb6889f-054f-4491-fb38-d768755b1e9d"
      },
      "source": [
        "model7.evaluate(val_data)"
      ],
      "execution_count": null,
      "outputs": [
        {
          "output_type": "stream",
          "text": [
            "63/63 [==============================] - 3s 33ms/step - loss: 1.2309 - accuracy: 0.6300\n"
          ],
          "name": "stdout"
        },
        {
          "output_type": "execute_result",
          "data": {
            "text/plain": [
              "[1.2308982610702515, 0.6299999952316284]"
            ]
          },
          "metadata": {
            "tags": []
          },
          "execution_count": 47
        }
      ]
    },
    {
      "cell_type": "code",
      "metadata": {
        "id": "uWmol60h4v4I"
      },
      "source": [
        "#splitting the data one more time for the final evaluation \n",
        "from sklearn.model_selection import train_test_split\n",
        "\n",
        "X_train, X_val, y_train, y_val = train_test_split(X, y, test_size=0.2)"
      ],
      "execution_count": null,
      "outputs": []
    },
    {
      "cell_type": "code",
      "metadata": {
        "id": "akAfV3ky8Dm-",
        "colab": {
          "base_uri": "https://localhost:8080/"
        },
        "outputId": "6edd72ab-3a78-4764-ad53-796f9a0acbfc"
      },
      "source": [
        "#Building functional model with keras.applications API \n",
        "input_shape = (200, 200, 3)\n",
        "model7= tf.keras.applications.EfficientNetB0(include_top=False)\n",
        "model7.trainalbe = False\n",
        "inputs = tf.keras.layers.Input(shape= input_shape, name=\"input_layer\")\n",
        "#x = data_augmentation(inputs)\n",
        "#x = tf.keras.layers.experimental.preprocessing.Rescaling(1./255)(inputs)\n",
        "x = model7(inputs)\n",
        "x = tf.keras.layers.GlobalAveragePooling2D()(x)\n",
        "outputs =tf.keras.layers.Dense(29, activation=\"softmax\")(x)\n",
        "model7=keras.Model(inputs, outputs)\n",
        "\n",
        "\n",
        "# Compile\n",
        "model7.compile(loss='categorical_crossentropy',\n",
        "                     optimizer=tf.keras.optimizers.Adam(0.000023),\n",
        "                     metrics=['accuracy'])\n",
        "\n",
        "\n",
        "# Build the model\n",
        "model7.build((200, 200, 3))\n",
        "\n",
        "# Fit the model\n",
        "#model7.fit(x= train_data,\n",
        "            #epochs= 5)\n",
        "history7 = model7.fit(x = train_data,\n",
        "                      epochs=20)"
      ],
      "execution_count": null,
      "outputs": [
        {
          "output_type": "stream",
          "text": [
            "Epoch 1/20\n",
            "250/250 [==============================] - 51s 174ms/step - loss: 2.8340 - accuracy: 0.3321\n",
            "Epoch 2/20\n",
            "250/250 [==============================] - 43s 174ms/step - loss: 1.5130 - accuracy: 0.7878\n",
            "Epoch 3/20\n",
            "250/250 [==============================] - 43s 174ms/step - loss: 0.6460 - accuracy: 0.9254\n",
            "Epoch 4/20\n",
            "250/250 [==============================] - 44s 174ms/step - loss: 0.2936 - accuracy: 0.9666\n",
            "Epoch 5/20\n",
            "250/250 [==============================] - 44s 174ms/step - loss: 0.1692 - accuracy: 0.9812\n",
            "Epoch 6/20\n",
            "250/250 [==============================] - 44s 174ms/step - loss: 0.1048 - accuracy: 0.9887\n",
            "Epoch 7/20\n",
            "250/250 [==============================] - 44s 174ms/step - loss: 0.0729 - accuracy: 0.9901\n",
            "Epoch 8/20\n",
            "250/250 [==============================] - 43s 174ms/step - loss: 0.0545 - accuracy: 0.9935\n",
            "Epoch 9/20\n",
            "250/250 [==============================] - 44s 174ms/step - loss: 0.0406 - accuracy: 0.9961\n",
            "Epoch 10/20\n",
            "250/250 [==============================] - 43s 173ms/step - loss: 0.0290 - accuracy: 0.9979\n",
            "Epoch 11/20\n",
            "250/250 [==============================] - 44s 174ms/step - loss: 0.0245 - accuracy: 0.9973\n",
            "Epoch 12/20\n",
            "250/250 [==============================] - 44s 175ms/step - loss: 0.0190 - accuracy: 0.9980\n",
            "Epoch 13/20\n",
            "250/250 [==============================] - 44s 175ms/step - loss: 0.0168 - accuracy: 0.9983\n",
            "Epoch 14/20\n",
            "250/250 [==============================] - 44s 174ms/step - loss: 0.0160 - accuracy: 0.9977\n",
            "Epoch 15/20\n",
            "250/250 [==============================] - 44s 174ms/step - loss: 0.0139 - accuracy: 0.9986\n",
            "Epoch 16/20\n",
            "250/250 [==============================] - 44s 175ms/step - loss: 0.0108 - accuracy: 0.9987\n",
            "Epoch 17/20\n",
            "250/250 [==============================] - 43s 174ms/step - loss: 0.0098 - accuracy: 0.9990\n",
            "Epoch 18/20\n",
            "250/250 [==============================] - 44s 174ms/step - loss: 0.0072 - accuracy: 0.9992\n",
            "Epoch 19/20\n",
            "250/250 [==============================] - 44s 174ms/step - loss: 0.0069 - accuracy: 0.9994\n",
            "Epoch 20/20\n",
            "250/250 [==============================] - 44s 174ms/step - loss: 0.0061 - accuracy: 0.9995\n"
          ],
          "name": "stdout"
        }
      ]
    },
    {
      "cell_type": "code",
      "metadata": {
        "id": "TkuCdkFKAE_x",
        "colab": {
          "base_uri": "https://localhost:8080/",
          "height": 350
        },
        "outputId": "faed64bc-6da2-45b7-a741-5596383b43ea"
      },
      "source": [
        "#X_val = np.array(X_val)\n",
        "#y_val = np.array(y_val)\n",
        "\n",
        "#X_test = tf.constant(X_val)\n",
        "#y_test = tf.constant(y_val)\n",
        "\n",
        "X_test = tf.reshape(X_val)\n",
        "\n",
        "X_test.tonumpy()[0]\n",
        "\n"
      ],
      "execution_count": null,
      "outputs": [
        {
          "output_type": "error",
          "ename": "TypeError",
          "evalue": "ignored",
          "traceback": [
            "\u001b[0;31m---------------------------------------------------------------------------\u001b[0m",
            "\u001b[0;31mTypeError\u001b[0m                                 Traceback (most recent call last)",
            "\u001b[0;32m<ipython-input-68-990f8c80517a>\u001b[0m in \u001b[0;36m<module>\u001b[0;34m()\u001b[0m\n\u001b[1;32m      5\u001b[0m \u001b[0;31m#y_test = tf.constant(y_val)\u001b[0m\u001b[0;34m\u001b[0m\u001b[0;34m\u001b[0m\u001b[0;34m\u001b[0m\u001b[0m\n\u001b[1;32m      6\u001b[0m \u001b[0;34m\u001b[0m\u001b[0m\n\u001b[0;32m----> 7\u001b[0;31m \u001b[0mX_test\u001b[0m \u001b[0;34m=\u001b[0m \u001b[0mtf\u001b[0m\u001b[0;34m.\u001b[0m\u001b[0mreshape\u001b[0m\u001b[0;34m(\u001b[0m\u001b[0mX_val\u001b[0m\u001b[0;34m)\u001b[0m\u001b[0;34m\u001b[0m\u001b[0;34m\u001b[0m\u001b[0m\n\u001b[0m\u001b[1;32m      8\u001b[0m \u001b[0;34m\u001b[0m\u001b[0m\n\u001b[1;32m      9\u001b[0m \u001b[0mX_test\u001b[0m\u001b[0;34m.\u001b[0m\u001b[0mtonumpy\u001b[0m\u001b[0;34m(\u001b[0m\u001b[0;34m)\u001b[0m\u001b[0;34m[\u001b[0m\u001b[0;36m0\u001b[0m\u001b[0;34m]\u001b[0m\u001b[0;34m\u001b[0m\u001b[0;34m\u001b[0m\u001b[0m\n",
            "\u001b[0;32m/usr/local/lib/python3.7/dist-packages/tensorflow/python/util/dispatch.py\u001b[0m in \u001b[0;36mwrapper\u001b[0;34m(*args, **kwargs)\u001b[0m\n\u001b[1;32m    204\u001b[0m     \u001b[0;34m\"\"\"Call target, and fall back on dispatchers if there is a TypeError.\"\"\"\u001b[0m\u001b[0;34m\u001b[0m\u001b[0;34m\u001b[0m\u001b[0m\n\u001b[1;32m    205\u001b[0m     \u001b[0;32mtry\u001b[0m\u001b[0;34m:\u001b[0m\u001b[0;34m\u001b[0m\u001b[0;34m\u001b[0m\u001b[0m\n\u001b[0;32m--> 206\u001b[0;31m       \u001b[0;32mreturn\u001b[0m \u001b[0mtarget\u001b[0m\u001b[0;34m(\u001b[0m\u001b[0;34m*\u001b[0m\u001b[0margs\u001b[0m\u001b[0;34m,\u001b[0m \u001b[0;34m**\u001b[0m\u001b[0mkwargs\u001b[0m\u001b[0;34m)\u001b[0m\u001b[0;34m\u001b[0m\u001b[0;34m\u001b[0m\u001b[0m\n\u001b[0m\u001b[1;32m    207\u001b[0m     \u001b[0;32mexcept\u001b[0m \u001b[0;34m(\u001b[0m\u001b[0mTypeError\u001b[0m\u001b[0;34m,\u001b[0m \u001b[0mValueError\u001b[0m\u001b[0;34m)\u001b[0m\u001b[0;34m:\u001b[0m\u001b[0;34m\u001b[0m\u001b[0;34m\u001b[0m\u001b[0m\n\u001b[1;32m    208\u001b[0m       \u001b[0;31m# Note: convert_to_eager_tensor currently raises a ValueError, not a\u001b[0m\u001b[0;34m\u001b[0m\u001b[0;34m\u001b[0m\u001b[0;34m\u001b[0m\u001b[0m\n",
            "\u001b[0;31mTypeError\u001b[0m: reshape() missing 1 required positional argument: 'shape'"
          ]
        }
      ]
    },
    {
      "cell_type": "code",
      "metadata": {
        "id": "50nwZnInBrYr",
        "colab": {
          "base_uri": "https://localhost:8080/",
          "height": 1000
        },
        "outputId": "9a2f77fb-81d9-4ecb-e17d-8e83b734fb59"
      },
      "source": [
        "model7.evaluate(X_test, y_test)"
      ],
      "execution_count": null,
      "outputs": [
        {
          "output_type": "stream",
          "text": [
            "WARNING:tensorflow:Model was constructed with shape (None, 200, 200, 3) for input KerasTensor(type_spec=TensorSpec(shape=(None, 200, 200, 3), dtype=tf.float32, name='input_layer'), name='input_layer', description=\"created by layer 'input_layer'\"), but it was called on an input with incompatible shape (None, 1).\n",
            "WARNING:tensorflow:Model was constructed with shape (None, None, None, 3) for input KerasTensor(type_spec=TensorSpec(shape=(None, None, None, 3), dtype=tf.float32, name='input_9'), name='input_9', description=\"created by layer 'input_9'\"), but it was called on an input with incompatible shape (None, 1).\n"
          ],
          "name": "stdout"
        },
        {
          "output_type": "error",
          "ename": "ValueError",
          "evalue": "ignored",
          "traceback": [
            "\u001b[0;31m---------------------------------------------------------------------------\u001b[0m",
            "\u001b[0;31mValueError\u001b[0m                                Traceback (most recent call last)",
            "\u001b[0;32m<ipython-input-62-c657009ab607>\u001b[0m in \u001b[0;36m<module>\u001b[0;34m()\u001b[0m\n\u001b[0;32m----> 1\u001b[0;31m \u001b[0mmodel7\u001b[0m\u001b[0;34m.\u001b[0m\u001b[0mevaluate\u001b[0m\u001b[0;34m(\u001b[0m\u001b[0mX_test\u001b[0m\u001b[0;34m,\u001b[0m \u001b[0my_test\u001b[0m\u001b[0;34m)\u001b[0m\u001b[0;34m\u001b[0m\u001b[0;34m\u001b[0m\u001b[0m\n\u001b[0m",
            "\u001b[0;32m/usr/local/lib/python3.7/dist-packages/tensorflow/python/keras/engine/training.py\u001b[0m in \u001b[0;36mevaluate\u001b[0;34m(self, x, y, batch_size, verbose, sample_weight, steps, callbacks, max_queue_size, workers, use_multiprocessing, return_dict, **kwargs)\u001b[0m\n\u001b[1;32m   1487\u001b[0m             \u001b[0;32mwith\u001b[0m \u001b[0mtrace\u001b[0m\u001b[0;34m.\u001b[0m\u001b[0mTrace\u001b[0m\u001b[0;34m(\u001b[0m\u001b[0;34m'test'\u001b[0m\u001b[0;34m,\u001b[0m \u001b[0mstep_num\u001b[0m\u001b[0;34m=\u001b[0m\u001b[0mstep\u001b[0m\u001b[0;34m,\u001b[0m \u001b[0m_r\u001b[0m\u001b[0;34m=\u001b[0m\u001b[0;36m1\u001b[0m\u001b[0;34m)\u001b[0m\u001b[0;34m:\u001b[0m\u001b[0;34m\u001b[0m\u001b[0;34m\u001b[0m\u001b[0m\n\u001b[1;32m   1488\u001b[0m               \u001b[0mcallbacks\u001b[0m\u001b[0;34m.\u001b[0m\u001b[0mon_test_batch_begin\u001b[0m\u001b[0;34m(\u001b[0m\u001b[0mstep\u001b[0m\u001b[0;34m)\u001b[0m\u001b[0;34m\u001b[0m\u001b[0;34m\u001b[0m\u001b[0m\n\u001b[0;32m-> 1489\u001b[0;31m               \u001b[0mtmp_logs\u001b[0m \u001b[0;34m=\u001b[0m \u001b[0mself\u001b[0m\u001b[0;34m.\u001b[0m\u001b[0mtest_function\u001b[0m\u001b[0;34m(\u001b[0m\u001b[0miterator\u001b[0m\u001b[0;34m)\u001b[0m\u001b[0;34m\u001b[0m\u001b[0;34m\u001b[0m\u001b[0m\n\u001b[0m\u001b[1;32m   1490\u001b[0m               \u001b[0;32mif\u001b[0m \u001b[0mdata_handler\u001b[0m\u001b[0;34m.\u001b[0m\u001b[0mshould_sync\u001b[0m\u001b[0;34m:\u001b[0m\u001b[0;34m\u001b[0m\u001b[0;34m\u001b[0m\u001b[0m\n\u001b[1;32m   1491\u001b[0m                 \u001b[0mcontext\u001b[0m\u001b[0;34m.\u001b[0m\u001b[0masync_wait\u001b[0m\u001b[0;34m(\u001b[0m\u001b[0;34m)\u001b[0m\u001b[0;34m\u001b[0m\u001b[0;34m\u001b[0m\u001b[0m\n",
            "\u001b[0;32m/usr/local/lib/python3.7/dist-packages/tensorflow/python/eager/def_function.py\u001b[0m in \u001b[0;36m__call__\u001b[0;34m(self, *args, **kwds)\u001b[0m\n\u001b[1;32m    887\u001b[0m \u001b[0;34m\u001b[0m\u001b[0m\n\u001b[1;32m    888\u001b[0m       \u001b[0;32mwith\u001b[0m \u001b[0mOptionalXlaContext\u001b[0m\u001b[0;34m(\u001b[0m\u001b[0mself\u001b[0m\u001b[0;34m.\u001b[0m\u001b[0m_jit_compile\u001b[0m\u001b[0;34m)\u001b[0m\u001b[0;34m:\u001b[0m\u001b[0;34m\u001b[0m\u001b[0;34m\u001b[0m\u001b[0m\n\u001b[0;32m--> 889\u001b[0;31m         \u001b[0mresult\u001b[0m \u001b[0;34m=\u001b[0m \u001b[0mself\u001b[0m\u001b[0;34m.\u001b[0m\u001b[0m_call\u001b[0m\u001b[0;34m(\u001b[0m\u001b[0;34m*\u001b[0m\u001b[0margs\u001b[0m\u001b[0;34m,\u001b[0m \u001b[0;34m**\u001b[0m\u001b[0mkwds\u001b[0m\u001b[0;34m)\u001b[0m\u001b[0;34m\u001b[0m\u001b[0;34m\u001b[0m\u001b[0m\n\u001b[0m\u001b[1;32m    890\u001b[0m \u001b[0;34m\u001b[0m\u001b[0m\n\u001b[1;32m    891\u001b[0m       \u001b[0mnew_tracing_count\u001b[0m \u001b[0;34m=\u001b[0m \u001b[0mself\u001b[0m\u001b[0;34m.\u001b[0m\u001b[0mexperimental_get_tracing_count\u001b[0m\u001b[0;34m(\u001b[0m\u001b[0;34m)\u001b[0m\u001b[0;34m\u001b[0m\u001b[0;34m\u001b[0m\u001b[0m\n",
            "\u001b[0;32m/usr/local/lib/python3.7/dist-packages/tensorflow/python/eager/def_function.py\u001b[0m in \u001b[0;36m_call\u001b[0;34m(self, *args, **kwds)\u001b[0m\n\u001b[1;32m    922\u001b[0m       \u001b[0;31m# In this case we have not created variables on the first call. So we can\u001b[0m\u001b[0;34m\u001b[0m\u001b[0;34m\u001b[0m\u001b[0;34m\u001b[0m\u001b[0m\n\u001b[1;32m    923\u001b[0m       \u001b[0;31m# run the first trace but we should fail if variables are created.\u001b[0m\u001b[0;34m\u001b[0m\u001b[0;34m\u001b[0m\u001b[0;34m\u001b[0m\u001b[0m\n\u001b[0;32m--> 924\u001b[0;31m       \u001b[0mresults\u001b[0m \u001b[0;34m=\u001b[0m \u001b[0mself\u001b[0m\u001b[0;34m.\u001b[0m\u001b[0m_stateful_fn\u001b[0m\u001b[0;34m(\u001b[0m\u001b[0;34m*\u001b[0m\u001b[0margs\u001b[0m\u001b[0;34m,\u001b[0m \u001b[0;34m**\u001b[0m\u001b[0mkwds\u001b[0m\u001b[0;34m)\u001b[0m\u001b[0;34m\u001b[0m\u001b[0;34m\u001b[0m\u001b[0m\n\u001b[0m\u001b[1;32m    925\u001b[0m       \u001b[0;32mif\u001b[0m \u001b[0mself\u001b[0m\u001b[0;34m.\u001b[0m\u001b[0m_created_variables\u001b[0m\u001b[0;34m:\u001b[0m\u001b[0;34m\u001b[0m\u001b[0;34m\u001b[0m\u001b[0m\n\u001b[1;32m    926\u001b[0m         raise ValueError(\"Creating variables on a non-first call to a function\"\n",
            "\u001b[0;32m/usr/local/lib/python3.7/dist-packages/tensorflow/python/eager/function.py\u001b[0m in \u001b[0;36m__call__\u001b[0;34m(self, *args, **kwargs)\u001b[0m\n\u001b[1;32m   3020\u001b[0m     \u001b[0;32mwith\u001b[0m \u001b[0mself\u001b[0m\u001b[0;34m.\u001b[0m\u001b[0m_lock\u001b[0m\u001b[0;34m:\u001b[0m\u001b[0;34m\u001b[0m\u001b[0;34m\u001b[0m\u001b[0m\n\u001b[1;32m   3021\u001b[0m       (graph_function,\n\u001b[0;32m-> 3022\u001b[0;31m        filtered_flat_args) = self._maybe_define_function(args, kwargs)\n\u001b[0m\u001b[1;32m   3023\u001b[0m     return graph_function._call_flat(\n\u001b[1;32m   3024\u001b[0m         filtered_flat_args, captured_inputs=graph_function.captured_inputs)  # pylint: disable=protected-access\n",
            "\u001b[0;32m/usr/local/lib/python3.7/dist-packages/tensorflow/python/eager/function.py\u001b[0m in \u001b[0;36m_maybe_define_function\u001b[0;34m(self, args, kwargs)\u001b[0m\n\u001b[1;32m   3439\u001b[0m               call_context_key in self._function_cache.missed):\n\u001b[1;32m   3440\u001b[0m             return self._define_function_with_shape_relaxation(\n\u001b[0;32m-> 3441\u001b[0;31m                 args, kwargs, flat_args, filtered_flat_args, cache_key_context)\n\u001b[0m\u001b[1;32m   3442\u001b[0m \u001b[0;34m\u001b[0m\u001b[0m\n\u001b[1;32m   3443\u001b[0m           \u001b[0mself\u001b[0m\u001b[0;34m.\u001b[0m\u001b[0m_function_cache\u001b[0m\u001b[0;34m.\u001b[0m\u001b[0mmissed\u001b[0m\u001b[0;34m.\u001b[0m\u001b[0madd\u001b[0m\u001b[0;34m(\u001b[0m\u001b[0mcall_context_key\u001b[0m\u001b[0;34m)\u001b[0m\u001b[0;34m\u001b[0m\u001b[0;34m\u001b[0m\u001b[0m\n",
            "\u001b[0;32m/usr/local/lib/python3.7/dist-packages/tensorflow/python/eager/function.py\u001b[0m in \u001b[0;36m_define_function_with_shape_relaxation\u001b[0;34m(self, args, kwargs, flat_args, filtered_flat_args, cache_key_context)\u001b[0m\n\u001b[1;32m   3361\u001b[0m \u001b[0;34m\u001b[0m\u001b[0m\n\u001b[1;32m   3362\u001b[0m     graph_function = self._create_graph_function(\n\u001b[0;32m-> 3363\u001b[0;31m         args, kwargs, override_flat_arg_shapes=relaxed_arg_shapes)\n\u001b[0m\u001b[1;32m   3364\u001b[0m     \u001b[0mself\u001b[0m\u001b[0;34m.\u001b[0m\u001b[0m_function_cache\u001b[0m\u001b[0;34m.\u001b[0m\u001b[0marg_relaxed\u001b[0m\u001b[0;34m[\u001b[0m\u001b[0mrank_only_cache_key\u001b[0m\u001b[0;34m]\u001b[0m \u001b[0;34m=\u001b[0m \u001b[0mgraph_function\u001b[0m\u001b[0;34m\u001b[0m\u001b[0;34m\u001b[0m\u001b[0m\n\u001b[1;32m   3365\u001b[0m \u001b[0;34m\u001b[0m\u001b[0m\n",
            "\u001b[0;32m/usr/local/lib/python3.7/dist-packages/tensorflow/python/eager/function.py\u001b[0m in \u001b[0;36m_create_graph_function\u001b[0;34m(self, args, kwargs, override_flat_arg_shapes)\u001b[0m\n\u001b[1;32m   3287\u001b[0m             \u001b[0marg_names\u001b[0m\u001b[0;34m=\u001b[0m\u001b[0marg_names\u001b[0m\u001b[0;34m,\u001b[0m\u001b[0;34m\u001b[0m\u001b[0;34m\u001b[0m\u001b[0m\n\u001b[1;32m   3288\u001b[0m             \u001b[0moverride_flat_arg_shapes\u001b[0m\u001b[0;34m=\u001b[0m\u001b[0moverride_flat_arg_shapes\u001b[0m\u001b[0;34m,\u001b[0m\u001b[0;34m\u001b[0m\u001b[0;34m\u001b[0m\u001b[0m\n\u001b[0;32m-> 3289\u001b[0;31m             capture_by_value=self._capture_by_value),\n\u001b[0m\u001b[1;32m   3290\u001b[0m         \u001b[0mself\u001b[0m\u001b[0;34m.\u001b[0m\u001b[0m_function_attributes\u001b[0m\u001b[0;34m,\u001b[0m\u001b[0;34m\u001b[0m\u001b[0;34m\u001b[0m\u001b[0m\n\u001b[1;32m   3291\u001b[0m         \u001b[0mfunction_spec\u001b[0m\u001b[0;34m=\u001b[0m\u001b[0mself\u001b[0m\u001b[0;34m.\u001b[0m\u001b[0mfunction_spec\u001b[0m\u001b[0;34m,\u001b[0m\u001b[0;34m\u001b[0m\u001b[0;34m\u001b[0m\u001b[0m\n",
            "\u001b[0;32m/usr/local/lib/python3.7/dist-packages/tensorflow/python/framework/func_graph.py\u001b[0m in \u001b[0;36mfunc_graph_from_py_func\u001b[0;34m(name, python_func, args, kwargs, signature, func_graph, autograph, autograph_options, add_control_dependencies, arg_names, op_return_value, collections, capture_by_value, override_flat_arg_shapes)\u001b[0m\n\u001b[1;32m    997\u001b[0m         \u001b[0m_\u001b[0m\u001b[0;34m,\u001b[0m \u001b[0moriginal_func\u001b[0m \u001b[0;34m=\u001b[0m \u001b[0mtf_decorator\u001b[0m\u001b[0;34m.\u001b[0m\u001b[0munwrap\u001b[0m\u001b[0;34m(\u001b[0m\u001b[0mpython_func\u001b[0m\u001b[0;34m)\u001b[0m\u001b[0;34m\u001b[0m\u001b[0;34m\u001b[0m\u001b[0m\n\u001b[1;32m    998\u001b[0m \u001b[0;34m\u001b[0m\u001b[0m\n\u001b[0;32m--> 999\u001b[0;31m       \u001b[0mfunc_outputs\u001b[0m \u001b[0;34m=\u001b[0m \u001b[0mpython_func\u001b[0m\u001b[0;34m(\u001b[0m\u001b[0;34m*\u001b[0m\u001b[0mfunc_args\u001b[0m\u001b[0;34m,\u001b[0m \u001b[0;34m**\u001b[0m\u001b[0mfunc_kwargs\u001b[0m\u001b[0;34m)\u001b[0m\u001b[0;34m\u001b[0m\u001b[0;34m\u001b[0m\u001b[0m\n\u001b[0m\u001b[1;32m   1000\u001b[0m \u001b[0;34m\u001b[0m\u001b[0m\n\u001b[1;32m   1001\u001b[0m       \u001b[0;31m# invariant: `func_outputs` contains only Tensors, CompositeTensors,\u001b[0m\u001b[0;34m\u001b[0m\u001b[0;34m\u001b[0m\u001b[0;34m\u001b[0m\u001b[0m\n",
            "\u001b[0;32m/usr/local/lib/python3.7/dist-packages/tensorflow/python/eager/def_function.py\u001b[0m in \u001b[0;36mwrapped_fn\u001b[0;34m(*args, **kwds)\u001b[0m\n\u001b[1;32m    670\u001b[0m         \u001b[0;31m# the function a weak reference to itself to avoid a reference cycle.\u001b[0m\u001b[0;34m\u001b[0m\u001b[0;34m\u001b[0m\u001b[0;34m\u001b[0m\u001b[0m\n\u001b[1;32m    671\u001b[0m         \u001b[0;32mwith\u001b[0m \u001b[0mOptionalXlaContext\u001b[0m\u001b[0;34m(\u001b[0m\u001b[0mcompile_with_xla\u001b[0m\u001b[0;34m)\u001b[0m\u001b[0;34m:\u001b[0m\u001b[0;34m\u001b[0m\u001b[0;34m\u001b[0m\u001b[0m\n\u001b[0;32m--> 672\u001b[0;31m           \u001b[0mout\u001b[0m \u001b[0;34m=\u001b[0m \u001b[0mweak_wrapped_fn\u001b[0m\u001b[0;34m(\u001b[0m\u001b[0;34m)\u001b[0m\u001b[0;34m.\u001b[0m\u001b[0m__wrapped__\u001b[0m\u001b[0;34m(\u001b[0m\u001b[0;34m*\u001b[0m\u001b[0margs\u001b[0m\u001b[0;34m,\u001b[0m \u001b[0;34m**\u001b[0m\u001b[0mkwds\u001b[0m\u001b[0;34m)\u001b[0m\u001b[0;34m\u001b[0m\u001b[0;34m\u001b[0m\u001b[0m\n\u001b[0m\u001b[1;32m    673\u001b[0m         \u001b[0;32mreturn\u001b[0m \u001b[0mout\u001b[0m\u001b[0;34m\u001b[0m\u001b[0;34m\u001b[0m\u001b[0m\n\u001b[1;32m    674\u001b[0m \u001b[0;34m\u001b[0m\u001b[0m\n",
            "\u001b[0;32m/usr/local/lib/python3.7/dist-packages/tensorflow/python/framework/func_graph.py\u001b[0m in \u001b[0;36mwrapper\u001b[0;34m(*args, **kwargs)\u001b[0m\n\u001b[1;32m    984\u001b[0m           \u001b[0;32mexcept\u001b[0m \u001b[0mException\u001b[0m \u001b[0;32mas\u001b[0m \u001b[0me\u001b[0m\u001b[0;34m:\u001b[0m  \u001b[0;31m# pylint:disable=broad-except\u001b[0m\u001b[0;34m\u001b[0m\u001b[0;34m\u001b[0m\u001b[0m\n\u001b[1;32m    985\u001b[0m             \u001b[0;32mif\u001b[0m \u001b[0mhasattr\u001b[0m\u001b[0;34m(\u001b[0m\u001b[0me\u001b[0m\u001b[0;34m,\u001b[0m \u001b[0;34m\"ag_error_metadata\"\u001b[0m\u001b[0;34m)\u001b[0m\u001b[0;34m:\u001b[0m\u001b[0;34m\u001b[0m\u001b[0;34m\u001b[0m\u001b[0m\n\u001b[0;32m--> 986\u001b[0;31m               \u001b[0;32mraise\u001b[0m \u001b[0me\u001b[0m\u001b[0;34m.\u001b[0m\u001b[0mag_error_metadata\u001b[0m\u001b[0;34m.\u001b[0m\u001b[0mto_exception\u001b[0m\u001b[0;34m(\u001b[0m\u001b[0me\u001b[0m\u001b[0;34m)\u001b[0m\u001b[0;34m\u001b[0m\u001b[0;34m\u001b[0m\u001b[0m\n\u001b[0m\u001b[1;32m    987\u001b[0m             \u001b[0;32melse\u001b[0m\u001b[0;34m:\u001b[0m\u001b[0;34m\u001b[0m\u001b[0;34m\u001b[0m\u001b[0m\n\u001b[1;32m    988\u001b[0m               \u001b[0;32mraise\u001b[0m\u001b[0;34m\u001b[0m\u001b[0;34m\u001b[0m\u001b[0m\n",
            "\u001b[0;31mValueError\u001b[0m: in user code:\n\n    /usr/local/lib/python3.7/dist-packages/tensorflow/python/keras/engine/training.py:1323 test_function  *\n        return step_function(self, iterator)\n    /usr/local/lib/python3.7/dist-packages/tensorflow/python/keras/engine/training.py:1314 step_function  **\n        outputs = model.distribute_strategy.run(run_step, args=(data,))\n    /usr/local/lib/python3.7/dist-packages/tensorflow/python/distribute/distribute_lib.py:1285 run\n        return self._extended.call_for_each_replica(fn, args=args, kwargs=kwargs)\n    /usr/local/lib/python3.7/dist-packages/tensorflow/python/distribute/distribute_lib.py:2833 call_for_each_replica\n        return self._call_for_each_replica(fn, args, kwargs)\n    /usr/local/lib/python3.7/dist-packages/tensorflow/python/distribute/distribute_lib.py:3608 _call_for_each_replica\n        return fn(*args, **kwargs)\n    /usr/local/lib/python3.7/dist-packages/tensorflow/python/keras/engine/training.py:1307 run_step  **\n        outputs = model.test_step(data)\n    /usr/local/lib/python3.7/dist-packages/tensorflow/python/keras/engine/training.py:1266 test_step\n        y_pred = self(x, training=False)\n    /usr/local/lib/python3.7/dist-packages/tensorflow/python/keras/engine/base_layer.py:1030 __call__\n        outputs = call_fn(inputs, *args, **kwargs)\n    /usr/local/lib/python3.7/dist-packages/tensorflow/python/keras/engine/functional.py:421 call\n        inputs, training=training, mask=mask)\n    /usr/local/lib/python3.7/dist-packages/tensorflow/python/keras/engine/functional.py:556 _run_internal_graph\n        outputs = node.layer(*args, **kwargs)\n    /usr/local/lib/python3.7/dist-packages/tensorflow/python/keras/engine/base_layer.py:1030 __call__\n        outputs = call_fn(inputs, *args, **kwargs)\n    /usr/local/lib/python3.7/dist-packages/tensorflow/python/keras/engine/functional.py:421 call\n        inputs, training=training, mask=mask)\n    /usr/local/lib/python3.7/dist-packages/tensorflow/python/keras/engine/functional.py:556 _run_internal_graph\n        outputs = node.layer(*args, **kwargs)\n    /usr/local/lib/python3.7/dist-packages/tensorflow/python/keras/engine/base_layer.py:1030 __call__\n        outputs = call_fn(inputs, *args, **kwargs)\n    /usr/local/lib/python3.7/dist-packages/tensorflow/python/keras/layers/convolutional.py:249 call\n        outputs = self._convolution_op(inputs, self.kernel)\n    /usr/local/lib/python3.7/dist-packages/tensorflow/python/util/dispatch.py:206 wrapper\n        return target(*args, **kwargs)\n    /usr/local/lib/python3.7/dist-packages/tensorflow/python/ops/nn_ops.py:1019 convolution_v2\n        name=name)\n    /usr/local/lib/python3.7/dist-packages/tensorflow/python/ops/nn_ops.py:1149 convolution_internal\n        name=name)\n    /usr/local/lib/python3.7/dist-packages/tensorflow/python/ops/nn_ops.py:2603 _conv2d_expanded_batch\n        name=name)\n    /usr/local/lib/python3.7/dist-packages/tensorflow/python/ops/gen_nn_ops.py:973 conv2d\n        data_format=data_format, dilations=dilations, name=name)\n    /usr/local/lib/python3.7/dist-packages/tensorflow/python/framework/op_def_library.py:750 _apply_op_helper\n        attrs=attr_protos, op_def=op_def)\n    /usr/local/lib/python3.7/dist-packages/tensorflow/python/framework/func_graph.py:601 _create_op_internal\n        compute_device)\n    /usr/local/lib/python3.7/dist-packages/tensorflow/python/framework/ops.py:3565 _create_op_internal\n        op_def=op_def)\n    /usr/local/lib/python3.7/dist-packages/tensorflow/python/framework/ops.py:2042 __init__\n        control_input_ops, op_def)\n    /usr/local/lib/python3.7/dist-packages/tensorflow/python/framework/ops.py:1883 _create_c_op\n        raise ValueError(str(e))\n\n    ValueError: Negative dimension size caused by subtracting 3 from 2 for '{{node model_5/efficientnetb0/stem_conv/Conv2D}} = Conv2D[T=DT_FLOAT, data_format=\"NHWC\", dilations=[1, 1, 1, 1], explicit_paddings=[], padding=\"VALID\", strides=[1, 2, 2, 1], use_cudnn_on_gpu=true](model_5/efficientnetb0/stem_conv_pad/Pad, model_5/efficientnetb0/stem_conv/Conv2D/ReadVariableOp)' with input shapes: [1,2,?,3], [3,3,3,32].\n"
          ]
        }
      ]
    }
  ]
}